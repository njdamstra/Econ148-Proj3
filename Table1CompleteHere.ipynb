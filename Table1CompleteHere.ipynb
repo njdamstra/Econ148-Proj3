{
 "cells": [
  {
   "cell_type": "code",
   "execution_count": 16,
   "id": "880ef66d-5143-4493-b924-d4e8eae933f0",
   "metadata": {},
   "outputs": [],
   "source": [
    "import pandas as pd"
   ]
  },
  {
   "cell_type": "code",
   "execution_count": 17,
   "id": "5419ec39-b67c-4cb9-97be-8c71de1da813",
   "metadata": {},
   "outputs": [
    {
     "data": {
      "text/html": [
       "<div>\n",
       "<style scoped>\n",
       "    .dataframe tbody tr th:only-of-type {\n",
       "        vertical-align: middle;\n",
       "    }\n",
       "\n",
       "    .dataframe tbody tr th {\n",
       "        vertical-align: top;\n",
       "    }\n",
       "\n",
       "    .dataframe thead th {\n",
       "        text-align: right;\n",
       "    }\n",
       "</style>\n",
       "<table border=\"1\" class=\"dataframe\">\n",
       "  <thead>\n",
       "    <tr style=\"text-align: right;\">\n",
       "      <th></th>\n",
       "      <th>id</th>\n",
       "      <th>bog95smp</th>\n",
       "      <th>bog97smp</th>\n",
       "      <th>jam93smp</th>\n",
       "      <th>sex</th>\n",
       "      <th>age</th>\n",
       "      <th>age2</th>\n",
       "      <th>hsvisit</th>\n",
       "      <th>scyfnsh</th>\n",
       "      <th>inschl</th>\n",
       "      <th>...</th>\n",
       "      <th>rept</th>\n",
       "      <th>nrept</th>\n",
       "      <th>finish6</th>\n",
       "      <th>finish7</th>\n",
       "      <th>finish8</th>\n",
       "      <th>sex_miss</th>\n",
       "      <th>usngsch</th>\n",
       "      <th>hoursum</th>\n",
       "      <th>tab3smpl</th>\n",
       "      <th>working3</th>\n",
       "    </tr>\n",
       "  </thead>\n",
       "  <tbody>\n",
       "    <tr>\n",
       "      <th>0</th>\n",
       "      <td>NaN</td>\n",
       "      <td>0.0</td>\n",
       "      <td>0.0</td>\n",
       "      <td>0.0</td>\n",
       "      <td>NaN</td>\n",
       "      <td>NaN</td>\n",
       "      <td>NaN</td>\n",
       "      <td>NaN</td>\n",
       "      <td>5.0</td>\n",
       "      <td>NaN</td>\n",
       "      <td>...</td>\n",
       "      <td>NaN</td>\n",
       "      <td>NaN</td>\n",
       "      <td>NaN</td>\n",
       "      <td>NaN</td>\n",
       "      <td>NaN</td>\n",
       "      <td>NaN</td>\n",
       "      <td>NaN</td>\n",
       "      <td>NaN</td>\n",
       "      <td>NaN</td>\n",
       "      <td>NaN</td>\n",
       "    </tr>\n",
       "    <tr>\n",
       "      <th>1</th>\n",
       "      <td>1.0</td>\n",
       "      <td>0.0</td>\n",
       "      <td>0.0</td>\n",
       "      <td>0.0</td>\n",
       "      <td>1.0</td>\n",
       "      <td>NaN</td>\n",
       "      <td>12.0</td>\n",
       "      <td>NaN</td>\n",
       "      <td>5.0</td>\n",
       "      <td>NaN</td>\n",
       "      <td>...</td>\n",
       "      <td>NaN</td>\n",
       "      <td>NaN</td>\n",
       "      <td>NaN</td>\n",
       "      <td>NaN</td>\n",
       "      <td>NaN</td>\n",
       "      <td>NaN</td>\n",
       "      <td>NaN</td>\n",
       "      <td>NaN</td>\n",
       "      <td>NaN</td>\n",
       "      <td>NaN</td>\n",
       "    </tr>\n",
       "    <tr>\n",
       "      <th>2</th>\n",
       "      <td>2.0</td>\n",
       "      <td>0.0</td>\n",
       "      <td>0.0</td>\n",
       "      <td>0.0</td>\n",
       "      <td>0.0</td>\n",
       "      <td>NaN</td>\n",
       "      <td>13.0</td>\n",
       "      <td>NaN</td>\n",
       "      <td>5.0</td>\n",
       "      <td>NaN</td>\n",
       "      <td>...</td>\n",
       "      <td>NaN</td>\n",
       "      <td>NaN</td>\n",
       "      <td>NaN</td>\n",
       "      <td>NaN</td>\n",
       "      <td>NaN</td>\n",
       "      <td>NaN</td>\n",
       "      <td>NaN</td>\n",
       "      <td>NaN</td>\n",
       "      <td>NaN</td>\n",
       "      <td>NaN</td>\n",
       "    </tr>\n",
       "    <tr>\n",
       "      <th>3</th>\n",
       "      <td>3.0</td>\n",
       "      <td>1.0</td>\n",
       "      <td>0.0</td>\n",
       "      <td>0.0</td>\n",
       "      <td>0.0</td>\n",
       "      <td>14.0</td>\n",
       "      <td>12.0</td>\n",
       "      <td>0.0</td>\n",
       "      <td>8.0</td>\n",
       "      <td>1.0</td>\n",
       "      <td>...</td>\n",
       "      <td>0.0</td>\n",
       "      <td>0.0</td>\n",
       "      <td>1.0</td>\n",
       "      <td>1.0</td>\n",
       "      <td>1.0</td>\n",
       "      <td>0.0</td>\n",
       "      <td>1.0</td>\n",
       "      <td>0.0</td>\n",
       "      <td>1.0</td>\n",
       "      <td>0.0</td>\n",
       "    </tr>\n",
       "    <tr>\n",
       "      <th>4</th>\n",
       "      <td>4.0</td>\n",
       "      <td>1.0</td>\n",
       "      <td>0.0</td>\n",
       "      <td>0.0</td>\n",
       "      <td>1.0</td>\n",
       "      <td>14.0</td>\n",
       "      <td>12.0</td>\n",
       "      <td>0.0</td>\n",
       "      <td>8.0</td>\n",
       "      <td>1.0</td>\n",
       "      <td>...</td>\n",
       "      <td>0.0</td>\n",
       "      <td>0.0</td>\n",
       "      <td>1.0</td>\n",
       "      <td>1.0</td>\n",
       "      <td>1.0</td>\n",
       "      <td>0.0</td>\n",
       "      <td>1.0</td>\n",
       "      <td>0.0</td>\n",
       "      <td>1.0</td>\n",
       "      <td>0.0</td>\n",
       "    </tr>\n",
       "  </tbody>\n",
       "</table>\n",
       "<p>5 rows × 89 columns</p>\n",
       "</div>"
      ],
      "text/plain": [
       "    id  bog95smp  bog97smp  jam93smp  sex   age  age2  hsvisit  scyfnsh  \\\n",
       "0  NaN       0.0       0.0       0.0  NaN   NaN   NaN      NaN      5.0   \n",
       "1  1.0       0.0       0.0       0.0  1.0   NaN  12.0      NaN      5.0   \n",
       "2  2.0       0.0       0.0       0.0  0.0   NaN  13.0      NaN      5.0   \n",
       "3  3.0       1.0       0.0       0.0  0.0  14.0  12.0      0.0      8.0   \n",
       "4  4.0       1.0       0.0       0.0  1.0  14.0  12.0      0.0      8.0   \n",
       "\n",
       "   inschl  ...  rept  nrept  finish6  finish7  finish8  sex_miss  usngsch  \\\n",
       "0     NaN  ...   NaN    NaN      NaN      NaN      NaN       NaN      NaN   \n",
       "1     NaN  ...   NaN    NaN      NaN      NaN      NaN       NaN      NaN   \n",
       "2     NaN  ...   NaN    NaN      NaN      NaN      NaN       NaN      NaN   \n",
       "3     1.0  ...   0.0    0.0      1.0      1.0      1.0       0.0      1.0   \n",
       "4     1.0  ...   0.0    0.0      1.0      1.0      1.0       0.0      1.0   \n",
       "\n",
       "   hoursum  tab3smpl  working3  \n",
       "0      NaN       NaN       NaN  \n",
       "1      NaN       NaN       NaN  \n",
       "2      NaN       NaN       NaN  \n",
       "3      0.0       1.0       0.0  \n",
       "4      0.0       1.0       0.0  \n",
       "\n",
       "[5 rows x 89 columns]"
      ]
     },
     "execution_count": 17,
     "metadata": {},
     "output_type": "execute_result"
    }
   ],
   "source": [
    "data_path = \"aerdat4.dta\"\n",
    "df = pd.read_stata(data_path)\n",
    "\n",
    "df.head()"
   ]
  },
  {
   "cell_type": "code",
   "execution_count": 18,
   "id": "da05c923-0237-458b-9fdb-b460163e6c23",
   "metadata": {},
   "outputs": [
    {
     "data": {
      "text/html": [
       "<div>\n",
       "<style scoped>\n",
       "    .dataframe tbody tr th:only-of-type {\n",
       "        vertical-align: middle;\n",
       "    }\n",
       "\n",
       "    .dataframe tbody tr th {\n",
       "        vertical-align: top;\n",
       "    }\n",
       "\n",
       "    .dataframe thead th {\n",
       "        text-align: right;\n",
       "    }\n",
       "</style>\n",
       "<table border=\"1\" class=\"dataframe\">\n",
       "  <thead>\n",
       "    <tr style=\"text-align: right;\">\n",
       "      <th></th>\n",
       "      <th>id</th>\n",
       "      <th>bog95smp</th>\n",
       "      <th>bog97smp</th>\n",
       "      <th>jam93smp</th>\n",
       "      <th>sex</th>\n",
       "      <th>age</th>\n",
       "      <th>age2</th>\n",
       "      <th>hsvisit</th>\n",
       "      <th>scyfnsh</th>\n",
       "      <th>inschl</th>\n",
       "      <th>...</th>\n",
       "      <th>rept</th>\n",
       "      <th>nrept</th>\n",
       "      <th>finish6</th>\n",
       "      <th>finish7</th>\n",
       "      <th>finish8</th>\n",
       "      <th>sex_miss</th>\n",
       "      <th>usngsch</th>\n",
       "      <th>hoursum</th>\n",
       "      <th>tab3smpl</th>\n",
       "      <th>working3</th>\n",
       "    </tr>\n",
       "  </thead>\n",
       "  <tbody>\n",
       "    <tr>\n",
       "      <th>2</th>\n",
       "      <td>2.0</td>\n",
       "      <td>0.0</td>\n",
       "      <td>0.0</td>\n",
       "      <td>0.0</td>\n",
       "      <td>0.0</td>\n",
       "      <td>NaN</td>\n",
       "      <td>13.0</td>\n",
       "      <td>NaN</td>\n",
       "      <td>5.0</td>\n",
       "      <td>NaN</td>\n",
       "      <td>...</td>\n",
       "      <td>NaN</td>\n",
       "      <td>NaN</td>\n",
       "      <td>NaN</td>\n",
       "      <td>NaN</td>\n",
       "      <td>NaN</td>\n",
       "      <td>NaN</td>\n",
       "      <td>NaN</td>\n",
       "      <td>NaN</td>\n",
       "      <td>NaN</td>\n",
       "      <td>NaN</td>\n",
       "    </tr>\n",
       "    <tr>\n",
       "      <th>3</th>\n",
       "      <td>3.0</td>\n",
       "      <td>1.0</td>\n",
       "      <td>0.0</td>\n",
       "      <td>0.0</td>\n",
       "      <td>0.0</td>\n",
       "      <td>14.0</td>\n",
       "      <td>12.0</td>\n",
       "      <td>0.0</td>\n",
       "      <td>8.0</td>\n",
       "      <td>1.0</td>\n",
       "      <td>...</td>\n",
       "      <td>0.0</td>\n",
       "      <td>0.0</td>\n",
       "      <td>1.0</td>\n",
       "      <td>1.0</td>\n",
       "      <td>1.0</td>\n",
       "      <td>0.0</td>\n",
       "      <td>1.0</td>\n",
       "      <td>0.0</td>\n",
       "      <td>1.0</td>\n",
       "      <td>0.0</td>\n",
       "    </tr>\n",
       "    <tr>\n",
       "      <th>4</th>\n",
       "      <td>4.0</td>\n",
       "      <td>1.0</td>\n",
       "      <td>0.0</td>\n",
       "      <td>0.0</td>\n",
       "      <td>1.0</td>\n",
       "      <td>14.0</td>\n",
       "      <td>12.0</td>\n",
       "      <td>0.0</td>\n",
       "      <td>8.0</td>\n",
       "      <td>1.0</td>\n",
       "      <td>...</td>\n",
       "      <td>0.0</td>\n",
       "      <td>0.0</td>\n",
       "      <td>1.0</td>\n",
       "      <td>1.0</td>\n",
       "      <td>1.0</td>\n",
       "      <td>0.0</td>\n",
       "      <td>1.0</td>\n",
       "      <td>0.0</td>\n",
       "      <td>1.0</td>\n",
       "      <td>0.0</td>\n",
       "    </tr>\n",
       "    <tr>\n",
       "      <th>5</th>\n",
       "      <td>5.0</td>\n",
       "      <td>1.0</td>\n",
       "      <td>0.0</td>\n",
       "      <td>0.0</td>\n",
       "      <td>0.0</td>\n",
       "      <td>14.0</td>\n",
       "      <td>12.0</td>\n",
       "      <td>0.0</td>\n",
       "      <td>8.0</td>\n",
       "      <td>1.0</td>\n",
       "      <td>...</td>\n",
       "      <td>0.0</td>\n",
       "      <td>0.0</td>\n",
       "      <td>1.0</td>\n",
       "      <td>1.0</td>\n",
       "      <td>1.0</td>\n",
       "      <td>0.0</td>\n",
       "      <td>0.0</td>\n",
       "      <td>0.0</td>\n",
       "      <td>1.0</td>\n",
       "      <td>0.0</td>\n",
       "    </tr>\n",
       "    <tr>\n",
       "      <th>6</th>\n",
       "      <td>6.0</td>\n",
       "      <td>1.0</td>\n",
       "      <td>0.0</td>\n",
       "      <td>0.0</td>\n",
       "      <td>0.0</td>\n",
       "      <td>12.0</td>\n",
       "      <td>10.0</td>\n",
       "      <td>0.0</td>\n",
       "      <td>7.0</td>\n",
       "      <td>1.0</td>\n",
       "      <td>...</td>\n",
       "      <td>1.0</td>\n",
       "      <td>1.0</td>\n",
       "      <td>1.0</td>\n",
       "      <td>1.0</td>\n",
       "      <td>0.0</td>\n",
       "      <td>0.0</td>\n",
       "      <td>0.0</td>\n",
       "      <td>0.0</td>\n",
       "      <td>1.0</td>\n",
       "      <td>0.0</td>\n",
       "    </tr>\n",
       "    <tr>\n",
       "      <th>...</th>\n",
       "      <td>...</td>\n",
       "      <td>...</td>\n",
       "      <td>...</td>\n",
       "      <td>...</td>\n",
       "      <td>...</td>\n",
       "      <td>...</td>\n",
       "      <td>...</td>\n",
       "      <td>...</td>\n",
       "      <td>...</td>\n",
       "      <td>...</td>\n",
       "      <td>...</td>\n",
       "      <td>...</td>\n",
       "      <td>...</td>\n",
       "      <td>...</td>\n",
       "      <td>...</td>\n",
       "      <td>...</td>\n",
       "      <td>...</td>\n",
       "      <td>...</td>\n",
       "      <td>...</td>\n",
       "      <td>...</td>\n",
       "      <td>...</td>\n",
       "    </tr>\n",
       "    <tr>\n",
       "      <th>25325</th>\n",
       "      <td>141222.0</td>\n",
       "      <td>0.0</td>\n",
       "      <td>0.0</td>\n",
       "      <td>0.0</td>\n",
       "      <td>1.0</td>\n",
       "      <td>NaN</td>\n",
       "      <td>10.0</td>\n",
       "      <td>NaN</td>\n",
       "      <td>5.0</td>\n",
       "      <td>NaN</td>\n",
       "      <td>...</td>\n",
       "      <td>NaN</td>\n",
       "      <td>NaN</td>\n",
       "      <td>NaN</td>\n",
       "      <td>NaN</td>\n",
       "      <td>NaN</td>\n",
       "      <td>NaN</td>\n",
       "      <td>NaN</td>\n",
       "      <td>NaN</td>\n",
       "      <td>NaN</td>\n",
       "      <td>NaN</td>\n",
       "    </tr>\n",
       "    <tr>\n",
       "      <th>25326</th>\n",
       "      <td>141223.0</td>\n",
       "      <td>0.0</td>\n",
       "      <td>0.0</td>\n",
       "      <td>0.0</td>\n",
       "      <td>1.0</td>\n",
       "      <td>NaN</td>\n",
       "      <td>13.0</td>\n",
       "      <td>NaN</td>\n",
       "      <td>5.0</td>\n",
       "      <td>NaN</td>\n",
       "      <td>...</td>\n",
       "      <td>NaN</td>\n",
       "      <td>NaN</td>\n",
       "      <td>NaN</td>\n",
       "      <td>NaN</td>\n",
       "      <td>NaN</td>\n",
       "      <td>NaN</td>\n",
       "      <td>NaN</td>\n",
       "      <td>NaN</td>\n",
       "      <td>NaN</td>\n",
       "      <td>NaN</td>\n",
       "    </tr>\n",
       "    <tr>\n",
       "      <th>25327</th>\n",
       "      <td>141224.0</td>\n",
       "      <td>0.0</td>\n",
       "      <td>0.0</td>\n",
       "      <td>0.0</td>\n",
       "      <td>1.0</td>\n",
       "      <td>NaN</td>\n",
       "      <td>12.0</td>\n",
       "      <td>NaN</td>\n",
       "      <td>5.0</td>\n",
       "      <td>NaN</td>\n",
       "      <td>...</td>\n",
       "      <td>NaN</td>\n",
       "      <td>NaN</td>\n",
       "      <td>NaN</td>\n",
       "      <td>NaN</td>\n",
       "      <td>NaN</td>\n",
       "      <td>NaN</td>\n",
       "      <td>NaN</td>\n",
       "      <td>NaN</td>\n",
       "      <td>NaN</td>\n",
       "      <td>NaN</td>\n",
       "    </tr>\n",
       "    <tr>\n",
       "      <th>25328</th>\n",
       "      <td>141225.0</td>\n",
       "      <td>0.0</td>\n",
       "      <td>0.0</td>\n",
       "      <td>0.0</td>\n",
       "      <td>NaN</td>\n",
       "      <td>NaN</td>\n",
       "      <td>NaN</td>\n",
       "      <td>NaN</td>\n",
       "      <td>5.0</td>\n",
       "      <td>NaN</td>\n",
       "      <td>...</td>\n",
       "      <td>NaN</td>\n",
       "      <td>NaN</td>\n",
       "      <td>NaN</td>\n",
       "      <td>NaN</td>\n",
       "      <td>NaN</td>\n",
       "      <td>NaN</td>\n",
       "      <td>NaN</td>\n",
       "      <td>NaN</td>\n",
       "      <td>NaN</td>\n",
       "      <td>NaN</td>\n",
       "    </tr>\n",
       "    <tr>\n",
       "      <th>25329</th>\n",
       "      <td>141226.0</td>\n",
       "      <td>0.0</td>\n",
       "      <td>0.0</td>\n",
       "      <td>0.0</td>\n",
       "      <td>1.0</td>\n",
       "      <td>NaN</td>\n",
       "      <td>14.0</td>\n",
       "      <td>NaN</td>\n",
       "      <td>5.0</td>\n",
       "      <td>NaN</td>\n",
       "      <td>...</td>\n",
       "      <td>NaN</td>\n",
       "      <td>NaN</td>\n",
       "      <td>NaN</td>\n",
       "      <td>NaN</td>\n",
       "      <td>NaN</td>\n",
       "      <td>NaN</td>\n",
       "      <td>NaN</td>\n",
       "      <td>NaN</td>\n",
       "      <td>NaN</td>\n",
       "      <td>NaN</td>\n",
       "    </tr>\n",
       "  </tbody>\n",
       "</table>\n",
       "<p>25328 rows × 89 columns</p>\n",
       "</div>"
      ],
      "text/plain": [
       "             id  bog95smp  bog97smp  jam93smp  sex   age  age2  hsvisit  \\\n",
       "2           2.0       0.0       0.0       0.0  0.0   NaN  13.0      NaN   \n",
       "3           3.0       1.0       0.0       0.0  0.0  14.0  12.0      0.0   \n",
       "4           4.0       1.0       0.0       0.0  1.0  14.0  12.0      0.0   \n",
       "5           5.0       1.0       0.0       0.0  0.0  14.0  12.0      0.0   \n",
       "6           6.0       1.0       0.0       0.0  0.0  12.0  10.0      0.0   \n",
       "...         ...       ...       ...       ...  ...   ...   ...      ...   \n",
       "25325  141222.0       0.0       0.0       0.0  1.0   NaN  10.0      NaN   \n",
       "25326  141223.0       0.0       0.0       0.0  1.0   NaN  13.0      NaN   \n",
       "25327  141224.0       0.0       0.0       0.0  1.0   NaN  12.0      NaN   \n",
       "25328  141225.0       0.0       0.0       0.0  NaN   NaN   NaN      NaN   \n",
       "25329  141226.0       0.0       0.0       0.0  1.0   NaN  14.0      NaN   \n",
       "\n",
       "       scyfnsh  inschl  ...  rept  nrept  finish6  finish7  finish8  sex_miss  \\\n",
       "2          5.0     NaN  ...   NaN    NaN      NaN      NaN      NaN       NaN   \n",
       "3          8.0     1.0  ...   0.0    0.0      1.0      1.0      1.0       0.0   \n",
       "4          8.0     1.0  ...   0.0    0.0      1.0      1.0      1.0       0.0   \n",
       "5          8.0     1.0  ...   0.0    0.0      1.0      1.0      1.0       0.0   \n",
       "6          7.0     1.0  ...   1.0    1.0      1.0      1.0      0.0       0.0   \n",
       "...        ...     ...  ...   ...    ...      ...      ...      ...       ...   \n",
       "25325      5.0     NaN  ...   NaN    NaN      NaN      NaN      NaN       NaN   \n",
       "25326      5.0     NaN  ...   NaN    NaN      NaN      NaN      NaN       NaN   \n",
       "25327      5.0     NaN  ...   NaN    NaN      NaN      NaN      NaN       NaN   \n",
       "25328      5.0     NaN  ...   NaN    NaN      NaN      NaN      NaN       NaN   \n",
       "25329      5.0     NaN  ...   NaN    NaN      NaN      NaN      NaN       NaN   \n",
       "\n",
       "       usngsch  hoursum  tab3smpl  working3  \n",
       "2          NaN      NaN       NaN       NaN  \n",
       "3          1.0      0.0       1.0       0.0  \n",
       "4          1.0      0.0       1.0       0.0  \n",
       "5          0.0      0.0       1.0       0.0  \n",
       "6          0.0      0.0       1.0       0.0  \n",
       "...        ...      ...       ...       ...  \n",
       "25325      NaN      NaN       NaN       NaN  \n",
       "25326      NaN      NaN       NaN       NaN  \n",
       "25327      NaN      NaN       NaN       NaN  \n",
       "25328      NaN      NaN       NaN       NaN  \n",
       "25329      NaN      NaN       NaN       NaN  \n",
       "\n",
       "[25328 rows x 89 columns]"
      ]
     },
     "execution_count": 18,
     "metadata": {},
     "output_type": "execute_result"
    }
   ],
   "source": [
    "df = df[2:]\n",
    "df"
   ]
  },
  {
   "cell_type": "code",
   "execution_count": 19,
   "id": "d156814a-d7c3-4d15-9f60-e1c39e11d8e0",
   "metadata": {},
   "outputs": [
    {
     "data": {
      "text/plain": [
       "(np.float64(6156.0), np.float64(4043.0), np.float64(1770.0), np.float64(343.0))"
      ]
     },
     "execution_count": 19,
     "metadata": {},
     "output_type": "execute_result"
    }
   ],
   "source": [
    "#Populations\n",
    "bog95_pop = df['bog95'].sum()\n",
    "bog97_pop = df['bog97'].sum()\n",
    "jam93_pop = df['djamundi'].sum()\n",
    "combined_sample = bog95_pop + bog97_pop + jam93_pop\n",
    "combined_sample, bog95_pop, bog97_pop, jam93_pop"
   ]
  },
  {
   "cell_type": "markdown",
   "id": "af638684-0029-4bb0-b2af-df4d701ccdef",
   "metadata": {},
   "source": [
    "# TABLE 1"
   ]
  },
  {
   "cell_type": "markdown",
   "id": "09cc0513-0ce3-4cdc-bbcd-66d09621172d",
   "metadata": {},
   "source": [
    "## Part A: Population"
   ]
  },
  {
   "cell_type": "markdown",
   "id": "2de98f63-2ec9-4570-8a2d-021eb05085fb",
   "metadata": {},
   "source": [
    "### N:"
   ]
  },
  {
   "cell_type": "code",
   "execution_count": 20,
   "id": "7422c591-3650-474f-ac3a-65165e372d94",
   "metadata": {},
   "outputs": [
    {
     "data": {
      "text/plain": [
       "(np.float64(4050.0), np.float64(2378.0), np.float64(1500.0), np.float64(172.0))"
      ]
     },
     "execution_count": 20,
     "metadata": {},
     "output_type": "execute_result"
    }
   ],
   "source": [
    "\n",
    "vouch_df = df[df['vouch0'] == 1]\n",
    "vbog95_pop = vouch_df['bog95'].sum()\n",
    "vbog97_pop = vouch_df['bog97'].sum()\n",
    "vjam93_pop = vouch_df['djamundi'].sum()\n",
    "vcombined_sample = vbog95_pop + vbog97_pop + vjam93_pop\n",
    "vcombined_sample, vbog95_pop, vbog97_pop, vjam93_pop"
   ]
  },
  {
   "cell_type": "markdown",
   "id": "585549d3-d23f-4245-afb8-64da7df3c3ef",
   "metadata": {},
   "source": [
    "### Percentage awarded vouchers"
   ]
  },
  {
   "cell_type": "code",
   "execution_count": 21,
   "id": "3150236a-de15-4712-9953-d5e0f880c110",
   "metadata": {},
   "outputs": [
    {
     "data": {
      "text/plain": [
       "(np.float64(58.817709621568135),\n",
       " np.float64(84.7457627118644),\n",
       " np.float64(50.14577259475219),\n",
       " np.float64(65.78947368421053))"
      ]
     },
     "execution_count": 21,
     "metadata": {},
     "output_type": "execute_result"
    }
   ],
   "source": [
    "\n",
    "perc_bog95 = vbog95_pop / bog95_pop * 100\n",
    "perc_bog97 = vbog97_pop / bog97_pop * 100\n",
    "perc_jam93 = vjam93_pop / jam93_pop * 100\n",
    "perc_comb_samp = vcombined_sample / combined_sample * 100\n",
    "perc_bog95, perc_bog97, perc_jam93, perc_comb_samp"
   ]
  },
  {
   "cell_type": "markdown",
   "id": "9913791c-6abf-4a45-8c62-878d2ffa7656",
   "metadata": {},
   "source": [
    "## Part B: Attempted Interviews"
   ]
  },
  {
   "cell_type": "markdown",
   "id": "182b1fd2-7714-41bb-90a0-fd17644cb120",
   "metadata": {},
   "source": [
    "### N"
   ]
  },
  {
   "cell_type": "code",
   "execution_count": 15,
   "id": "61f5b21b-c970-4130-8b36-406535008050",
   "metadata": {},
   "outputs": [
    {
     "name": "stdout",
     "output_type": "stream",
     "text": [
      "[2248.0, 457.0, 279.0, 2984.0, 283.0]\n"
     ]
    },
    {
     "data": {
      "text/plain": [
       "np.float64(2248.0)"
      ]
     },
     "execution_count": 15,
     "metadata": {},
     "output_type": "execute_result"
    }
   ],
   "source": [
    "# Attempted interviews\n",
    "bog95_int = df['bog95asd'].sum()\n",
    "bog97_int = df['bog97asd'].sum()\n",
    "jam93_int = df['jam93asd'].sum()\n",
    "test_int = df[df['test_tak'] == 1].shape[0]  # include all test-takers\n",
    "\n",
    "comb_int = bog95_int + bog97_int + jam93_int\n",
    "\n",
    "# Order: Bogotá 1995, Bogotá 1997, Jamundí 1993, Combined, Test-takers\n",
    "print([\n",
    "    float(bog95_int),\n",
    "    float(bog97_int),\n",
    "    float(jam93_int),\n",
    "    float(comb_int),\n",
    "    float(test_int)\n",
    "])\n",
    "bog95_int"
   ]
  },
  {
   "cell_type": "markdown",
   "id": "7b350e91-349c-4c48-86bd-25e30184a3a5",
   "metadata": {},
   "source": [
    "### Percentage awarded vouchers"
   ]
  },
  {
   "cell_type": "code",
   "execution_count": 22,
   "id": "dab71666-8103-43d6-a5ee-92e619ba0109",
   "metadata": {},
   "outputs": [
    {
     "data": {
      "text/plain": [
       "(np.float64(50.0),\n",
       " np.float64(51.64113785557986),\n",
       " np.float64(50.179211469534046),\n",
       " np.float64(50.26809651474531))"
      ]
     },
     "execution_count": 22,
     "metadata": {},
     "output_type": "execute_result"
    }
   ],
   "source": [
    "#Attempted interviews\n",
    "bog95_int = df['bog95asd'].sum()\n",
    "bog97_int = df['bog97asd'].sum()\n",
    "jam93_int = df['jam93asd'].sum()\n",
    "comb_int = bog95_int + bog97_int + jam93_int\n",
    "\n",
    "#Interviewed dataframe\n",
    "attempt_int = df[(df['bog95asd'] == 1) | (df['bog97asd'] == 1) | (df['jam93asd'] == 1)]\n",
    "\n",
    "attempt_int_vouch = attempt_int[attempt_int['vouch0'] == 1]\n",
    "\n",
    "ivbog95_pop = attempt_int_vouch['bog95asd'].sum()\n",
    "\n",
    "#Population awarded vouchers that were interviewed\n",
    "ivbog95_pop = attempt_int_vouch['bog95asd'].sum()\n",
    "ivbog97_pop = attempt_int_vouch['bog97asd'].sum()\n",
    "ivjam93_pop = attempt_int_vouch['jam93asd'].sum()\n",
    "ivcombined_sample = ivbog95_pop + ivbog97_pop + ivjam93_pop\n",
    "\n",
    "#Percentage of attempted interviewed population awarded vouchers\n",
    "iperc_bog95 = ivbog95_pop / bog95_int * 100\n",
    "iperc_bog97 = ivbog97_pop / bog97_int * 100\n",
    "iperc_jam93 = ivjam93_pop / jam93_int * 100\n",
    "iperc_comb_samp = ivcombined_sample / comb_int * 100\n",
    "\n",
    "\n",
    "iperc_bog95, iperc_bog97, iperc_jam93, iperc_comb_samp"
   ]
  },
  {
   "cell_type": "code",
   "execution_count": 13,
   "id": "58dd6b6e-5b46-4438-9edb-52aabe769a52",
   "metadata": {},
   "outputs": [
    {
     "name": "stdout",
     "output_type": "stream",
     "text": [
      "[50.89285714285714, 53.67647058823529, 55.21472392638037, 51.832797427652736, 56.82656826568265]\n"
     ]
    }
   ],
   "source": [
    "## DEPRECIATED ###\n",
    "# Voucher winners\n",
    "vouch_df = df[df['vouch0'] == 1]\n",
    "\n",
    "# Count winners in attempted interviews\n",
    "bog95_win = vouch_df[vouch_df['bog95smp'] == 1]['age2'].notna().sum()\n",
    "bog97_win = vouch_df[vouch_df['bog97smp'] == 1]['age2'].notna().sum()\n",
    "jam93_win = vouch_df[vouch_df['jam93smp'] == 1]['age2'].notna().sum()\n",
    "\n",
    "# Total attempted interviews\n",
    "bog95_int = df[df['bog95smp'] == 1]['age2'].notna().sum()\n",
    "bog97_int = df[df['bog97smp'] == 1]['age2'].notna().sum()\n",
    "jam93_int = df[df['jam93smp'] == 1]['age2'].notna().sum()\n",
    "\n",
    "# Combined\n",
    "combined_win = bog95_win + bog97_win + jam93_win\n",
    "combined_int = bog95_int + bog97_int + jam93_int\n",
    "\n",
    "# Test-takers\n",
    "test_int = df[df['test_tak'] == 1]['age2'].notna().sum()\n",
    "test_win = vouch_df[vouch_df['test_tak'] == 1]['age2'].notna().sum()\n",
    "\n",
    "# Percentage awarded vouchers\n",
    "perc_bog95 = bog95_win / bog95_int * 100\n",
    "perc_bog97 = bog97_win / bog97_int * 100\n",
    "perc_jam93 = jam93_win / jam93_int * 100\n",
    "perc_comb = combined_win / combined_int * 100\n",
    "perc_test = test_win / test_int * 100\n",
    "\n",
    "print([float(perc_bog95), float(perc_bog97), float(perc_jam93), float(perc_comb), float(perc_test)])"
   ]
  },
  {
   "cell_type": "markdown",
   "id": "b1249242-9399-477f-af7d-a14944456822",
   "metadata": {},
   "source": [
    "### Response rate"
   ]
  },
  {
   "cell_type": "code",
   "execution_count": 24,
   "id": "350ad171-46a8-478e-b8c9-f11b57d3a96a",
   "metadata": {},
   "outputs": [
    {
     "data": {
      "text/plain": [
       "(np.float64(0.5231316725978647),\n",
       " np.float64(0.6061269146608315),\n",
       " np.float64(0.5913978494623656),\n",
       " np.float64(0.542225201072386))"
      ]
     },
     "execution_count": 24,
     "metadata": {},
     "output_type": "execute_result"
    }
   ],
   "source": [
    "#Completed interviews\n",
    "responded = df[df['response'] == 1]\n",
    "\n",
    "#Completed interviews population\n",
    "resp_bog95 = responded['bog95asd'].sum()\n",
    "resp_bog97 = responded['bog97asd'].sum()\n",
    "resp_jam = responded['jam93asd'].sum()\n",
    "resp_comb = resp_bog95 + resp_bog97 + resp_jam\n",
    "\n",
    "#Response Rates\n",
    "resp_rate_bog95 = resp_bog95 / bog95_int\n",
    "resp_rate_bog97 = resp_bog97 / bog97_int\n",
    "resp_rate_jam = resp_jam / jam93_int\n",
    "resp_rate_comb = resp_comb / comb_int\n",
    "resp_rate_bog95, resp_rate_bog97, resp_rate_jam, resp_rate_comb"
   ]
  },
  {
   "cell_type": "code",
   "execution_count": 23,
   "id": "de79d688-8ec8-4ebf-b4e4-864c073cae0f",
   "metadata": {},
   "outputs": [
    {
     "name": "stdout",
     "output_type": "stream",
     "text": [
      "[0.498220640569395, 0.5951859956236324, 0.5842293906810035, 0.521112600536193, 0.9575971731448764]\n"
     ]
    }
   ],
   "source": [
    "#### DEPRECIATED #####\n",
    "\n",
    "bog95_comp = df[(df['bog95smp'] == 1) & (df['age2'].notna())].shape[0]\n",
    "bog97_comp = df[(df['bog97smp'] == 1) & (df['age2'].notna())].shape[0]\n",
    "jam93_comp = df[(df['jam93smp'] == 1) & (df['age2'].notna())].shape[0]\n",
    "test_comp = df[(df['test_tak'] == 1) & (df['age2'].notna())].shape[0]\n",
    "comb_comp = bog95_comp + bog97_comp + jam93_comp\n",
    "\n",
    "resp_bog95 = bog95_comp / bog95_int\n",
    "resp_bog97 = bog97_comp / bog97_int\n",
    "resp_jam93 = jam93_comp / jam93_int\n",
    "resp_comb = comb_comp / comb_int\n",
    "resp_test = test_comp / test_int\n",
    "\n",
    "print([float(resp_bog95), float(resp_bog97), float(resp_jam93), float(resp_comb), float(resp_test)])\n"
   ]
  },
  {
   "cell_type": "markdown",
   "id": "b7540959-6641-4239-910e-2a995087d785",
   "metadata": {},
   "source": [
    "### Winner Response Rate"
   ]
  },
  {
   "cell_type": "code",
   "execution_count": 40,
   "id": "ced3bfee-38cc-46d4-adf6-a441ce192ff3",
   "metadata": {},
   "outputs": [
    {
     "name": "stdout",
     "output_type": "stream",
     "text": [
      "[np.float64(0.5275800711743772), np.float64(0.6186440677966102), np.float64(0.65), np.float64(0.5533333333333333)]\n"
     ]
    }
   ],
   "source": [
    "# Attempted interviews among winners (i.e., responded)\n",
    "bog95_win_comp = vouch_df['bog95smp'].sum()\n",
    "bog97_win_comp = vouch_df['bog97smp'].sum()\n",
    "jam93_win_comp = vouch_df['jam93smp'].sum()\n",
    "\n",
    "\n",
    "### bog95_win_comp = vouch_df[(vouch_df['bog95smp'] == 1) & (vouch_df['vouch0'] == 1) & (vouch_df['age2'].notna())].shape[0]\n",
    "### bog97_win_comp = vouch_df[(vouch_df['bog97smp'] == 1) & (vouch_df['vouch0'] == 1) & (vouch_df['age2'].notna())].shape[0]\n",
    "### jam93_win_comp = vouch_df[(vouch_df['jam93smp'] == 1) & (vouch_df['vouch0'] == 1) & (vouch_df['age2'].notna())].shape[0]\n",
    "### test_win_comp  = vouch_df[(vouch_df['test_tak'] == 1) & (vouch_df['vouch0'] == 1) & (vouch_df['age2'].notna())].shape[0]\n",
    "\n",
    "# All assigned winners\n",
    "bog95_win_total = vouch_df['bog95asd'].sum()\n",
    "bog97_win_total = vouch_df['bog97asd'].sum()\n",
    "jam93_win_total = vouch_df['jam93asd'].sum()\n",
    "## test_win_total = vouch_df['test_tak'].sum()\n",
    "\n",
    "# Rates\n",
    "resp_bog95_win = bog95_win_comp / bog95_win_total\n",
    "resp_bog97_win = bog97_win_comp / bog97_win_total\n",
    "resp_jam93_win = jam93_win_comp / jam93_win_total\n",
    "resp_comb_win  = (bog95_win_comp + bog97_win_comp + jam93_win_comp) / (bog95_win_total + bog97_win_total + jam93_win_total)\n",
    "## resp_test_win  = test_win_comp / test_win_total\n",
    "\n",
    "print([resp_bog95_win, resp_bog97_win, resp_jam93_win, resp_comb_win])"
   ]
  },
  {
   "cell_type": "markdown",
   "id": "956829bd-40d1-40c7-bacd-d058abca3c08",
   "metadata": {},
   "source": [
    "### Loser Response Rate"
   ]
  },
  {
   "cell_type": "code",
   "execution_count": 43,
   "id": "44c41187-cc3b-4002-8766-61edec96d624",
   "metadata": {},
   "outputs": [
    {
     "name": "stdout",
     "output_type": "stream",
     "text": [
      "[np.float64(0.5186832740213523), np.float64(0.5927601809954751), np.float64(0.5323741007194245), np.float64(0.5309973045822103)]\n"
     ]
    }
   ],
   "source": [
    "# Attempted interviews among losers \n",
    "bog95_lose_int = df[(df['vouch0'] == 0)]['bog95smp'].sum()\n",
    "bog97_lose_int = df[(df['vouch0'] == 0)]['bog97smp'].sum()\n",
    "jam93_lose_int = df[(df['vouch0'] == 0)]['jam93smp'].sum()\n",
    "\n",
    "\n",
    "# Completed interview totals \n",
    "bog95_lose_total = df[(df['vouch0'] == 0)]['bog95asd'].sum()\n",
    "bog97_lose_total = df[(df['vouch0'] == 0)]['bog97asd'].sum()\n",
    "jam93_lose_total = df[(df['vouch0'] == 0)]['jam93asd'].sum()\n",
    "\n",
    "\n",
    "# Rates\n",
    "resp_bog95_lose = bog95_lose_int / bog95_lose_total\n",
    "resp_bog97_lose = bog97_lose_int / bog97_lose_total\n",
    "resp_jam93_lose = jam93_lose_int / jam93_lose_total\n",
    "resp_comb_lose  = (bog95_lose_int + bog97_lose_int + jam93_lose_int) / (bog95_lose_total + bog97_lose_total + jam93_lose_total)\n",
    "\n",
    "\n",
    "print([resp_bog95_lose, resp_bog97_lose, resp_jam93_lose, resp_comb_lose])\n"
   ]
  },
  {
   "cell_type": "markdown",
   "id": "6f577e1e-c64a-4138-b38f-15aaa7d45ca7",
   "metadata": {},
   "source": [
    "## Part C: Completed Interviews"
   ]
  },
  {
   "cell_type": "markdown",
   "id": "baca0bc6-d615-4a86-8c3a-a53180eb10d9",
   "metadata": {},
   "source": [
    "### N:"
   ]
  },
  {
   "cell_type": "code",
   "execution_count": 45,
   "id": "224b11ee-6a00-482e-a76c-45daba719ae5",
   "metadata": {},
   "outputs": [
    {
     "name": "stdout",
     "output_type": "stream",
     "text": [
      "[np.float64(1176.0), np.float64(277.0), np.float64(165.0), np.float64(1618.0), np.float64(283.0)]\n"
     ]
    }
   ],
   "source": [
    "\n",
    "bog95_comp = df['bog95smp'].sum()\n",
    "bog97_comp = df['bog97smp'].sum()\n",
    "jam93_comp = df['jam93smp'].sum()\n",
    "test_comp = df['test_tak'].sum()\n",
    "comb_comp = bog95_comp + bog97_comp + jam93_comp\n",
    "\n",
    "print([bog95_comp, bog97_comp, jam93_comp, comb_comp, test_comp])\n"
   ]
  },
  {
   "cell_type": "markdown",
   "id": "7ec9b6a3-c2b1-413c-b289-912ed9eddc64",
   "metadata": {},
   "source": [
    "### Percentage awarded vouchers"
   ]
  },
  {
   "cell_type": "code",
   "execution_count": 47,
   "id": "3f36724c-b8b9-4193-9ab0-54c4ea56300f",
   "metadata": {},
   "outputs": [
    {
     "name": "stdout",
     "output_type": "stream",
     "text": [
      "[np.float64(50.425170068027214), np.float64(52.707581227436826), np.float64(55.15151515151515), np.float64(51.29789864029666), np.float64(56.18374558303887)]\n"
     ]
    }
   ],
   "source": [
    "#bog95_win_comp = vouch_df['bog95smp'].sum()\n",
    "#bog97_win_comp = vouch_df['bog97smp'].sum()\n",
    "#jam93_win_comp = vouch_df['jam93smp'].sum()\n",
    "#bog95_v = df[(df['bog95smp'] == 1) & (df['vouch0'] == 1) & df['age2'].notna()].shape[0]\n",
    "#bog97_v = df[(df['bog97smp'] == 1) & (df['vouch0'] == 1) & df['age2'].notna()].shape[0]\n",
    "#jam93_v = df[(df['jam93smp'] == 1) & (df['vouch0'] == 1) & df['age2'].notna()].shape[0]\n",
    "#test_v = df[(df['test_tak'] == 1) & (df['vouch0'] == 1) & df['age2'].notna()].shape[0]\n",
    "bog95_v = vouch_df['bog95smp'].sum()\n",
    "bog97_v = vouch_df['bog97smp'].sum()\n",
    "jam93_v = vouch_df['jam93smp'].sum()\n",
    "test_v = vouch_df['test_tak'].sum()\n",
    "comb_v = bog95_v + bog97_v + jam93_v\n",
    "\n",
    "\n",
    "perc_bog95 = bog95_v / bog95_comp * 100\n",
    "perc_bog97 = bog97_v / bog97_comp * 100\n",
    "perc_jam93 = jam93_v / jam93_comp * 100\n",
    "perc_comb = comb_v / comb_comp * 100\n",
    "perc_test = test_v / test_comp * 100\n",
    "\n",
    "print([perc_bog95, perc_bog97, perc_jam93, perc_comb, perc_test])"
   ]
  },
  {
   "cell_type": "markdown",
   "id": "a72b2327-b273-49b9-9b62-0dcc920f80e6",
   "metadata": {},
   "source": [
    "### Household visit"
   ]
  },
  {
   "cell_type": "code",
   "execution_count": 53,
   "id": "7b452aa3-0702-4946-9ca0-020fe8d5f36a",
   "metadata": {},
   "outputs": [
    {
     "name": "stdout",
     "output_type": "stream",
     "text": [
      "[np.float64(0.05442176870748299), np.float64(0.0036101083032490976), np.float64(0.7818181818181819), np.float64(0.11990111248454882), np.float64(0.0989399293286219)]\n"
     ]
    }
   ],
   "source": [
    "\n",
    "bog95_hs = df[(df['bog95smp'] == 1)]['hsvisit'].mean()\n",
    "bog97_hs = df[(df['bog97smp'] == 1)]['hsvisit'].mean()\n",
    "jam93_hs = df[(df['jam93smp'] == 1)]['hsvisit'].mean()\n",
    "comb_hs = df[(df[['bog95smp','bog97smp','jam93smp']].any(axis=1))]['hsvisit'].mean()\n",
    "test_hs = df[(df['test_tak'] == 1)]['hsvisit'].mean()\n",
    "\n",
    "print([bog95_hs, bog97_hs, jam93_hs, comb_hs, test_hs])\n"
   ]
  },
  {
   "cell_type": "markdown",
   "id": "b4368574-10f2-4d53-8c63-77e2cfac3e28",
   "metadata": {},
   "source": [
    "### Age at time of survey"
   ]
  },
  {
   "cell_type": "code",
   "execution_count": 57,
   "id": "b1a7e04d-d2fa-4e14-8439-e58a382db8d6",
   "metadata": {},
   "outputs": [
    {
     "name": "stdout",
     "output_type": "stream",
     "text": [
      "Mean age: [np.float64(15.0), np.float64(13.1), np.float64(16.9), np.float64(14.9), np.float64(14.8)]\n",
      "Std dev: [np.float64(1.3), np.float64(1.4), np.float64(1.5), np.float64(1.7), np.float64(1.3)]\n"
     ]
    }
   ],
   "source": [
    "def mean_std_age(col):\n",
    "    subset = df[(df[col] == 1)]['age']\n",
    "    return round(subset.mean(), 1), round(subset.std(), 1)\n",
    "\n",
    "def mean_std_age_combined(cols):\n",
    "    subset = df[(df[cols].sum(axis=1) == 1)]['age']\n",
    "    return round(subset.mean(), 1), round(subset.std(), 1)\n",
    "\n",
    "bog95_age, bog95_std = mean_std_age('bog95smp')\n",
    "bog97_age, bog97_std = mean_std_age('bog97smp')\n",
    "jam93_age, jam93_std = mean_std_age('jam93smp')\n",
    "comb_age, comb_std = mean_std_age_combined(['bog95smp', 'bog97smp', 'jam93smp'])\n",
    "test_age, test_std = mean_std_age('test_tak')\n",
    "\n",
    "print(\"Mean age:\", [bog95_age, bog97_age, jam93_age, comb_age, test_age])\n",
    "print(\"Std dev:\", [bog95_std, bog97_std, jam93_std, comb_std, test_std])\n"
   ]
  },
  {
   "cell_type": "markdown",
   "id": "340d7b5e-178c-442e-b9be-15c47a22e22d",
   "metadata": {},
   "source": [
    "### Age on application date (from application data)"
   ]
  },
  {
   "cell_type": "code",
   "execution_count": 58,
   "id": "bb53a8c1-d51c-4f71-bebe-ddd15f3f9360",
   "metadata": {},
   "outputs": [
    {
     "name": "stdout",
     "output_type": "stream",
     "text": [
      "Mean age2: [np.float64(12.6), np.float64(12.4), np.float64(12.5), np.float64(12.6), np.float64(12.4)]\n",
      "Std dev: [np.float64(1.3), np.float64(1.4), np.float64(1.9), np.float64(1.4), np.float64(1.2)]\n"
     ]
    }
   ],
   "source": [
    "def mean_std_age2(col):\n",
    "    subset = df[(df[col] == 1) & df['age2'].notna()]['age2']\n",
    "    return round(subset.mean(), 1), round(subset.std(), 1)\n",
    "\n",
    "def mean_std_age2_combined(cols):\n",
    "    subset = df[(df[cols].sum(axis=1) == 1) & df['age2'].notna()]['age2']\n",
    "    return round(subset.mean(), 1), round(subset.std(), 1)\n",
    "\n",
    "bog95_age2, bog95_std2 = mean_std_age2('bog95smp')\n",
    "bog97_age2, bog97_std2 = mean_std_age2('bog97smp')\n",
    "jam93_age2, jam93_std2 = mean_std_age2('jam93smp')\n",
    "comb_age2, comb_std2 = mean_std_age2_combined(['bog95smp', 'bog97smp', 'jam93smp'])\n",
    "test_age2, test_std2 = mean_std_age2('test_tak')\n",
    "\n",
    "print(\"Mean age2:\", [bog95_age2, bog97_age2, jam93_age2, comb_age2, test_age2])\n",
    "print(\"Std dev:\", [bog95_std2, bog97_std2, jam93_std2, comb_std2, test_std2])\n"
   ]
  },
  {
   "cell_type": "markdown",
   "id": "ea5e764a-c16e-44dc-bd2d-8892e664c08b",
   "metadata": {},
   "source": [
    "### Male, Started 6th grade in private, Started 7th grade in private"
   ]
  },
  {
   "cell_type": "code",
   "execution_count": 61,
   "id": "0147a342-d28d-4023-bd41-c591750d5e1a",
   "metadata": {},
   "outputs": [
    {
     "data": {
      "text/plain": [
       "Index(['id', 'bog95smp', 'bog97smp', 'jam93smp', 'sex', 'age', 'age2',\n",
       "       'hsvisit', 'scyfnsh', 'inschl', 'prsch_c', 'prscha_1', 'prscha_2',\n",
       "       'vouch0', 'bog95asd', 'bog97asd', 'jam93asd', 'dbogota', 'djamundi',\n",
       "       'd1995', 'd1997', 'response', 'test_tak', 'sex_name', 'svy', 'd1993',\n",
       "       'phone', 'darea1', 'darea2', 'darea3', 'darea4', 'darea5', 'darea6',\n",
       "       'darea7', 'darea8', 'darea9', 'darea10', 'darea11', 'darea12',\n",
       "       'darea13', 'darea14', 'darea15', 'darea16', 'darea17', 'darea18',\n",
       "       'darea19', 'dmonth1', 'dmonth2', 'dmonth3', 'dmonth4', 'dmonth5',\n",
       "       'dmonth6', 'dmonth7', 'dmonth8', 'dmonth9', 'dmonth10', 'dmonth11',\n",
       "       'dmonth12', 'bog95', 'bog97', 'mom_sch', 'mom_age', 'mom_mw', 'dad_sch',\n",
       "       'dad_age', 'dad_mw', 'sex2', 'strata1', 'strata2', 'strata3', 'strata4',\n",
       "       'strata5', 'strata6', 'stratams', 'rept6', 'totscyrs', 'haschild',\n",
       "       'married', 'working', 'rept', 'nrept', 'finish6', 'finish7', 'finish8',\n",
       "       'sex_miss', 'usngsch', 'hoursum', 'tab3smpl', 'working3'],\n",
       "      dtype='object')"
      ]
     },
     "execution_count": 61,
     "metadata": {},
     "output_type": "execute_result"
    }
   ],
   "source": [
    "df.columns"
   ]
  },
  {
   "cell_type": "code",
   "execution_count": 71,
   "id": "2a27c175-0003-4e7d-9f7a-415eb59bb1a2",
   "metadata": {},
   "outputs": [
    {
     "data": {
      "text/plain": [
       "2        1.0\n",
       "3        0.0\n",
       "4        1.0\n",
       "5        1.0\n",
       "6        0.0\n",
       "        ... \n",
       "25325    NaN\n",
       "25326    NaN\n",
       "25327    NaN\n",
       "25328    NaN\n",
       "25329    NaN\n",
       "Name: sex_name, Length: 25328, dtype: float64"
      ]
     },
     "execution_count": 71,
     "metadata": {},
     "output_type": "execute_result"
    }
   ],
   "source": [
    "df['sex_name']"
   ]
  },
  {
   "cell_type": "code",
   "execution_count": 76,
   "id": "90ec2d67-5b99-4a43-83fe-a5132291ae25",
   "metadata": {},
   "outputs": [
    {
     "name": "stdout",
     "output_type": "stream",
     "text": [
      "Male: [np.float64(0.501), np.float64(0.505), np.float64(0.424), np.float64(0.494), np.float64(0.523)]\n",
      "Started 6th grade in private: [np.float64(0.91), np.float64(0.88), np.float64(0.669), np.float64(0.88), np.float64(0.929)]\n",
      "Started 7th grade in private: [np.float64(0.763), np.float64(0.731), np.float64(0.626), np.float64(0.744), np.float64(0.821)]\n"
     ]
    }
   ],
   "source": [
    "def group_mean(col):\n",
    "    bog95 = df[(df['bog95smp'] == 1)][col].mean()\n",
    "    bog97 = df[(df['bog97smp'] == 1)][col].mean()\n",
    "    jam93 = df[(df['jam93smp'] == 1)][col].mean()\n",
    "    comb  = df[((df[['bog95smp', 'bog97smp', 'jam93smp']].sum(axis=1) == 1))][col].mean()\n",
    "    test  = df[(df['test_tak'] == 1)][col].mean()\n",
    "    return [round(x, 3) for x in [bog95, bog97, jam93, comb, test]]\n",
    "\n",
    "print(\"Male:\", group_mean('sex'))\n",
    "\n",
    "# Started 6th grade in private # 'finish6', ~strata6, 'prscha_1'\n",
    "print(\"Started 6th grade in private:\", group_mean('prscha_1'))\n",
    "\n",
    "# Started 7th grade in private\n",
    "print(\"Started 7th grade in private:\", group_mean('prscha_2'))\n"
   ]
  },
  {
   "cell_type": "markdown",
   "id": "d85ce6b2-8336-4601-ace5-beead3258774",
   "metadata": {},
   "source": [
    "### Currently in private school, Highest grade completed, Currently in school"
   ]
  },
  {
   "cell_type": "code",
   "execution_count": 68,
   "id": "02d87a70-dc5c-4b14-9ac0-42240c2cf0ff",
   "metadata": {},
   "outputs": [
    {
     "name": "stdout",
     "output_type": "stream",
     "text": [
      "Currently in private school: [np.float64(0.626), np.float64(0.737), np.float64(0.512), np.float64(0.634), np.float64(0.699)]\n",
      "Highest grade completed: [np.float64(7.586), np.float64(6.026), np.float64(8.564), np.float64(7.415), np.float64(7.734)]\n",
      "Std dev of highest grade: [np.float64(0.94), np.float64(0.497), np.float64(1.1), np.float64(1.142), np.float64(0.871)]\n",
      "Currently in school: [np.float64(0.842), np.float64(0.959), np.float64(0.781), np.float64(0.856), np.float64(0.907)]\n"
     ]
    }
   ],
   "source": [
    "def group_stat(col, return_std=False):\n",
    "    base = df[df['age2'].notna()]\n",
    "    groups = [\n",
    "        base.loc[base['bog95smp'] == 1, col],\n",
    "        base.loc[base['bog97smp'] == 1, col],\n",
    "        base.loc[base['jam93smp'] == 1, col],\n",
    "        base.loc[base[['bog95smp', 'bog97smp', 'jam93smp']].sum(axis=1) == 1, col],\n",
    "        base.loc[base['test_tak'] == 1, col]\n",
    "    ]\n",
    "    if return_std:\n",
    "        return [round(g.std(), 3) for g in groups]\n",
    "    else:\n",
    "        return [round(g.mean(), 3) for g in groups]\n",
    "\n",
    "# Currently in private school, 'prsch_c'\n",
    "print(\"Currently in private school:\", group_stat('prsch_c'))\n",
    "\n",
    "# Highest grade completed (mean)\n",
    "print(\"Highest grade completed:\", group_stat('scyfnsh'))\n",
    "\n",
    "# Highest grade completed (std dev in parentheses)\n",
    "print(\"Std dev of highest grade:\", group_stat('scyfnsh', return_std=True))\n",
    "\n",
    "# Currently in school, 'inschl'\n",
    "print(\"Currently in school:\", group_stat('inschl'))\n"
   ]
  },
  {
   "cell_type": "code",
   "execution_count": null,
   "id": "1c888ffd-8ac6-4363-9535-b3e63bafc1bb",
   "metadata": {},
   "outputs": [],
   "source": []
  },
  {
   "cell_type": "code",
   "execution_count": null,
   "id": "125f23e9-8b59-47d9-bfbd-6d3b0373a317",
   "metadata": {},
   "outputs": [],
   "source": []
  },
  {
   "cell_type": "code",
   "execution_count": null,
   "id": "a13abaab-2e4d-4c63-9d59-102239e9cd43",
   "metadata": {},
   "outputs": [],
   "source": []
  },
  {
   "cell_type": "code",
   "execution_count": null,
   "id": "032543d1-0f5c-41fa-aa04-01d98240595d",
   "metadata": {},
   "outputs": [],
   "source": []
  }
 ],
 "metadata": {
  "kernelspec": {
   "display_name": "Python 3 (ipykernel)",
   "language": "python",
   "name": "python3"
  },
  "language_info": {
   "codemirror_mode": {
    "name": "ipython",
    "version": 3
   },
   "file_extension": ".py",
   "mimetype": "text/x-python",
   "name": "python",
   "nbconvert_exporter": "python",
   "pygments_lexer": "ipython3",
   "version": "3.11.12"
  }
 },
 "nbformat": 4,
 "nbformat_minor": 5
}
