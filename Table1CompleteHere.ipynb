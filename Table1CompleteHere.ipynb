{
 "cells": [
  {
   "cell_type": "code",
   "execution_count": 1,
   "id": "880ef66d-5143-4493-b924-d4e8eae933f0",
   "metadata": {},
   "outputs": [],
   "source": [
    "import pandas as pd"
   ]
  },
  {
   "cell_type": "code",
   "execution_count": 2,
   "id": "5419ec39-b67c-4cb9-97be-8c71de1da813",
   "metadata": {},
   "outputs": [
    {
     "data": {
      "text/html": [
       "<div>\n",
       "<style scoped>\n",
       "    .dataframe tbody tr th:only-of-type {\n",
       "        vertical-align: middle;\n",
       "    }\n",
       "\n",
       "    .dataframe tbody tr th {\n",
       "        vertical-align: top;\n",
       "    }\n",
       "\n",
       "    .dataframe thead th {\n",
       "        text-align: right;\n",
       "    }\n",
       "</style>\n",
       "<table border=\"1\" class=\"dataframe\">\n",
       "  <thead>\n",
       "    <tr style=\"text-align: right;\">\n",
       "      <th></th>\n",
       "      <th>id</th>\n",
       "      <th>bog95smp</th>\n",
       "      <th>bog97smp</th>\n",
       "      <th>jam93smp</th>\n",
       "      <th>sex</th>\n",
       "      <th>age</th>\n",
       "      <th>age2</th>\n",
       "      <th>hsvisit</th>\n",
       "      <th>scyfnsh</th>\n",
       "      <th>inschl</th>\n",
       "      <th>...</th>\n",
       "      <th>rept</th>\n",
       "      <th>nrept</th>\n",
       "      <th>finish6</th>\n",
       "      <th>finish7</th>\n",
       "      <th>finish8</th>\n",
       "      <th>sex_miss</th>\n",
       "      <th>usngsch</th>\n",
       "      <th>hoursum</th>\n",
       "      <th>tab3smpl</th>\n",
       "      <th>working3</th>\n",
       "    </tr>\n",
       "  </thead>\n",
       "  <tbody>\n",
       "    <tr>\n",
       "      <th>0</th>\n",
       "      <td>NaN</td>\n",
       "      <td>0.0</td>\n",
       "      <td>0.0</td>\n",
       "      <td>0.0</td>\n",
       "      <td>NaN</td>\n",
       "      <td>NaN</td>\n",
       "      <td>NaN</td>\n",
       "      <td>NaN</td>\n",
       "      <td>5.0</td>\n",
       "      <td>NaN</td>\n",
       "      <td>...</td>\n",
       "      <td>NaN</td>\n",
       "      <td>NaN</td>\n",
       "      <td>NaN</td>\n",
       "      <td>NaN</td>\n",
       "      <td>NaN</td>\n",
       "      <td>NaN</td>\n",
       "      <td>NaN</td>\n",
       "      <td>NaN</td>\n",
       "      <td>NaN</td>\n",
       "      <td>NaN</td>\n",
       "    </tr>\n",
       "    <tr>\n",
       "      <th>1</th>\n",
       "      <td>1.0</td>\n",
       "      <td>0.0</td>\n",
       "      <td>0.0</td>\n",
       "      <td>0.0</td>\n",
       "      <td>1.0</td>\n",
       "      <td>NaN</td>\n",
       "      <td>12.0</td>\n",
       "      <td>NaN</td>\n",
       "      <td>5.0</td>\n",
       "      <td>NaN</td>\n",
       "      <td>...</td>\n",
       "      <td>NaN</td>\n",
       "      <td>NaN</td>\n",
       "      <td>NaN</td>\n",
       "      <td>NaN</td>\n",
       "      <td>NaN</td>\n",
       "      <td>NaN</td>\n",
       "      <td>NaN</td>\n",
       "      <td>NaN</td>\n",
       "      <td>NaN</td>\n",
       "      <td>NaN</td>\n",
       "    </tr>\n",
       "    <tr>\n",
       "      <th>2</th>\n",
       "      <td>2.0</td>\n",
       "      <td>0.0</td>\n",
       "      <td>0.0</td>\n",
       "      <td>0.0</td>\n",
       "      <td>0.0</td>\n",
       "      <td>NaN</td>\n",
       "      <td>13.0</td>\n",
       "      <td>NaN</td>\n",
       "      <td>5.0</td>\n",
       "      <td>NaN</td>\n",
       "      <td>...</td>\n",
       "      <td>NaN</td>\n",
       "      <td>NaN</td>\n",
       "      <td>NaN</td>\n",
       "      <td>NaN</td>\n",
       "      <td>NaN</td>\n",
       "      <td>NaN</td>\n",
       "      <td>NaN</td>\n",
       "      <td>NaN</td>\n",
       "      <td>NaN</td>\n",
       "      <td>NaN</td>\n",
       "    </tr>\n",
       "    <tr>\n",
       "      <th>3</th>\n",
       "      <td>3.0</td>\n",
       "      <td>1.0</td>\n",
       "      <td>0.0</td>\n",
       "      <td>0.0</td>\n",
       "      <td>0.0</td>\n",
       "      <td>14.0</td>\n",
       "      <td>12.0</td>\n",
       "      <td>0.0</td>\n",
       "      <td>8.0</td>\n",
       "      <td>1.0</td>\n",
       "      <td>...</td>\n",
       "      <td>0.0</td>\n",
       "      <td>0.0</td>\n",
       "      <td>1.0</td>\n",
       "      <td>1.0</td>\n",
       "      <td>1.0</td>\n",
       "      <td>0.0</td>\n",
       "      <td>1.0</td>\n",
       "      <td>0.0</td>\n",
       "      <td>1.0</td>\n",
       "      <td>0.0</td>\n",
       "    </tr>\n",
       "    <tr>\n",
       "      <th>4</th>\n",
       "      <td>4.0</td>\n",
       "      <td>1.0</td>\n",
       "      <td>0.0</td>\n",
       "      <td>0.0</td>\n",
       "      <td>1.0</td>\n",
       "      <td>14.0</td>\n",
       "      <td>12.0</td>\n",
       "      <td>0.0</td>\n",
       "      <td>8.0</td>\n",
       "      <td>1.0</td>\n",
       "      <td>...</td>\n",
       "      <td>0.0</td>\n",
       "      <td>0.0</td>\n",
       "      <td>1.0</td>\n",
       "      <td>1.0</td>\n",
       "      <td>1.0</td>\n",
       "      <td>0.0</td>\n",
       "      <td>1.0</td>\n",
       "      <td>0.0</td>\n",
       "      <td>1.0</td>\n",
       "      <td>0.0</td>\n",
       "    </tr>\n",
       "  </tbody>\n",
       "</table>\n",
       "<p>5 rows × 89 columns</p>\n",
       "</div>"
      ],
      "text/plain": [
       "    id  bog95smp  bog97smp  jam93smp  sex   age  age2  hsvisit  scyfnsh  \\\n",
       "0  NaN       0.0       0.0       0.0  NaN   NaN   NaN      NaN      5.0   \n",
       "1  1.0       0.0       0.0       0.0  1.0   NaN  12.0      NaN      5.0   \n",
       "2  2.0       0.0       0.0       0.0  0.0   NaN  13.0      NaN      5.0   \n",
       "3  3.0       1.0       0.0       0.0  0.0  14.0  12.0      0.0      8.0   \n",
       "4  4.0       1.0       0.0       0.0  1.0  14.0  12.0      0.0      8.0   \n",
       "\n",
       "   inschl  ...  rept  nrept  finish6  finish7  finish8  sex_miss  usngsch  \\\n",
       "0     NaN  ...   NaN    NaN      NaN      NaN      NaN       NaN      NaN   \n",
       "1     NaN  ...   NaN    NaN      NaN      NaN      NaN       NaN      NaN   \n",
       "2     NaN  ...   NaN    NaN      NaN      NaN      NaN       NaN      NaN   \n",
       "3     1.0  ...   0.0    0.0      1.0      1.0      1.0       0.0      1.0   \n",
       "4     1.0  ...   0.0    0.0      1.0      1.0      1.0       0.0      1.0   \n",
       "\n",
       "   hoursum  tab3smpl  working3  \n",
       "0      NaN       NaN       NaN  \n",
       "1      NaN       NaN       NaN  \n",
       "2      NaN       NaN       NaN  \n",
       "3      0.0       1.0       0.0  \n",
       "4      0.0       1.0       0.0  \n",
       "\n",
       "[5 rows x 89 columns]"
      ]
     },
     "execution_count": 2,
     "metadata": {},
     "output_type": "execute_result"
    }
   ],
   "source": [
    "data_path = \"aerdat4.dta\"\n",
    "df = pd.read_stata(data_path)\n",
    "\n",
    "df.head()"
   ]
  },
  {
   "cell_type": "code",
   "execution_count": 3,
   "id": "d156814a-d7c3-4d15-9f60-e1c39e11d8e0",
   "metadata": {},
   "outputs": [
    {
     "data": {
      "text/plain": [
       "(np.float64(6158.0), np.float64(4045.0), np.float64(1770.0), np.float64(343.0))"
      ]
     },
     "execution_count": 3,
     "metadata": {},
     "output_type": "execute_result"
    }
   ],
   "source": [
    "#Populations\n",
    "bog95_pop = df['bog95'].sum()\n",
    "bog97_pop = df['bog97'].sum()\n",
    "jam93_pop = df['djamundi'].sum()\n",
    "combined_sample = bog95_pop + bog97_pop + jam93_pop\n",
    "combined_sample, bog95_pop, bog97_pop, jam93_pop"
   ]
  },
  {
   "cell_type": "markdown",
   "id": "af638684-0029-4bb0-b2af-df4d701ccdef",
   "metadata": {},
   "source": [
    "# TABLE 1"
   ]
  },
  {
   "cell_type": "markdown",
   "id": "09cc0513-0ce3-4cdc-bbcd-66d09621172d",
   "metadata": {},
   "source": [
    "## Part A: Population"
   ]
  },
  {
   "cell_type": "markdown",
   "id": "2de98f63-2ec9-4570-8a2d-021eb05085fb",
   "metadata": {},
   "source": [
    "### N:"
   ]
  },
  {
   "cell_type": "code",
   "execution_count": 4,
   "id": "7422c591-3650-474f-ac3a-65165e372d94",
   "metadata": {},
   "outputs": [
    {
     "data": {
      "text/plain": [
       "(np.float64(4050.0), np.float64(2378.0), np.float64(1500.0), np.float64(172.0))"
      ]
     },
     "execution_count": 4,
     "metadata": {},
     "output_type": "execute_result"
    }
   ],
   "source": [
    "\n",
    "vouch_df = df[df['vouch0'] == 1]\n",
    "vbog95_pop = vouch_df['bog95'].sum()\n",
    "vbog97_pop = vouch_df['bog97'].sum()\n",
    "vjam93_pop = vouch_df['djamundi'].sum()\n",
    "vcombined_sample = vbog95_pop + vbog97_pop + vjam93_pop\n",
    "vcombined_sample, vbog95_pop, vbog97_pop, vjam93_pop"
   ]
  },
  {
   "cell_type": "markdown",
   "id": "585549d3-d23f-4245-afb8-64da7df3c3ef",
   "metadata": {},
   "source": [
    "### Percentage awarded vouchers"
   ]
  },
  {
   "cell_type": "code",
   "execution_count": 5,
   "id": "3150236a-de15-4712-9953-d5e0f880c110",
   "metadata": {},
   "outputs": [
    {
     "data": {
      "text/plain": [
       "(np.float64(58.78862793572311),\n",
       " np.float64(84.7457627118644),\n",
       " np.float64(50.14577259475219),\n",
       " np.float64(65.76810652809354))"
      ]
     },
     "execution_count": 5,
     "metadata": {},
     "output_type": "execute_result"
    }
   ],
   "source": [
    "\n",
    "perc_bog95 = vbog95_pop / bog95_pop * 100\n",
    "perc_bog97 = vbog97_pop / bog97_pop * 100\n",
    "perc_jam93 = vjam93_pop / jam93_pop * 100\n",
    "perc_comb_samp = vcombined_sample / combined_sample * 100\n",
    "perc_bog95, perc_bog97, perc_jam93, perc_comb_samp"
   ]
  },
  {
   "cell_type": "markdown",
   "id": "9913791c-6abf-4a45-8c62-878d2ffa7656",
   "metadata": {},
   "source": [
    "## Part B: Attempted Interviews"
   ]
  },
  {
   "cell_type": "markdown",
   "id": "182b1fd2-7714-41bb-90a0-fd17644cb120",
   "metadata": {},
   "source": [
    "### N"
   ]
  },
  {
   "cell_type": "code",
   "execution_count": 6,
   "id": "61f5b21b-c970-4130-8b36-406535008050",
   "metadata": {},
   "outputs": [
    {
     "name": "stdout",
     "output_type": "stream",
     "text": [
      "[2249.0, 457.0, 279.0, 2985.0, 283.0]\n"
     ]
    }
   ],
   "source": [
    "# Attempted interviews\n",
    "bog95_int = df['bog95asd'].sum()\n",
    "bog97_int = df['bog97asd'].sum()\n",
    "jam93_int = df['jam93asd'].sum()\n",
    "test_int = df[df['test_tak'] == 1].shape[0]  # include all test-takers\n",
    "\n",
    "comb_int = bog95_int + bog97_int + jam93_int\n",
    "\n",
    "# Order: Bogotá 1995, Bogotá 1997, Jamundí 1993, Combined, Test-takers\n",
    "print([\n",
    "    float(bog95_int),\n",
    "    float(bog97_int),\n",
    "    float(jam93_int),\n",
    "    float(comb_int),\n",
    "    float(test_int)\n",
    "])\n"
   ]
  },
  {
   "cell_type": "markdown",
   "id": "7b350e91-349c-4c48-86bd-25e30184a3a5",
   "metadata": {},
   "source": [
    "### Percentage awarded vouchers"
   ]
  },
  {
   "cell_type": "code",
   "execution_count": 7,
   "id": "58dd6b6e-5b46-4438-9edb-52aabe769a52",
   "metadata": {},
   "outputs": [
    {
     "name": "stdout",
     "output_type": "stream",
     "text": [
      "[50.89285714285714, 53.67647058823529, 55.21472392638037, 51.832797427652736, 56.82656826568265]\n"
     ]
    }
   ],
   "source": [
    "# Voucher winners\n",
    "vouch_df = df[df['vouch0'] == 1]\n",
    "\n",
    "# Count winners in attempted interviews\n",
    "bog95_win = vouch_df[vouch_df['bog95smp'] == 1]['age2'].notna().sum()\n",
    "bog97_win = vouch_df[vouch_df['bog97smp'] == 1]['age2'].notna().sum()\n",
    "jam93_win = vouch_df[vouch_df['jam93smp'] == 1]['age2'].notna().sum()\n",
    "\n",
    "# Total attempted interviews\n",
    "bog95_int = df[df['bog95smp'] == 1]['age2'].notna().sum()\n",
    "bog97_int = df[df['bog97smp'] == 1]['age2'].notna().sum()\n",
    "jam93_int = df[df['jam93smp'] == 1]['age2'].notna().sum()\n",
    "\n",
    "# Combined\n",
    "combined_win = bog95_win + bog97_win + jam93_win\n",
    "combined_int = bog95_int + bog97_int + jam93_int\n",
    "\n",
    "# Test-takers\n",
    "test_int = df[df['test_tak'] == 1]['age2'].notna().sum()\n",
    "test_win = vouch_df[vouch_df['test_tak'] == 1]['age2'].notna().sum()\n",
    "\n",
    "# Percentage awarded vouchers\n",
    "perc_bog95 = bog95_win / bog95_int * 100\n",
    "perc_bog97 = bog97_win / bog97_int * 100\n",
    "perc_jam93 = jam93_win / jam93_int * 100\n",
    "perc_comb = combined_win / combined_int * 100\n",
    "perc_test = test_win / test_int * 100\n",
    "\n",
    "print([float(perc_bog95), float(perc_bog97), float(perc_jam93), float(perc_comb), float(perc_test)])"
   ]
  },
  {
   "cell_type": "markdown",
   "id": "b1249242-9399-477f-af7d-a14944456822",
   "metadata": {},
   "source": [
    "### Response rate"
   ]
  },
  {
   "cell_type": "code",
   "execution_count": 8,
   "id": "de79d688-8ec8-4ebf-b4e4-864c073cae0f",
   "metadata": {},
   "outputs": [
    {
     "name": "stdout",
     "output_type": "stream",
     "text": [
      "[1.0, 1.0, 1.0, 0.5209380234505863, 1.0]\n"
     ]
    }
   ],
   "source": [
    "bog95_comp = df[(df['bog95smp'] == 1) & (df['age2'].notna())].shape[0]\n",
    "bog97_comp = df[(df['bog97smp'] == 1) & (df['age2'].notna())].shape[0]\n",
    "jam93_comp = df[(df['jam93smp'] == 1) & (df['age2'].notna())].shape[0]\n",
    "test_comp = df[(df['test_tak'] == 1) & (df['age2'].notna())].shape[0]\n",
    "comb_comp = bog95_comp + bog97_comp + jam93_comp\n",
    "\n",
    "resp_bog95 = bog95_comp / bog95_int\n",
    "resp_bog97 = bog97_comp / bog97_int\n",
    "resp_jam93 = jam93_comp / jam93_int\n",
    "resp_comb = comb_comp / comb_int\n",
    "resp_test = test_comp / test_int\n",
    "\n",
    "print([float(resp_bog95), float(resp_bog97), float(resp_jam93), float(resp_comb), float(resp_test)])\n"
   ]
  },
  {
   "cell_type": "markdown",
   "id": "b7540959-6641-4239-910e-2a995087d785",
   "metadata": {},
   "source": [
    "### Winner Response Rate"
   ]
  },
  {
   "cell_type": "code",
   "execution_count": 9,
   "id": "ced3bfee-38cc-46d4-adf6-a441ce192ff3",
   "metadata": {},
   "outputs": [
    {
     "name": "stdout",
     "output_type": "stream",
     "text": [
      "[np.float64(0.5071174377224199), np.float64(0.6186440677966102), np.float64(0.6428571428571429), np.float64(0.5373333333333333), np.float64(0.9685534591194969)]\n"
     ]
    }
   ],
   "source": [
    "# Attempted interviews among winners (i.e., responded)\n",
    "bog95_win_comp = vouch_df[(vouch_df['bog95smp'] == 1) & (vouch_df['vouch0'] == 1) & (vouch_df['age2'].notna())].shape[0]\n",
    "bog97_win_comp = vouch_df[(vouch_df['bog97smp'] == 1) & (vouch_df['vouch0'] == 1) & (vouch_df['age2'].notna())].shape[0]\n",
    "jam93_win_comp = vouch_df[(vouch_df['jam93smp'] == 1) & (vouch_df['vouch0'] == 1) & (vouch_df['age2'].notna())].shape[0]\n",
    "test_win_comp  = vouch_df[(vouch_df['test_tak'] == 1) & (vouch_df['vouch0'] == 1) & (vouch_df['age2'].notna())].shape[0]\n",
    "\n",
    "# All assigned winners\n",
    "bog95_win_total = vouch_df['bog95asd'].sum()\n",
    "bog97_win_total = vouch_df['bog97asd'].sum()\n",
    "jam93_win_total = vouch_df['jam93asd'].sum()\n",
    "test_win_total = vouch_df['test_tak'].sum()\n",
    "\n",
    "# Rates\n",
    "resp_bog95_win = bog95_win_comp / bog95_win_total\n",
    "resp_bog97_win = bog97_win_comp / bog97_win_total\n",
    "resp_jam93_win = jam93_win_comp / jam93_win_total\n",
    "resp_comb_win  = (bog95_win_comp + bog97_win_comp + jam93_win_comp) / (bog95_win_total + bog97_win_total + jam93_win_total)\n",
    "resp_test_win  = test_win_comp / test_win_total\n",
    "\n",
    "print([resp_bog95_win, resp_bog97_win, resp_jam93_win, resp_comb_win, resp_test_win])"
   ]
  },
  {
   "cell_type": "markdown",
   "id": "956829bd-40d1-40c7-bacd-d058abca3c08",
   "metadata": {},
   "source": [
    "### Loser Response Rate"
   ]
  },
  {
   "cell_type": "code",
   "execution_count": 10,
   "id": "44c41187-cc3b-4002-8766-61edec96d624",
   "metadata": {},
   "outputs": [
    {
     "name": "stdout",
     "output_type": "stream",
     "text": [
      "[np.float64(0.4888888888888889), np.float64(0.5701357466063348), np.float64(0.5251798561151079), np.float64(0.5043771043771044), np.float64(0.9435483870967742)]\n"
     ]
    }
   ],
   "source": [
    "# Attempted interviews among losers \n",
    "bog95_lose_int = df[(df['bog95smp'] == 1) & (df['vouch0'] == 0) & (df['age2'].notna())].shape[0]\n",
    "bog97_lose_int = df[(df['bog97smp'] == 1) & (df['vouch0'] == 0) & (df['age2'].notna())].shape[0]\n",
    "jam93_lose_int = df[(df['jam93smp'] == 1) & (df['vouch0'] == 0) & (df['age2'].notna())].shape[0]\n",
    "test_lose_int  = df[(df['test_tak'] == 1) & (df['vouch0'] == 0) & (df['age2'].notna())].shape[0]\n",
    "\n",
    "# Completed interview totals \n",
    "bog95_lose_total = df[(df['vouch0'] == 0)]['bog95asd'].sum()\n",
    "bog97_lose_total = df[(df['vouch0'] == 0)]['bog97asd'].sum()\n",
    "jam93_lose_total = df[(df['vouch0'] == 0)]['jam93asd'].sum()\n",
    "test_lose_total  = df[(df['vouch0'] == 0)]['test_tak'].sum()\n",
    "\n",
    "# Rates\n",
    "resp_bog95_lose = bog95_lose_int / bog95_lose_total\n",
    "resp_bog97_lose = bog97_lose_int / bog97_lose_total\n",
    "resp_jam93_lose = jam93_lose_int / jam93_lose_total\n",
    "resp_comb_lose  = (bog95_lose_int + bog97_lose_int + jam93_lose_int) / (bog95_lose_total + bog97_lose_total + jam93_lose_total)\n",
    "resp_test_lose  = test_lose_int / test_lose_total\n",
    "\n",
    "print([resp_bog95_lose, resp_bog97_lose, resp_jam93_lose, resp_comb_lose, resp_test_lose])\n"
   ]
  },
  {
   "cell_type": "markdown",
   "id": "6f577e1e-c64a-4138-b38f-15aaa7d45ca7",
   "metadata": {},
   "source": [
    "## Part C: Completed Interviews"
   ]
  },
  {
   "cell_type": "markdown",
   "id": "baca0bc6-d615-4a86-8c3a-a53180eb10d9",
   "metadata": {},
   "source": [
    "### N:"
   ]
  },
  {
   "cell_type": "code",
   "execution_count": 11,
   "id": "224b11ee-6a00-482e-a76c-45daba719ae5",
   "metadata": {},
   "outputs": [
    {
     "name": "stdout",
     "output_type": "stream",
     "text": [
      "[1120, 272, 163, 1555, 271]\n"
     ]
    }
   ],
   "source": [
    "\n",
    "bog95_comp = df[(df['bog95smp'] == 1) & df['age2'].notna()].shape[0]\n",
    "bog97_comp = df[(df['bog97smp'] == 1) & df['age2'].notna()].shape[0]\n",
    "jam93_comp = df[(df['jam93smp'] == 1) & df['age2'].notna()].shape[0]\n",
    "test_comp = df[(df['test_tak'] == 1) & df['age2'].notna()].shape[0]\n",
    "comb_comp = bog95_comp + bog97_comp + jam93_comp\n",
    "\n",
    "print([bog95_comp, bog97_comp, jam93_comp, comb_comp, test_comp])\n"
   ]
  },
  {
   "cell_type": "markdown",
   "id": "7ec9b6a3-c2b1-413c-b289-912ed9eddc64",
   "metadata": {},
   "source": [
    "### Percentage awarded vouchers"
   ]
  },
  {
   "cell_type": "code",
   "execution_count": 12,
   "id": "3f36724c-b8b9-4193-9ab0-54c4ea56300f",
   "metadata": {},
   "outputs": [
    {
     "name": "stdout",
     "output_type": "stream",
     "text": [
      "[50.89285714285714, 53.67647058823529, 55.21472392638037, 51.832797427652736, 56.82656826568265]\n"
     ]
    }
   ],
   "source": [
    "bog95_v = df[(df['bog95smp'] == 1) & (df['vouch0'] == 1) & df['age2'].notna()].shape[0]\n",
    "bog97_v = df[(df['bog97smp'] == 1) & (df['vouch0'] == 1) & df['age2'].notna()].shape[0]\n",
    "jam93_v = df[(df['jam93smp'] == 1) & (df['vouch0'] == 1) & df['age2'].notna()].shape[0]\n",
    "test_v = df[(df['test_tak'] == 1) & (df['vouch0'] == 1) & df['age2'].notna()].shape[0]\n",
    "comb_v = bog95_v + bog97_v + jam93_v\n",
    "\n",
    "\n",
    "perc_bog95 = bog95_v / bog95_comp * 100\n",
    "perc_bog97 = bog97_v / bog97_comp * 100\n",
    "perc_jam93 = jam93_v / jam93_comp * 100\n",
    "perc_comb = comb_v / comb_comp * 100\n",
    "perc_test = test_v / test_comp * 100\n",
    "\n",
    "print([perc_bog95, perc_bog97, perc_jam93, perc_comb, perc_test])"
   ]
  },
  {
   "cell_type": "markdown",
   "id": "a72b2327-b273-49b9-9b62-0dcc920f80e6",
   "metadata": {},
   "source": [
    "### Household visit"
   ]
  },
  {
   "cell_type": "code",
   "execution_count": 13,
   "id": "7b452aa3-0702-4946-9ca0-020fe8d5f36a",
   "metadata": {},
   "outputs": [
    {
     "name": "stdout",
     "output_type": "stream",
     "text": [
      "[np.float64(0.054464285714285715), np.float64(0.003676470588235294), np.float64(0.7791411042944786), np.float64(0.12154340836012861), np.float64(0.1033210332103321)]\n"
     ]
    }
   ],
   "source": [
    "\n",
    "bog95_hs = df[(df['bog95smp'] == 1) & df['age2'].notna()]['hsvisit'].mean()\n",
    "bog97_hs = df[(df['bog97smp'] == 1) & df['age2'].notna()]['hsvisit'].mean()\n",
    "jam93_hs = df[(df['jam93smp'] == 1) & df['age2'].notna()]['hsvisit'].mean()\n",
    "comb_hs = df[(df[['bog95smp','bog97smp','jam93smp']].any(axis=1)) & df['age2'].notna()]['hsvisit'].mean()\n",
    "test_hs = df[(df['test_tak'] == 1) & df['age2'].notna()]['hsvisit'].mean()\n",
    "\n",
    "print([bog95_hs, bog97_hs, jam93_hs, comb_hs, test_hs])\n"
   ]
  },
  {
   "cell_type": "markdown",
   "id": "b4368574-10f2-4d53-8c63-77e2cfac3e28",
   "metadata": {},
   "source": [
    "### Age at time of application"
   ]
  },
  {
   "cell_type": "code",
   "execution_count": 14,
   "id": "b1a7e04d-d2fa-4e14-8439-e58a382db8d6",
   "metadata": {},
   "outputs": [
    {
     "name": "stdout",
     "output_type": "stream",
     "text": [
      "Mean age: [np.float64(15.0), np.float64(13.1), np.float64(16.9), np.float64(14.9), np.float64(14.8)]\n",
      "Std dev: [np.float64(1.3), np.float64(1.4), np.float64(1.5), np.float64(1.7), np.float64(1.3)]\n"
     ]
    }
   ],
   "source": [
    "def mean_std_age(col):\n",
    "    subset = df[(df[col] == 1) & df['age2'].notna()]['age']\n",
    "    return round(subset.mean(), 1), round(subset.std(), 1)\n",
    "\n",
    "def mean_std_age_combined(cols):\n",
    "    subset = df[(df[cols].sum(axis=1) == 1) & df['age2'].notna()]['age']\n",
    "    return round(subset.mean(), 1), round(subset.std(), 1)\n",
    "\n",
    "bog95_age, bog95_std = mean_std_age('bog95smp')\n",
    "bog97_age, bog97_std = mean_std_age('bog97smp')\n",
    "jam93_age, jam93_std = mean_std_age('jam93smp')\n",
    "comb_age, comb_std = mean_std_age_combined(['bog95smp', 'bog97smp', 'jam93smp'])\n",
    "test_age, test_std = mean_std_age('test_tak')\n",
    "\n",
    "print(\"Mean age:\", [bog95_age, bog97_age, jam93_age, comb_age, test_age])\n",
    "print(\"Std dev:\", [bog95_std, bog97_std, jam93_std, comb_std, test_std])\n"
   ]
  },
  {
   "cell_type": "markdown",
   "id": "340d7b5e-178c-442e-b9be-15c47a22e22d",
   "metadata": {},
   "source": [
    "### Age on survey date (from survey data)"
   ]
  },
  {
   "cell_type": "markdown",
   "id": "ad2ee308-45b8-43cf-a6d6-dc3d1f73d956",
   "metadata": {},
   "source": [
    "def mean_std_age2(col):\n",
    "    subset = df[(df[col] == 1) & df['age2'].notna()]['age2']\n",
    "    return round(subset.mean(), 1), round(subset.std(), 1)\n",
    "\n",
    "def mean_std_age2_combined(cols):\n",
    "    subset = df[(df[cols].sum(axis=1) == 1) & df['age2'].notna()]['age2']\n",
    "    return round(subset.mean(), 1), round(subset.std(), 1)\n",
    "\n",
    "bog95_age2, bog95_std2 = mean_std_age2('bog95smp')\n",
    "bog97_age2, bog97_std2 = mean_std_age2('bog97smp')\n",
    "jam93_age2, jam93_std2 = mean_std_age2('jam93smp')\n",
    "comb_age2, comb_std2 = mean_std_age2_combined(['bog95smp', 'bog97smp', 'jam93smp'])\n",
    "test_age2, test_std2 = mean_std_age2('test_tak')\n",
    "\n",
    "print(\"Mean age2:\", [bog95_age2, bog97_age2, jam93_age2, comb_age2, test_age2])\n",
    "print(\"Std dev:\", [bog95_std2, bog97_std2, jam93_std2, comb_std2, test_std2])\n"
   ]
  },
  {
   "cell_type": "markdown",
   "id": "ea5e764a-c16e-44dc-bd2d-8892e664c08b",
   "metadata": {},
   "source": [
    "### Male, Started 6th grade in private, Started 7th grade in private"
   ]
  },
  {
   "cell_type": "code",
   "execution_count": 18,
   "id": "90ec2d67-5b99-4a43-83fe-a5132291ae25",
   "metadata": {},
   "outputs": [
    {
     "name": "stdout",
     "output_type": "stream",
     "text": [
      "Male: [np.float64(0.501), np.float64(0.504), np.float64(0.417), np.float64(0.493), np.float64(0.52)]\n",
      "Started 6th grade in private: [np.float64(0.946), np.float64(0.915), np.float64(0.932), np.float64(0.939), np.float64(0.956)]\n",
      "Started 7th grade in private: [np.float64(0.865), np.float64(0.1), np.float64(0.92), np.float64(0.737), np.float64(0.893)]\n"
     ]
    }
   ],
   "source": [
    "def group_mean(col):\n",
    "    bog95 = df[(df['bog95smp'] == 1) & df['age2'].notna()][col].mean()\n",
    "    bog97 = df[(df['bog97smp'] == 1) & df['age2'].notna()][col].mean()\n",
    "    jam93 = df[(df['jam93smp'] == 1) & df['age2'].notna()][col].mean()\n",
    "    comb  = df[((df[['bog95smp', 'bog97smp', 'jam93smp']].sum(axis=1) == 1)) & df['age2'].notna()][col].mean()\n",
    "    test  = df[(df['test_tak'] == 1) & df['age2'].notna()][col].mean()\n",
    "    return [round(x, 3) for x in [bog95, bog97, jam93, comb, test]]\n",
    "\n",
    "print(\"Male:\", group_mean('sex'))\n",
    "\n",
    "# Started 6th grade in private\n",
    "print(\"Started 6th grade in private:\", group_mean('finish6'))\n",
    "\n",
    "# Started 7th grade in private\n",
    "print(\"Started 7th grade in private:\", group_mean('finish7'))\n"
   ]
  },
  {
   "cell_type": "markdown",
   "id": "d85ce6b2-8336-4601-ace5-beead3258774",
   "metadata": {},
   "source": [
    "### Currently in private school, Highest grade completed, Currently in school"
   ]
  },
  {
   "cell_type": "code",
   "execution_count": 24,
   "id": "02d87a70-dc5c-4b14-9ac0-42240c2cf0ff",
   "metadata": {},
   "outputs": [
    {
     "name": "stdout",
     "output_type": "stream",
     "text": [
      "Currently in private school: [np.float64(0.842), np.float64(0.959), np.float64(0.781), np.float64(0.856), np.float64(0.907)]\n",
      "Highest grade completed: [np.float64(7.586), np.float64(6.026), np.float64(8.564), np.float64(7.415), np.float64(7.734)]\n",
      "Std dev of highest grade: [np.float64(0.94), np.float64(0.497), np.float64(1.1), np.float64(1.142), np.float64(0.871)]\n",
      "Currently in school: [np.float64(0.317), np.float64(0.404), np.float64(0.259), np.float64(0.326), np.float64(0.406)]\n"
     ]
    }
   ],
   "source": [
    "def group_stat(col, return_std=False):\n",
    "    base = df[df['age2'].notna()]\n",
    "    groups = [\n",
    "        base.loc[base['bog95smp'] == 1, col],\n",
    "        base.loc[base['bog97smp'] == 1, col],\n",
    "        base.loc[base['jam93smp'] == 1, col],\n",
    "        base.loc[base[['bog95smp', 'bog97smp', 'jam93smp']].sum(axis=1) == 1, col],\n",
    "        base.loc[base['test_tak'] == 1, col]\n",
    "    ]\n",
    "    if return_std:\n",
    "        return [round(g.std(), 3) for g in groups]\n",
    "    else:\n",
    "        return [round(g.mean(), 3) for g in groups]\n",
    "\n",
    "# Currently in private school\n",
    "print(\"Currently in private school:\", group_stat('inschl'))\n",
    "\n",
    "# Highest grade completed (mean)\n",
    "print(\"Highest grade completed:\", group_stat('scyfnsh'))\n",
    "\n",
    "# Highest grade completed (std dev in parentheses)\n",
    "print(\"Std dev of highest grade:\", group_stat('scyfnsh', return_std=True))\n",
    "\n",
    "# Currently in school\n",
    "print(\"Currently in school:\", group_stat('usngsch'))\n"
   ]
  },
  {
   "cell_type": "code",
   "execution_count": null,
   "id": "1c888ffd-8ac6-4363-9535-b3e63bafc1bb",
   "metadata": {},
   "outputs": [],
   "source": []
  }
 ],
 "metadata": {
  "kernelspec": {
   "display_name": "Python 3 (ipykernel)",
   "language": "python",
   "name": "python3"
  },
  "language_info": {
   "codemirror_mode": {
    "name": "ipython",
    "version": 3
   },
   "file_extension": ".py",
   "mimetype": "text/x-python",
   "name": "python",
   "nbconvert_exporter": "python",
   "pygments_lexer": "ipython3",
   "version": "3.11.12"
  }
 },
 "nbformat": 4,
 "nbformat_minor": 5
}
