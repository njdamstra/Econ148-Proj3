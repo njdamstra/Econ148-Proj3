{
 "cells": [
  {
   "cell_type": "code",
   "execution_count": 1,
   "id": "f3279b58-357f-46de-96ea-0d80b8b700d3",
   "metadata": {},
   "outputs": [],
   "source": [
    "import numpy as np\n",
    "import pandas as pd\n",
    "import statsmodels.api as sm\n",
    "from statsmodels.stats.sandwich_covariance import cov_hc1"
   ]
  },
  {
   "cell_type": "code",
   "execution_count": 2,
   "id": "ff494f79-90a4-44f7-9653-a0866fce3929",
   "metadata": {},
   "outputs": [],
   "source": [
    "data_path = \"aerdat4.dta\"\n",
    "voucher = pd.read_stata(data_path)\n",
    "\n",
    "#only keep relevant columns \n",
    "drop_col = ['inschl', 'prsch_c', 'prscha_1', 'prscha_2','response',  'rept6', 'totscyrs', 'haschild', 'married', \n",
    " 'working', 'rept', 'nrept', 'finish6', 'finish7', 'finish8', 'sex_miss', 'usngsch', 'hoursum', 'tab3smpl',\n",
    " 'working3']\n",
    "df = voucher.drop(columns = drop_col)"
   ]
  },
  {
   "cell_type": "markdown",
   "id": "114fa1fc-eaea-46f1-83fe-c07646afdcbd",
   "metadata": {},
   "source": [
    "#### A: loser means "
   ]
  },
  {
   "cell_type": "code",
   "execution_count": 3,
   "id": "068467c2-937a-4f72-90c6-ba6849a55fef",
   "metadata": {},
   "outputs": [
    {
     "name": "stdout",
     "output_type": "stream",
     "text": [
      "             phone         age2     sex_name\n",
      "mean      0.881501    12.739302     0.492667\n",
      "std       0.323305     1.326919     0.500113\n",
      "count  1519.000000  1519.000000  1500.000000\n",
      "            phone        age2    sex_name\n",
      "mean     0.828125   12.738281    0.484127\n",
      "std      0.378011    1.530686    0.500743\n",
      "count  256.000000  256.000000  252.000000\n",
      "            phone        age2    sex_name\n",
      "mean     0.301205   12.692771    0.386076\n",
      "std      0.460170    1.504199    0.488396\n",
      "count  166.000000  166.000000  158.000000\n",
      "             phone         age2     sex_name\n",
      "mean      0.824833    12.735188     0.482723\n",
      "std       0.380208     1.370508     0.499832\n",
      "count  1941.000000  1941.000000  1910.000000\n"
     ]
    }
   ],
   "source": [
    "A_lose_bog95 = df[(df['age2']>=9) &  (df['age2']<=25) &  (df['vouch0'] == 0) &  \n",
    "    (df['id']<=4044)]\n",
    "A_lose_bog97 = df[(df['age2']>=9) &  (df['age2']<=25) & (df['vouch0'] == 0) &   \n",
    "    (df['dbogota']==1) & (df['d1997']==1)] \n",
    "A_lose_jum93 = df[(df['age2']>=9) & (df['age2']<=25) & (df['vouch0'] == 0) & \n",
    "    (df['djamundi']==1)]\n",
    "A_lose_combined = df[(df['age2']>=9) & (df['age2']<=25) & (df['vouch0'] == 0) & \n",
    "    ((df['dbogota']==1) | (df['djamundi']==1))]\n",
    "\n",
    "#loser means for bog95, bog97, jum93, and combined sample respectively\n",
    "A_loser_mean = [A_lose_bog95, A_lose_bog97, A_lose_jum93, A_lose_combined]\n",
    "for tbl in A_loser_mean:\n",
    "    result= tbl[['phone', 'age2','sex_name']].agg(['mean', 'std','count'])\n",
    "    print(result)"
   ]
  },
  {
   "cell_type": "markdown",
   "id": "de921159-75dc-4448-9f0d-4dce5ad10d32",
   "metadata": {},
   "source": [
    "#### B: loser means"
   ]
  },
  {
   "cell_type": "code",
   "execution_count": 4,
   "id": "54fedecf-4045-40db-8230-5a2f6baf3836",
   "metadata": {},
   "outputs": [
    {
     "name": "stdout",
     "output_type": "stream",
     "text": [
      "        phone         age2     sex_name\n",
      "mean      1.0    12.767150     0.500489\n",
      "std       0.0     1.340805     0.500244\n",
      "count  1035.0  1035.000000  1023.000000\n",
      "       phone        age2    sex_name\n",
      "mean     1.0   12.646226    0.488038\n",
      "std      0.0    1.521515    0.501057\n",
      "count  212.0  212.000000  209.000000\n",
      "            phone        age2    sex_name\n",
      "mean     0.370370   12.777778    0.372093\n",
      "std      0.484702    1.572462    0.485247\n",
      "count  135.000000  135.000000  129.000000\n",
      "             phone         age2     sex_name\n",
      "mean      0.938495    12.749638     0.486407\n",
      "std       0.240341     1.393420     0.499999\n",
      "count  1382.000000  1382.000000  1361.000000\n"
     ]
    }
   ],
   "source": [
    "B_lose_bog95 = df[(df['age2']>=9) &  (df['age2']<=25) &  (df['vouch0'] == 0) &  \n",
    "    (df['bog95asd']==1)]\n",
    "B_lose_bog97 = df[(df['age2']>=9) &  (df['age2']<=25) & (df['vouch0'] == 0) &   \n",
    "    (df['bog97asd']==1)] \n",
    "B_lose_jum93 = df[(df['age2']>=9) & (df['age2']<=25) & (df['vouch0'] == 0) & \n",
    "    (df['jam93asd']==1)]\n",
    "B_lose_combined = df[(df['age2']>=9) & (df['age2']<=25) & (df['vouch0'] == 0) & \n",
    "    ((df['bog95asd']==1) | (df['jam93asd']==1)| (df['bog97asd']==1))]\n",
    "\n",
    "#loser means for bog95, bog97, jum93, and combined sample respectively\n",
    "B_loser_mean = [B_lose_bog95, B_lose_bog97, B_lose_jum93, B_lose_combined]\n",
    "for tbl in B_loser_mean:\n",
    "    result= tbl[['phone', 'age2','sex_name']].agg(['mean', 'std','count'])\n",
    "    print(result)"
   ]
  },
  {
   "cell_type": "markdown",
   "id": "4991ac78-32de-429d-abaf-40acb2fd6894",
   "metadata": {},
   "source": [
    "#### C: loser means"
   ]
  },
  {
   "cell_type": "code",
   "execution_count": 5,
   "id": "73efd226-ae06-4554-8bf8-dec91d093a1a",
   "metadata": {},
   "outputs": [
    {
     "name": "stdout",
     "output_type": "stream",
     "text": [
      "              age        sex2     mom_sch     dad_sch     mom_age     dad_age  \\\n",
      "mean    15.036207    0.500858    5.892157    5.890244   40.745887   44.443231   \n",
      "std      1.350647    0.500429    2.668697    2.941176    7.326463    8.140590   \n",
      "count  580.000000  583.000000  510.000000  410.000000  547.000000  458.000000   \n",
      "\n",
      "           dad_mw  \n",
      "mean     0.099762  \n",
      "std      0.300040  \n",
      "count  421.000000  \n",
      "              age        sex2     mom_sch    dad_sch     mom_age     dad_age  \\\n",
      "mean    13.238462    0.526718    5.887931   5.541667   38.716667   41.882353   \n",
      "std      1.440305    0.501202    2.746608   2.495962    6.600463    7.293418   \n",
      "count  130.000000  131.000000  116.000000  96.000000  120.000000  102.000000   \n",
      "\n",
      "          dad_mw  \n",
      "mean    0.087912  \n",
      "std     0.284736  \n",
      "count  91.000000  \n",
      "             age       sex2    mom_sch    dad_sch    mom_age    dad_age  \\\n",
      "mean   17.189189   0.364865   4.385965   5.244444  43.559322  45.468085   \n",
      "std     1.391517   0.484678   2.717367   2.932231   8.810791   9.098139   \n",
      "count  74.000000  74.000000  57.000000  45.000000  59.000000  47.000000   \n",
      "\n",
      "          dad_mw  \n",
      "mean    0.133333  \n",
      "std     0.343776  \n",
      "count  45.000000  \n",
      "              age        sex2     mom_sch     dad_sch     mom_age     dad_age  \\\n",
      "mean    14.941327    0.492386    5.765739    5.776770   40.639118   44.092257   \n",
      "std      1.684313    0.500260    2.714282    2.870395    7.422933    8.135490   \n",
      "count  784.000000  788.000000  683.000000  551.000000  726.000000  607.000000   \n",
      "\n",
      "           dad_mw  \n",
      "mean     0.100539  \n",
      "std      0.300987  \n",
      "count  557.000000  \n"
     ]
    }
   ],
   "source": [
    "C_lose_bog95 = df[(df['vouch0'] == 0) & (df['bog95smp']==1)]\n",
    "C_lose_bog97 = df[(df['vouch0'] == 0) & (df['bog97smp']==1)] \n",
    "C_lose_jum93 = df[(df['vouch0'] == 0) & (df['jam93smp']==1)]\n",
    "C_lose_combined = df[(df['vouch0'] == 0) & ((df['bog95smp']==1) | (df['bog97smp']==1)| (df['jam93smp']==1))]\n",
    "\n",
    "#loser means for bog95, bog97, jum93, and combined sample respectively\n",
    "C_loser_mean = [C_lose_bog95, C_lose_bog97, C_lose_jum93, C_lose_combined]\n",
    "for tbl in C_loser_mean:\n",
    "    result= tbl[['age', 'sex2','mom_sch','dad_sch', 'mom_age', 'dad_age','dad_mw']].agg(['mean', 'std','count'])\n",
    "    print(result)"
   ]
  },
  {
   "cell_type": "markdown",
   "id": "0fb375d4-b416-4c39-ac51-52826f9fd16c",
   "metadata": {},
   "source": [
    "#### A: won voucher"
   ]
  },
  {
   "cell_type": "code",
   "execution_count": 6,
   "id": "22a60374-7125-49af-b433-93adb37921ca",
   "metadata": {},
   "outputs": [
    {
     "name": "stdout",
     "output_type": "stream",
     "text": [
      "          coeff        sd\n",
      "phone  0.008788  0.010697\n",
      "          coeff        sd\n",
      "phone  0.028632  0.025291\n",
      "          coeff        sd\n",
      "phone  0.067843  0.051749\n",
      "          coeff        sd\n",
      "phone  0.016637  0.009929\n",
      "         coeff        sd\n",
      "age2 -0.085707  0.044664\n",
      "        coeff        sd\n",
      "age2 -0.22747  0.101592\n",
      "         coeff        sd\n",
      "age2 -0.383247  0.162684\n",
      "         coeff      sd\n",
      "age2 -0.132819  0.0399\n",
      "             coeff        sd\n",
      "sex_name  0.012552  0.016934\n",
      "            coeff        sd\n",
      "sex_name  0.00651  0.043983\n",
      "             coeff       sd\n",
      "sex_name  0.113924  0.05534\n",
      "             coeff        sd\n",
      "sex_name  0.019368  0.015171\n",
      "count:\n",
      "{'bog95': 3661, 'bog97': 1736, 'jam93': 335, 'combined': 5732}\n"
     ]
    }
   ],
   "source": [
    "A_won_bog95 = df[(df['age2']>=9) &  (df['age2']<=25) &  \n",
    "    (df['id'] <= 4044)]\n",
    "A_won_bog97 = df[(df['age2']>=9) &  (df['age2']<=25) &  \n",
    "    (df['dbogota'] == 1) & (df['d1997']==1)]\n",
    "A_won_jam93 = df[(df['age2']>=9) &  (df['age2']<=25) &  \n",
    "    (df['djamundi'] == 1)]\n",
    "A_won_combine = df[(df['age2']>=9) &  (df['age2']<=25) &  \n",
    "    ((df['dbogota'] == 1) | (df['djamundi'] == 1))]\n",
    "A_won_coeff = [A_won_bog95, A_won_bog97, A_won_jam93, A_won_combine]\n",
    "\n",
    "#define dep and ind variables\n",
    "y_var = ['phone', 'age2', 'sex_name']\n",
    "x_var = ['vouch0', 'dbogota', 'djamundi', 'd1993', 'd1995', 'd1997']\n",
    "\n",
    "#winner coefficients for bog95, bog97, jum93, and combined sample respectively\n",
    "for y in y_var:\n",
    "    #remove NA values from dep var\n",
    "    for tbl in A_won_coeff:\n",
    "        if y == 'sex_name':\n",
    "            tbl = tbl[(tbl[y].notna())]\n",
    "        else:\n",
    "            tbl = tbl\n",
    "# Add constant to independent variables\n",
    "        X = sm.add_constant(tbl[x_var])\n",
    "# Create OLS model for each y variable  \n",
    "        coeff = {}\n",
    "        sd = {}\n",
    "        model = sm.OLS(tbl[y], X)\n",
    "        results = model.fit(cov_type='HC1')\n",
    "        coeff[y] =results.params['vouch0']\n",
    "        sd[y]=results.bse['vouch0']\n",
    "        A_won = pd.DataFrame({'coeff': coeff, 'sd': sd})\n",
    "        print(A_won)\n",
    "print('count:')\n",
    "print({'bog95':len(A_won_bog95),'bog97':len(A_won_bog97),'jam93':len(A_won_jam93),'combined':len(A_won_combine)})"
   ]
  },
  {
   "cell_type": "code",
   "execution_count": 7,
   "id": "451daa96-1f51-4896-a096-826bfc5e848c",
   "metadata": {},
   "outputs": [],
   "source": [
    "#### B: won voucher"
   ]
  },
  {
   "cell_type": "code",
   "execution_count": 8,
   "id": "cc503f18-57ad-4534-9104-1140119ac159",
   "metadata": {},
   "outputs": [
    {
     "name": "stdout",
     "output_type": "stream",
     "text": [
      "              coeff        sd\n",
      "phone -5.152129e-16  0.000966\n",
      "              coeff            sd\n",
      "phone  9.367507e-17  1.691363e-17\n",
      "          coeff        sd\n",
      "phone  0.082184  0.059682\n",
      "          coeff       sd\n",
      "phone  0.008027  0.00588\n",
      "         coeff       sd\n",
      "age2 -0.110417  0.06087\n",
      "         coeff        sd\n",
      "age2 -0.192837  0.136414\n",
      "         coeff        sd\n",
      "age2 -0.595296  0.183253\n",
      "         coeff        sd\n",
      "age2 -0.177093  0.052562\n",
      "             coeff        sd\n",
      "sex_name -0.006918  0.022201\n",
      "             coeff       sd\n",
      "sex_name -0.020227  0.04769\n",
      "             coeff        sd\n",
      "sex_name  0.101591  0.060943\n",
      "             coeff       sd\n",
      "sex_name  0.001133  0.01911\n",
      "count:\n",
      "{'bog95': 2067, 'bog97': 448, 'jam93': 272, 'combined': 2787}\n"
     ]
    }
   ],
   "source": [
    "B_won_bog95 = df[(df['age2']>=9) &  (df['age2']<=25) &  \n",
    "    (df['bog95asd']==1)]\n",
    "B_won_bog97 = df[(df['age2']>=9) &  (df['age2']<=25) &  \n",
    "    (df['bog97asd']==1)]\n",
    "B_won_jam93 = df[(df['age2']>=9) &  (df['age2']<=25) &  \n",
    "    (df['jam93asd']==1)]\n",
    "B_won_combine = df[(df['age2']>=9) &  (df['age2']<=25) &  \n",
    "    ((df['bog95asd']==1) | (df['bog97asd']==1)| (df['jam93asd']==1))]\n",
    "B_won_coeff = [B_won_bog95, B_won_bog97, B_won_jam93, B_won_combine]\n",
    "\n",
    "#define dep and ind variables\n",
    "y_var = ['phone', 'age2','sex_name']\n",
    "x_var = ['vouch0', 'dbogota', 'djamundi', 'd1993', 'd1995', 'd1997']\n",
    "\n",
    "#winner coefficients for bog95, bog97, jum93, and combined sample respectively\n",
    "for y in y_var:\n",
    "    #remove NA values from dep var \n",
    "    for tbl in B_won_coeff:\n",
    "        if y == 'sex_name':\n",
    "            tbl = tbl[(tbl[y].notna())]\n",
    "        else:\n",
    "            tbl = tbl\n",
    "# Add constant to independent variables\n",
    "        X = sm.add_constant(tbl[x_var])\n",
    "# Create OLS model for each y variable  \n",
    "        coeff = {}\n",
    "        sd = {}\n",
    "        model = sm.OLS(tbl[y], X)\n",
    "        results = model.fit(cov_type='HC1')\n",
    "        coeff[y] =results.params['vouch0']\n",
    "        sd[y]=results.bse['vouch0']\n",
    "        B_won = pd.DataFrame({'coeff': coeff, 'sd': sd})\n",
    "        print(B_won)\n",
    "print('count:')\n",
    "print({'bog95':len(B_won_bog95),'bog97':len(B_won_bog97),'jam93':len(B_won_jam93),'combined':len(B_won_combine)})"
   ]
  },
  {
   "cell_type": "markdown",
   "id": "93d618e8-4aa9-4644-b262-8c43f8c363ba",
   "metadata": {},
   "source": [
    "#### C: won voucher"
   ]
  },
  {
   "cell_type": "code",
   "execution_count": 9,
   "id": "2e6f7177-2277-4304-abab-0f7ff762bce2",
   "metadata": {},
   "outputs": [
    {
     "name": "stdout",
     "output_type": "stream",
     "text": [
      "        coeff        sd\n",
      "age -0.013303  0.079095\n",
      "        coeff        sd\n",
      "age -0.259007  0.175177\n",
      "        coeff        sd\n",
      "age -0.374875  0.221477\n",
      "        coeff        sd\n",
      "age -0.106201  0.068724\n",
      "         coeff        sd\n",
      "sex2  0.003554  0.029683\n",
      "         coeff        sd\n",
      "sex2 -0.047065  0.062126\n",
      "         coeff       sd\n",
      "sex2  0.110268  0.07872\n",
      "         coeff        sd\n",
      "sex2  0.010124  0.025157\n",
      "            coeff        sd\n",
      "mom_sch -0.078517  0.168646\n",
      "            coeff        sd\n",
      "mom_sch  0.654107  0.380194\n",
      "            coeff        sd\n",
      "mom_sch  1.462128  0.505468\n",
      "            coeff        sd\n",
      "mom_sch  0.183343  0.146139\n",
      "            coeff        sd\n",
      "dad_sch -0.431082  0.203114\n",
      "            coeff        sd\n",
      "dad_sch  0.929246  0.399743\n",
      "            coeff        sd\n",
      "dad_sch  0.737059  0.661103\n",
      "            coeff        sd\n",
      "dad_sch -0.039288  0.172978\n",
      "            coeff        sd\n",
      "mom_age -0.089659  0.430998\n",
      "            coeff        sd\n",
      "mom_age -0.145763  0.827477\n",
      "            coeff        sd\n",
      "mom_age -0.736044  1.456488\n",
      "           coeff        sd\n",
      "mom_age -0.07568  0.366318\n",
      "            coeff        sd\n",
      "dad_age  0.566931  0.541901\n",
      "            coeff        sd\n",
      "dad_age  0.264763  0.999732\n",
      "            coeff       sd\n",
      "dad_age  1.916005  1.65832\n",
      "            coeff        sd\n",
      "dad_age  0.539423  0.459174\n",
      "           coeff        sd\n",
      "dad_mw  0.004692  0.021177\n",
      "           coeff        sd\n",
      "dad_mw -0.007581  0.044295\n",
      "           coeff        sd\n",
      "dad_mw -0.092139  0.058097\n",
      "           coeff        sd\n",
      "dad_mw -0.001773  0.018099\n",
      "count:\n",
      "{'bog95': 1176, 'bog97': 277, 'jam93': 165, 'combined': 1618}\n"
     ]
    }
   ],
   "source": [
    "C_won_bog95 = df[df['bog95smp']==1]\n",
    "C_won_bog97 = df[df['bog97smp']==1]\n",
    "C_won_jam93 = df[df['jam93smp']==1]\n",
    "C_won_combine = df[(df['bog95smp']==1) | (df['bog97smp']==1)| (df['jam93smp']==1)]\n",
    "C_won_coeff = [C_won_bog95, C_won_bog97, C_won_jam93, C_won_combine]\n",
    "\n",
    "#define dep and ind variables\n",
    "y_var = ['age', 'sex2','mom_sch','dad_sch', 'mom_age', 'dad_age','dad_mw']\n",
    "x_var = ['vouch0', 'svy', 'hsvisit', 'djamundi', 'dbogota', 'd1993', 'd1995', 'd1997', 'dmonth1','dmonth2',\n",
    "         'dmonth3','dmonth4','dmonth5','dmonth6','dmonth7','dmonth8','dmonth9','dmonth10','dmonth11','dmonth12',\n",
    "         'darea1', 'darea2', 'darea3', 'darea4', 'darea5','darea6', 'darea7', 'darea8', 'darea9', 'darea10', \n",
    "         'darea11', 'darea12','darea13', 'darea14', 'darea15', 'darea16', 'darea17', 'darea18','darea19']\n",
    "\n",
    "#winner coefficients for bog95, bog97, jum93, and combined sample respectively\n",
    "for y in y_var:\n",
    "    for tbl in C_won_coeff:\n",
    "        # remove NA values to get coefficient\n",
    "        if y != 'sex2':\n",
    "            tbl = tbl[(tbl[y].notna())] \n",
    "        else:\n",
    "            tbl = tbl\n",
    "# Add constant to independent variables\n",
    "        X = sm.add_constant(tbl[x_var])\n",
    "# Create OLS model for each y variable  \n",
    "        coeff = {}\n",
    "        sd = {}\n",
    "        model = sm.OLS(tbl[y], X)\n",
    "        results = model.fit(cov_type='HC1')\n",
    "        coeff[y] =results.params['vouch0']\n",
    "        sd[y]=results.bse['vouch0']\n",
    "        C_won = pd.DataFrame({'coeff': coeff, 'sd': sd})\n",
    "        print(C_won)\n",
    "print('count:')\n",
    "print({'bog95':len(C_won_bog95),'bog97':len(C_won_bog97),'jam93':len(C_won_jam93),'combined':len(C_won_combine)})"
   ]
  },
  {
   "cell_type": "markdown",
   "id": "d2b8c6cd-00fa-4ba3-8851-7caaa6b41575",
   "metadata": {},
   "source": [
    "#### Test: loser means"
   ]
  },
  {
   "cell_type": "code",
   "execution_count": 10,
   "id": "2842ad40-d6bc-44db-99cd-550c5a466f2b",
   "metadata": {},
   "outputs": [
    {
     "name": "stdout",
     "output_type": "stream",
     "text": [
      "              age        sex2     mom_sch     dad_sch     mom_age     dad_age  \\\n",
      "mean    14.927419    0.451613    5.459677    4.032258   40.289256   43.495238   \n",
      "std      1.397869    0.499672    2.911707    3.283206    6.575761    7.652455   \n",
      "count  124.000000  124.000000  124.000000  124.000000  121.000000  105.000000   \n",
      "\n",
      "          dad_mw  \n",
      "mean    0.051546  \n",
      "std     0.222258  \n",
      "count  97.000000  \n"
     ]
    }
   ],
   "source": [
    "data_path2 = \"tab5v1.dta\"\n",
    "test = pd.read_stata(data_path2)\n",
    "\n",
    "#loser means\n",
    "test_loser = test[test['vouch0']==0]\n",
    "test_loser_means = test_loser[['age', 'sex2','mom_sch','dad_sch', 'mom_age', 'dad_age','dad_mw']].agg(['mean', 'std', 'count'])\n",
    "print(test_loser_means)"
   ]
  },
  {
   "cell_type": "markdown",
   "id": "23d47ab0-1e72-4a98-93aa-4af28a3199fc",
   "metadata": {},
   "source": [
    "#### Test: won voucher"
   ]
  },
  {
   "cell_type": "code",
   "execution_count": 11,
   "id": "4650601e-792b-49ef-8721-0d93da7fce5c",
   "metadata": {},
   "outputs": [
    {
     "name": "stdout",
     "output_type": "stream",
     "text": [
      "        coeff       sd\n",
      "age -0.128327  0.18407\n",
      "        coeff        sd\n",
      "sex2  0.06202  0.064468\n",
      "            coeff       sd\n",
      "mom_sch -0.121869  0.38476\n",
      "            coeff        sd\n",
      "dad_sch -0.073584  0.433849\n",
      "            coeff        sd\n",
      "mom_age  0.155623  0.919073\n",
      "           coeff        sd\n",
      "dad_age  0.62002  1.232901\n",
      "           coeff      sd\n",
      "dad_mw  0.128317  0.0497\n",
      "{'count': 283}\n"
     ]
    }
   ],
   "source": [
    "#define dep and ind variables\n",
    "y_var = ['age','sex2','mom_sch','dad_sch', 'mom_age', 'dad_age','dad_mw']\n",
    "x_var = ['vouch0', 'svy', 'hsvisit', 'djamundi', 'dbogota', 'd1993', 'd1995', 'd1997', 'dmonth1','dmonth2',\n",
    "         'dmonth3','dmonth4','dmonth5','dmonth6','dmonth7','dmonth8','dmonth9','dmonth10','dmonth11','dmonth12',\n",
    "         'darea1', 'darea2', 'darea3', 'darea4', 'darea5','darea6', 'darea7', 'darea8', 'darea9', 'darea10', \n",
    "         'darea11', 'darea12','darea13', 'darea14', 'darea15', 'darea16', 'darea17', 'darea18','darea19']\n",
    "\n",
    "for y in y_var:\n",
    "    # remove NA values to get coefficient\n",
    "    tbl = test[(test[y].notna())]\n",
    "    # Add constant to independent variables\n",
    "    X = sm.add_constant(tbl[x_var])\n",
    "    # Create OLS model for each y variable  \n",
    "    coeff = {}\n",
    "    sd = {}\n",
    "    model = sm.OLS(tbl[y], X)\n",
    "    results = model.fit(cov_type='HC1')\n",
    "    coeff[y] =results.params['vouch0']\n",
    "    sd[y]=results.bse['vouch0']\n",
    "    test_coeff = pd.DataFrame({'coeff': coeff, 'sd': sd})\n",
    "    print(test_coeff)\n",
    "print({'count':len(test)})"
   ]
  }
 ],
 "metadata": {
  "kernelspec": {
   "display_name": "Python 3 (ipykernel)",
   "language": "python",
   "name": "python3"
  },
  "language_info": {
   "codemirror_mode": {
    "name": "ipython",
    "version": 3
   },
   "file_extension": ".py",
   "mimetype": "text/x-python",
   "name": "python",
   "nbconvert_exporter": "python",
   "pygments_lexer": "ipython3",
   "version": "3.11.12"
  }
 },
 "nbformat": 4,
 "nbformat_minor": 5
}
