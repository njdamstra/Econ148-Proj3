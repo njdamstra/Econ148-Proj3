{
 "cells": [
  {
   "cell_type": "code",
   "execution_count": 101,
   "id": "c742d864-1bc7-4044-b820-693689765993",
   "metadata": {},
   "outputs": [],
   "source": [
    "import pandas as pd\n",
    "import statsmodels.api as sm\n",
    "from IPython.display import display, HTML"
   ]
  },
  {
   "cell_type": "code",
   "execution_count": 75,
   "id": "69818c0d-ef55-4945-80e0-b2652fe1fcf6",
   "metadata": {},
   "outputs": [
    {
     "name": "stdout",
     "output_type": "stream",
     "text": [
      "['id', 'vouch0', 'sex', 'svy', 'age', 'hsvisit', 'strata1', 'strata2', 'strata3', 'strata4', 'strata5', 'strata6', 'mom_sch', 'dad_sch', 'dad_miss', 'mom_miss', 'math', 'reading', 'writing', 't_site', 'totalpts', 'tsite1', 'tsite2', 'tsite3', 'sex_name', 'bog95smp', 'bog95asd', 'bog97smp', 'bog97asd', 'jam93smp', 'jam93asd', 'test_tak', 'dbogota', 'djamundi', 'd1995', 'd1993', 'd1997', 'phone', 'scyfnsh', 'darea1', 'darea2', 'darea3', 'darea4', 'darea5', 'darea6', 'darea7', 'darea8', 'darea9', 'darea10', 'darea11', 'darea12', 'darea13', 'darea14', 'darea15', 'darea16', 'darea17', 'darea18', 'darea19', 'dmonth1', 'dmonth2', 'dmonth3', 'dmonth4', 'dmonth5', 'dmonth6', 'dmonth7', 'dmonth8', 'dmonth9', 'dmonth10', 'dmonth11', 'dmonth12', 'bog95', 'bog97', 'mom_age', 'mom_mw', 'dad_age', 'dad_mw', 'sex2', 'stratams', 'age2']\n"
     ]
    }
   ],
   "source": [
    "df = pd.read_stata(\"tab5v1.dta\")\n",
    "print(df.columns.tolist())\n"
   ]
  },
  {
   "cell_type": "code",
   "execution_count": 77,
   "id": "4c7b111e-de54-4202-bda9-031c17a2057c",
   "metadata": {},
   "outputs": [
    {
     "name": "stdout",
     "output_type": "stream",
     "text": [
      "count    283.000000\n",
      "mean       7.749117\n",
      "std        0.869473\n",
      "min        5.000000\n",
      "25%        8.000000\n",
      "50%        8.000000\n",
      "75%        8.000000\n",
      "max       11.000000\n",
      "Name: scyfnsh, dtype: float64\n",
      "scyfnsh\n",
      "8.0     203\n",
      "7.0      30\n",
      "6.0      20\n",
      "9.0      18\n",
      "5.0       9\n",
      "11.0      2\n",
      "10.0      1\n",
      "Name: count, dtype: int64\n"
     ]
    }
   ],
   "source": [
    "print(df['scyfnsh'].describe())\n",
    "print(df['scyfnsh'].value_counts())\n"
   ]
  },
  {
   "cell_type": "code",
   "execution_count": 128,
   "id": "91917c0d-132d-4890-885f-60fe5d72fc96",
   "metadata": {},
   "outputs": [],
   "source": [
    "df_subset = df[\n",
    "    (df['test_tak'] == 1) &\n",
    "    ((df['bog95smp'] == 1) | (df['bog97smp'] == 1) | (df['jam93smp'] == 1))\n",
    "]\n"
   ]
  },
  {
   "cell_type": "markdown",
   "id": "64f56117-e797-4d26-bed3-6834f8ea24bd",
   "metadata": {},
   "source": [
    "# TABLE 5"
   ]
  },
  {
   "cell_type": "markdown",
   "id": "e0843698-e520-41c6-a515-8494cc456f85",
   "metadata": {},
   "source": [
    "## PART A: All Applications"
   ]
  },
  {
   "cell_type": "code",
   "execution_count": 131,
   "id": "1c3b6007-800d-4250-81d5-d5dc6c32ba17",
   "metadata": {},
   "outputs": [
    {
     "data": {
      "text/html": [
       "<table border=\"1\" class=\"dataframe\">\n",
       "  <thead>\n",
       "    <tr style=\"text-align: right;\">\n",
       "      <th>Outcome</th>\n",
       "      <th>OLS</th>\n",
       "      <th>OLS + Covariates</th>\n",
       "      <th>N</th>\n",
       "    </tr>\n",
       "  </thead>\n",
       "  <tbody>\n",
       "    <tr>\n",
       "      <td>Total points</td>\n",
       "      <td>0.202<br>(0.103)</td>\n",
       "      <td>0.212<br>(0.104)</td>\n",
       "      <td>271</td>\n",
       "    </tr>\n",
       "    <tr>\n",
       "      <td>Math scores</td>\n",
       "      <td>0.152<br>(0.122)</td>\n",
       "      <td>0.180<br>(0.122)</td>\n",
       "      <td>270</td>\n",
       "    </tr>\n",
       "    <tr>\n",
       "      <td>Reading scores</td>\n",
       "      <td>0.182<br>(0.121)</td>\n",
       "      <td>0.206<br>(0.121)</td>\n",
       "      <td>271</td>\n",
       "    </tr>\n",
       "    <tr>\n",
       "      <td>Writing scores</td>\n",
       "      <td>0.149<br>(0.120)</td>\n",
       "      <td>0.150<br>(0.121)</td>\n",
       "      <td>271</td>\n",
       "    </tr>\n",
       "  </tbody>\n",
       "</table>"
      ],
      "text/plain": [
       "<IPython.core.display.HTML object>"
      ]
     },
     "metadata": {},
     "output_type": "display_data"
    }
   ],
   "source": [
    "df_subset = df.rename(columns={'id': 'total_points'})\n",
    "mask = (\n",
    "    ((df_subset['bog95smp'] == 1) |\n",
    "     (df_subset['bog97smp'] == 1) |\n",
    "     (df_subset['jam93smp'] == 1)) &\n",
    "    (df_subset['test_tak'] == 1)\n",
    ")\n",
    "df_exp = df_subset[mask].copy()\n",
    "\n",
    "outcomes = {\n",
    "    'Total points': 'scyfnsh',\n",
    "    'Math scores': 'math',\n",
    "    'Reading scores': 'reading',\n",
    "    'Writing scores': 'writing'\n",
    "}\n",
    "covariates = ['tsite1', 'tsite2', 'tsite3']\n",
    "\n",
    "results = []\n",
    "\n",
    "for label, outcome_var in outcomes.items():\n",
    "    row = {'Outcome': label}\n",
    "    \n",
    "    # OLS with covariates — goes in Column (2)\n",
    "    df_model2 = df_exp[[outcome_var, 'vouch0'] + covariates].dropna()\n",
    "    X2 = sm.add_constant(df_model2[['vouch0'] + covariates])\n",
    "    y2 = df_model2[outcome_var]\n",
    "    model2 = sm.OLS(y2, X2).fit()\n",
    "    row['OLS + Covariates'] = f\"{model2.params['vouch0']:.3f}<br>({model2.bse['vouch0']:.3f})\"\n",
    "    row['N'] = df_model2.shape[0]\n",
    "\n",
    "    # OLS without covariates — goes in Column (1)\n",
    "    df_model1 = df_exp[[outcome_var, 'vouch0']].dropna()\n",
    "    X1 = sm.add_constant(df_model1['vouch0'])\n",
    "    y1 = df_model1[outcome_var]\n",
    "    model1 = sm.OLS(y1, X1).fit()\n",
    "    row['OLS'] = f\"{model1.params['vouch0']:.3f}<br>({model1.bse['vouch0']:.3f})\"\n",
    "\n",
    "    results.append(row)\n",
    "\n",
    "results_df = pd.DataFrame(results)\n",
    "results_df = results_df[['Outcome', 'OLS', 'OLS + Covariates', 'N']]\n",
    "display(HTML(results_df.to_html(escape=False, index=False)))\n"
   ]
  },
  {
   "cell_type": "code",
   "execution_count": 132,
   "id": "1c677c0b-817f-4028-97e5-a9c80c088af2",
   "metadata": {},
   "outputs": [],
   "source": [
    "# NEED TO DO SECOND PART"
   ]
  },
  {
   "cell_type": "markdown",
   "id": "5ed22c83-0ec1-4e8c-9cbc-4d968b5c4f9d",
   "metadata": {},
   "source": [
    "## PART B: Female Applicants"
   ]
  },
  {
   "cell_type": "code",
   "execution_count": 135,
   "id": "48d237ed-e942-4116-a9bb-d080d0d76b4d",
   "metadata": {},
   "outputs": [
    {
     "data": {
      "text/html": [
       "<table border=\"1\" class=\"dataframe\">\n",
       "  <thead>\n",
       "    <tr style=\"text-align: right;\">\n",
       "      <th>Outcome</th>\n",
       "      <th>OLS</th>\n",
       "      <th>OLS + Covariates</th>\n",
       "      <th>N</th>\n",
       "    </tr>\n",
       "  </thead>\n",
       "  <tbody>\n",
       "    <tr>\n",
       "      <td>Total points</td>\n",
       "      <td>0.209<br>(0.165)</td>\n",
       "      <td>0.240<br>(0.164)</td>\n",
       "      <td>148</td>\n",
       "    </tr>\n",
       "    <tr>\n",
       "      <td>Math scores</td>\n",
       "      <td>0.146<br>(0.163)</td>\n",
       "      <td>0.175<br>(0.163)</td>\n",
       "      <td>148</td>\n",
       "    </tr>\n",
       "    <tr>\n",
       "      <td>Reading scores</td>\n",
       "      <td>0.224<br>(0.166)</td>\n",
       "      <td>0.266<br>(0.166)</td>\n",
       "      <td>148</td>\n",
       "    </tr>\n",
       "  </tbody>\n",
       "</table>"
      ],
      "text/plain": [
       "<IPython.core.display.HTML object>"
      ]
     },
     "metadata": {},
     "output_type": "display_data"
    }
   ],
   "source": [
    "df_female = df_subset[(df_subset['sex'] == 1)].copy()\n",
    "\n",
    "female_outcomes = {\n",
    "    'Total points': 'totalpts',\n",
    "    'Math scores': 'math',\n",
    "    'Reading scores': 'reading'\n",
    "}\n",
    "covariates = ['tsite1', 'tsite2', 'tsite3']\n",
    "\n",
    "results_female = []\n",
    "\n",
    "for label, outcome_var in female_outcomes.items():\n",
    "    row = {'Outcome': label}\n",
    "    \n",
    "    df_model2 = df_female[[outcome_var, 'vouch0'] + covariates].dropna()\n",
    "    X2 = sm.add_constant(df_model2[['vouch0'] + covariates])\n",
    "    y2 = df_model2[outcome_var]\n",
    "    model2 = sm.OLS(y2, X2).fit()\n",
    "    row['OLS + Covariates'] = f\"{model2.params['vouch0']:.3f}<br>({model2.bse['vouch0']:.3f})\"\n",
    "    row['N'] = df_model2.shape[0]\n",
    "\n",
    "    df_model1 = df_female[[outcome_var, 'vouch0']].dropna()\n",
    "    X1 = sm.add_constant(df_model1['vouch0'])\n",
    "    y1 = df_model1[outcome_var]\n",
    "    model1 = sm.OLS(y1, X1).fit()\n",
    "    row['OLS'] = f\"{model1.params['vouch0']:.3f}<br>({model1.bse['vouch0']:.3f})\"\n",
    "\n",
    "    results_female.append(row)\n",
    "\n",
    "female_df = pd.DataFrame(results_female)[['Outcome', 'OLS', 'OLS + Covariates', 'N']]\n",
    "display(HTML(female_df.to_html(escape=False, index=False)))\n"
   ]
  },
  {
   "cell_type": "code",
   "execution_count": 136,
   "id": "45add2e4-8c17-44bd-8886-601d9d336251",
   "metadata": {},
   "outputs": [],
   "source": [
    "# NEED TO DO SECOND PART"
   ]
  },
  {
   "cell_type": "markdown",
   "id": "5cc3a570-694c-49a4-8218-cbb0b03ba9f7",
   "metadata": {},
   "source": [
    "## PART C: Male Applicants"
   ]
  },
  {
   "cell_type": "code",
   "execution_count": 137,
   "id": "d715cf44-57cf-458d-85a1-46ca650711e6",
   "metadata": {},
   "outputs": [
    {
     "data": {
      "text/html": [
       "<table border=\"1\" class=\"dataframe\">\n",
       "  <thead>\n",
       "    <tr style=\"text-align: right;\">\n",
       "      <th>Outcome</th>\n",
       "      <th>OLS</th>\n",
       "      <th>OLS + Covariates</th>\n",
       "      <th>N</th>\n",
       "    </tr>\n",
       "  </thead>\n",
       "  <tbody>\n",
       "    <tr>\n",
       "      <td>Total points</td>\n",
       "      <td>0.149<br>(0.176)</td>\n",
       "      <td>0.188<br>(0.175)</td>\n",
       "      <td>134</td>\n",
       "    </tr>\n",
       "    <tr>\n",
       "      <td>Math scores</td>\n",
       "      <td>0.125<br>(0.177)</td>\n",
       "      <td>0.172<br>(0.174)</td>\n",
       "      <td>134</td>\n",
       "    </tr>\n",
       "    <tr>\n",
       "      <td>Reading scores</td>\n",
       "      <td>0.117<br>(0.174)</td>\n",
       "      <td>0.136<br>(0.175)</td>\n",
       "      <td>135</td>\n",
       "    </tr>\n",
       "  </tbody>\n",
       "</table>"
      ],
      "text/plain": [
       "<IPython.core.display.HTML object>"
      ]
     },
     "metadata": {},
     "output_type": "display_data"
    }
   ],
   "source": [
    "df_male = df_subset[df_subset['sex'] == 0].copy()\n",
    "\n",
    "male_outcomes = {\n",
    "    'Total points': 'totalpts',\n",
    "    'Math scores': 'math',\n",
    "    'Reading scores': 'reading'\n",
    "}\n",
    "covariates = ['tsite1', 'tsite2', 'tsite3']\n",
    "\n",
    "results_male = []\n",
    "\n",
    "for label, outcome_var in male_outcomes.items():\n",
    "    row = {'Outcome': label}\n",
    "\n",
    "    df_model2 = df_male[[outcome_var, 'vouch0'] + covariates].dropna()\n",
    "    X2 = sm.add_constant(df_model2[['vouch0'] + covariates])\n",
    "    y2 = df_model2[outcome_var]\n",
    "    model2 = sm.OLS(y2, X2).fit()\n",
    "    row['OLS + Covariates'] = f\"{model2.params['vouch0']:.3f}<br>({model2.bse['vouch0']:.3f})\"\n",
    "    row['N'] = df_model2.shape[0]\n",
    "\n",
    "    df_model1 = df_male[[outcome_var, 'vouch0']].dropna()\n",
    "    X1 = sm.add_constant(df_model1['vouch0'])\n",
    "    y1 = df_model1[outcome_var]\n",
    "    model1 = sm.OLS(y1, X1).fit()\n",
    "    row['OLS'] = f\"{model1.params['vouch0']:.3f}<br>({model1.bse['vouch0']:.3f})\"\n",
    "\n",
    "    results_male.append(row)\n",
    "\n",
    "male_df = pd.DataFrame(results_male)[['Outcome', 'OLS', 'OLS + Covariates', 'N']]\n",
    "display(HTML(male_df.to_html(escape=False, index=False)))\n"
   ]
  },
  {
   "cell_type": "code",
   "execution_count": 138,
   "id": "db2531a3-8c5e-4978-bfb9-0bdf4f5d6755",
   "metadata": {},
   "outputs": [],
   "source": [
    "# NEED GTO DO SECOND PART"
   ]
  },
  {
   "cell_type": "code",
   "execution_count": null,
   "id": "ef7d37bf-6701-4f28-a3ab-bade3f9a1381",
   "metadata": {},
   "outputs": [],
   "source": []
  }
 ],
 "metadata": {
  "kernelspec": {
   "display_name": "Python 3 (ipykernel)",
   "language": "python",
   "name": "python3"
  },
  "language_info": {
   "codemirror_mode": {
    "name": "ipython",
    "version": 3
   },
   "file_extension": ".py",
   "mimetype": "text/x-python",
   "name": "python",
   "nbconvert_exporter": "python",
   "pygments_lexer": "ipython3",
   "version": "3.11.12"
  }
 },
 "nbformat": 4,
 "nbformat_minor": 5
}
