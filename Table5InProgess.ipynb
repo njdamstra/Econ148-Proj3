{
 "cells": [
  {
   "cell_type": "code",
   "execution_count": 101,
   "id": "c742d864-1bc7-4044-b820-693689765993",
   "metadata": {},
   "outputs": [],
   "source": [
    "import pandas as pd\n",
    "import statsmodels.api as sm\n",
    "from IPython.display import display, HTML"
   ]
  },
  {
   "cell_type": "code",
   "execution_count": 75,
   "id": "69818c0d-ef55-4945-80e0-b2652fe1fcf6",
   "metadata": {},
   "outputs": [
    {
     "name": "stdout",
     "output_type": "stream",
     "text": [
      "['id', 'vouch0', 'sex', 'svy', 'age', 'hsvisit', 'strata1', 'strata2', 'strata3', 'strata4', 'strata5', 'strata6', 'mom_sch', 'dad_sch', 'dad_miss', 'mom_miss', 'math', 'reading', 'writing', 't_site', 'totalpts', 'tsite1', 'tsite2', 'tsite3', 'sex_name', 'bog95smp', 'bog95asd', 'bog97smp', 'bog97asd', 'jam93smp', 'jam93asd', 'test_tak', 'dbogota', 'djamundi', 'd1995', 'd1993', 'd1997', 'phone', 'scyfnsh', 'darea1', 'darea2', 'darea3', 'darea4', 'darea5', 'darea6', 'darea7', 'darea8', 'darea9', 'darea10', 'darea11', 'darea12', 'darea13', 'darea14', 'darea15', 'darea16', 'darea17', 'darea18', 'darea19', 'dmonth1', 'dmonth2', 'dmonth3', 'dmonth4', 'dmonth5', 'dmonth6', 'dmonth7', 'dmonth8', 'dmonth9', 'dmonth10', 'dmonth11', 'dmonth12', 'bog95', 'bog97', 'mom_age', 'mom_mw', 'dad_age', 'dad_mw', 'sex2', 'stratams', 'age2']\n"
     ]
    }
   ],
   "source": [
    "df = pd.read_stata(\"tab5v1.dta\")\n",
    "print(df.columns.tolist())\n"
   ]
  },
  {
   "cell_type": "code",
   "execution_count": 77,
   "id": "4c7b111e-de54-4202-bda9-031c17a2057c",
   "metadata": {},
   "outputs": [
    {
     "name": "stdout",
     "output_type": "stream",
     "text": [
      "count    283.000000\n",
      "mean       7.749117\n",
      "std        0.869473\n",
      "min        5.000000\n",
      "25%        8.000000\n",
      "50%        8.000000\n",
      "75%        8.000000\n",
      "max       11.000000\n",
      "Name: scyfnsh, dtype: float64\n",
      "scyfnsh\n",
      "8.0     203\n",
      "7.0      30\n",
      "6.0      20\n",
      "9.0      18\n",
      "5.0       9\n",
      "11.0      2\n",
      "10.0      1\n",
      "Name: count, dtype: int64\n"
     ]
    }
   ],
   "source": [
    "print(df['scyfnsh'].describe())\n",
    "print(df['scyfnsh'].value_counts())\n"
   ]
  },
  {
   "cell_type": "code",
   "execution_count": 78,
   "id": "91917c0d-132d-4890-885f-60fe5d72fc96",
   "metadata": {},
   "outputs": [],
   "source": [
    "df_subset = df[\n",
    "    (df['test_tak'] == 1) &\n",
    "    ((df['bog95smp'] == 1) | (df['bog97smp'] == 1) | (df['jam93smp'] == 1))\n",
    "]\n"
   ]
  },
  {
   "cell_type": "markdown",
   "id": "64f56117-e797-4d26-bed3-6834f8ea24bd",
   "metadata": {},
   "source": [
    "# TABLE 5"
   ]
  },
  {
   "cell_type": "markdown",
   "id": "e0843698-e520-41c6-a515-8494cc456f85",
   "metadata": {},
   "source": [
    "## A: All Applications"
   ]
  },
  {
   "cell_type": "code",
   "execution_count": 102,
   "id": "1c3b6007-800d-4250-81d5-d5dc6c32ba17",
   "metadata": {},
   "outputs": [
    {
     "data": {
      "text/html": [
       "<table border=\"1\" class=\"dataframe\">\n",
       "  <thead>\n",
       "    <tr style=\"text-align: right;\">\n",
       "      <th>Outcome</th>\n",
       "      <th>Estimate (SE)</th>\n",
       "      <th>N</th>\n",
       "    </tr>\n",
       "  </thead>\n",
       "  <tbody>\n",
       "    <tr>\n",
       "      <td>Total points</td>\n",
       "      <td>0.202<br>(0.103)</td>\n",
       "      <td>271</td>\n",
       "    </tr>\n",
       "    <tr>\n",
       "      <td>Math scores</td>\n",
       "      <td>0.152<br>(0.122)</td>\n",
       "      <td>270</td>\n",
       "    </tr>\n",
       "    <tr>\n",
       "      <td>Reading scores</td>\n",
       "      <td>0.182<br>(0.121)</td>\n",
       "      <td>271</td>\n",
       "    </tr>\n",
       "    <tr>\n",
       "      <td>Writing scores</td>\n",
       "      <td>0.149<br>(0.120)</td>\n",
       "      <td>271</td>\n",
       "    </tr>\n",
       "  </tbody>\n",
       "</table>"
      ],
      "text/plain": [
       "<IPython.core.display.HTML object>"
      ]
     },
     "metadata": {},
     "output_type": "display_data"
    }
   ],
   "source": [
    "df_subset = df.rename(columns={'id': 'total_points'})\n",
    "mask = (\n",
    "    ((df_subset['bog95smp'] == 1) |\n",
    "     (df_subset['bog97smp'] == 1) |\n",
    "     (df_subset['jam93smp'] == 1)) &\n",
    "    (df_subset['test_tak'] == 1)\n",
    ")\n",
    "df_exp = df_subset[mask].copy()\n",
    "\n",
    "outcomes = {\n",
    "    'Total points': 'scyfnsh',\n",
    "    'Math scores': 'math',\n",
    "    'Reading scores': 'reading',\n",
    "    'Writing scores': 'writing'\n",
    "}\n",
    "\n",
    "results = []\n",
    "\n",
    "for label, outcome_var in outcomes.items():\n",
    "    df_model = df_exp[[outcome_var, 'vouch0']].dropna()\n",
    "    X = sm.add_constant(df_model['vouch0'])\n",
    "    y = df_model[outcome_var]\n",
    "    model = sm.OLS(y, X).fit()\n",
    "    coef = round(model.params['vouch0'], 3)\n",
    "    se = round(model.bse['vouch0'], 3)\n",
    "    n = df_model.shape[0]\n",
    "    results.append((label, coef, se, n))\n",
    "\n",
    "results_df['Estimate (SE)'] = results_df.apply(\n",
    "    lambda row: f\"{row['Coefficient']:.3f}<br>({row['Std. Error']:.3f})\", axis=1\n",
    ")\n",
    "\n",
    "html_table = results_df[['Outcome', 'Estimate (SE)', 'N']].to_html(escape=False, index=False)\n",
    "display(HTML(html_table))"
   ]
  },
  {
   "cell_type": "code",
   "execution_count": 109,
   "id": "1c677c0b-817f-4028-97e5-a9c80c088af2",
   "metadata": {},
   "outputs": [],
   "source": [
    "# NEED TO FIX CELL BELOW"
   ]
  },
  {
   "cell_type": "code",
   "execution_count": 108,
   "id": "43109c14-80d6-45b4-9303-23b30fab7de0",
   "metadata": {},
   "outputs": [
    {
     "data": {
      "text/html": [
       "<table border=\"1\" class=\"dataframe\">\n",
       "  <thead>\n",
       "    <tr style=\"text-align: right;\">\n",
       "      <th>Outcome</th>\n",
       "      <th>Estimate (SE)</th>\n",
       "      <th>N</th>\n",
       "    </tr>\n",
       "  </thead>\n",
       "  <tbody>\n",
       "    <tr>\n",
       "      <td>Pooled test scores</td>\n",
       "      <td>0.145<br>(0.095)</td>\n",
       "      <td>283</td>\n",
       "    </tr>\n",
       "    <tr>\n",
       "      <td>Math and reading scores</td>\n",
       "      <td>0.157<br>(0.102)</td>\n",
       "      <td>283</td>\n",
       "    </tr>\n",
       "  </tbody>\n",
       "</table>"
      ],
      "text/plain": [
       "<IPython.core.display.HTML object>"
      ]
     },
     "metadata": {},
     "output_type": "display_data"
    }
   ],
   "source": [
    "df_subset['pooled_score'] = df_subset[['math', 'reading', 'writing']].mean(axis=1)\n",
    "df_subset['math_reading_score'] = df_subset[['math', 'reading']].mean(axis=1)\n",
    "\n",
    "pooled_outcomes = [\n",
    "    ('Pooled test scores', 'pooled_score'),\n",
    "    ('Math and reading scores', 'math_reading_score')\n",
    "]\n",
    "\n",
    "results = []\n",
    "\n",
    "for label, outcome_var in pooled_outcomes:\n",
    "    df_model = df_subset[[outcome_var, 'vouch0']].dropna()\n",
    "    X = sm.add_constant(df_model['vouch0'])\n",
    "    y = df_model[outcome_var]\n",
    "    model = sm.OLS(y, X).fit()\n",
    "    \n",
    "    coef = round(model.params['vouch0'], 3)\n",
    "    se = round(model.bse['vouch0'], 3)\n",
    "    n = df_model.shape[0]\n",
    "    \n",
    "    results.append((label, coef, se, n))\n",
    "\n",
    "pooled_df['Estimate (SE)'] = pooled_df.apply(\n",
    "    lambda row: f\"{row['Coefficient']:.3f}<br>({row['Std. Error']:.3f})\", axis=1\n",
    ")\n",
    "display(HTML(pooled_df[['Outcome', 'Estimate (SE)', 'N']].to_html(escape=False, index=False)))"
   ]
  },
  {
   "cell_type": "code",
   "execution_count": null,
   "id": "61fcf906-0182-4024-adaf-0f5e71215395",
   "metadata": {},
   "outputs": [],
   "source": []
  }
 ],
 "metadata": {
  "kernelspec": {
   "display_name": "Python 3 (ipykernel)",
   "language": "python",
   "name": "python3"
  },
  "language_info": {
   "codemirror_mode": {
    "name": "ipython",
    "version": 3
   },
   "file_extension": ".py",
   "mimetype": "text/x-python",
   "name": "python",
   "nbconvert_exporter": "python",
   "pygments_lexer": "ipython3",
   "version": "3.11.12"
  }
 },
 "nbformat": 4,
 "nbformat_minor": 5
}
