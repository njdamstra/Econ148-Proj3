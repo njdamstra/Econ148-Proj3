{
 "cells": [
  {
   "cell_type": "code",
   "execution_count": 25,
   "id": "c742d864-1bc7-4044-b820-693689765993",
   "metadata": {},
   "outputs": [],
   "source": [
    "import pandas as pd\n",
    "import statsmodels.api as sm"
   ]
  },
  {
   "cell_type": "code",
   "execution_count": 26,
   "id": "69818c0d-ef55-4945-80e0-b2652fe1fcf6",
   "metadata": {},
   "outputs": [
    {
     "data": {
      "text/html": [
       "<div>\n",
       "<style scoped>\n",
       "    .dataframe tbody tr th:only-of-type {\n",
       "        vertical-align: middle;\n",
       "    }\n",
       "\n",
       "    .dataframe tbody tr th {\n",
       "        vertical-align: top;\n",
       "    }\n",
       "\n",
       "    .dataframe thead th {\n",
       "        text-align: right;\n",
       "    }\n",
       "</style>\n",
       "<table border=\"1\" class=\"dataframe\">\n",
       "  <thead>\n",
       "    <tr style=\"text-align: right;\">\n",
       "      <th></th>\n",
       "      <th>id</th>\n",
       "      <th>bog95smp</th>\n",
       "      <th>bog97smp</th>\n",
       "      <th>jam93smp</th>\n",
       "      <th>sex</th>\n",
       "      <th>age</th>\n",
       "      <th>age2</th>\n",
       "      <th>hsvisit</th>\n",
       "      <th>scyfnsh</th>\n",
       "      <th>inschl</th>\n",
       "      <th>...</th>\n",
       "      <th>rept</th>\n",
       "      <th>nrept</th>\n",
       "      <th>finish6</th>\n",
       "      <th>finish7</th>\n",
       "      <th>finish8</th>\n",
       "      <th>sex_miss</th>\n",
       "      <th>usngsch</th>\n",
       "      <th>hoursum</th>\n",
       "      <th>tab3smpl</th>\n",
       "      <th>working3</th>\n",
       "    </tr>\n",
       "  </thead>\n",
       "  <tbody>\n",
       "    <tr>\n",
       "      <th>0</th>\n",
       "      <td>NaN</td>\n",
       "      <td>0.0</td>\n",
       "      <td>0.0</td>\n",
       "      <td>0.0</td>\n",
       "      <td>NaN</td>\n",
       "      <td>NaN</td>\n",
       "      <td>NaN</td>\n",
       "      <td>NaN</td>\n",
       "      <td>5.0</td>\n",
       "      <td>NaN</td>\n",
       "      <td>...</td>\n",
       "      <td>NaN</td>\n",
       "      <td>NaN</td>\n",
       "      <td>NaN</td>\n",
       "      <td>NaN</td>\n",
       "      <td>NaN</td>\n",
       "      <td>NaN</td>\n",
       "      <td>NaN</td>\n",
       "      <td>NaN</td>\n",
       "      <td>NaN</td>\n",
       "      <td>NaN</td>\n",
       "    </tr>\n",
       "    <tr>\n",
       "      <th>1</th>\n",
       "      <td>1.0</td>\n",
       "      <td>0.0</td>\n",
       "      <td>0.0</td>\n",
       "      <td>0.0</td>\n",
       "      <td>1.0</td>\n",
       "      <td>NaN</td>\n",
       "      <td>12.0</td>\n",
       "      <td>NaN</td>\n",
       "      <td>5.0</td>\n",
       "      <td>NaN</td>\n",
       "      <td>...</td>\n",
       "      <td>NaN</td>\n",
       "      <td>NaN</td>\n",
       "      <td>NaN</td>\n",
       "      <td>NaN</td>\n",
       "      <td>NaN</td>\n",
       "      <td>NaN</td>\n",
       "      <td>NaN</td>\n",
       "      <td>NaN</td>\n",
       "      <td>NaN</td>\n",
       "      <td>NaN</td>\n",
       "    </tr>\n",
       "    <tr>\n",
       "      <th>2</th>\n",
       "      <td>2.0</td>\n",
       "      <td>0.0</td>\n",
       "      <td>0.0</td>\n",
       "      <td>0.0</td>\n",
       "      <td>0.0</td>\n",
       "      <td>NaN</td>\n",
       "      <td>13.0</td>\n",
       "      <td>NaN</td>\n",
       "      <td>5.0</td>\n",
       "      <td>NaN</td>\n",
       "      <td>...</td>\n",
       "      <td>NaN</td>\n",
       "      <td>NaN</td>\n",
       "      <td>NaN</td>\n",
       "      <td>NaN</td>\n",
       "      <td>NaN</td>\n",
       "      <td>NaN</td>\n",
       "      <td>NaN</td>\n",
       "      <td>NaN</td>\n",
       "      <td>NaN</td>\n",
       "      <td>NaN</td>\n",
       "    </tr>\n",
       "    <tr>\n",
       "      <th>3</th>\n",
       "      <td>3.0</td>\n",
       "      <td>1.0</td>\n",
       "      <td>0.0</td>\n",
       "      <td>0.0</td>\n",
       "      <td>0.0</td>\n",
       "      <td>14.0</td>\n",
       "      <td>12.0</td>\n",
       "      <td>0.0</td>\n",
       "      <td>8.0</td>\n",
       "      <td>1.0</td>\n",
       "      <td>...</td>\n",
       "      <td>0.0</td>\n",
       "      <td>0.0</td>\n",
       "      <td>1.0</td>\n",
       "      <td>1.0</td>\n",
       "      <td>1.0</td>\n",
       "      <td>0.0</td>\n",
       "      <td>1.0</td>\n",
       "      <td>0.0</td>\n",
       "      <td>1.0</td>\n",
       "      <td>0.0</td>\n",
       "    </tr>\n",
       "    <tr>\n",
       "      <th>4</th>\n",
       "      <td>4.0</td>\n",
       "      <td>1.0</td>\n",
       "      <td>0.0</td>\n",
       "      <td>0.0</td>\n",
       "      <td>1.0</td>\n",
       "      <td>14.0</td>\n",
       "      <td>12.0</td>\n",
       "      <td>0.0</td>\n",
       "      <td>8.0</td>\n",
       "      <td>1.0</td>\n",
       "      <td>...</td>\n",
       "      <td>0.0</td>\n",
       "      <td>0.0</td>\n",
       "      <td>1.0</td>\n",
       "      <td>1.0</td>\n",
       "      <td>1.0</td>\n",
       "      <td>0.0</td>\n",
       "      <td>1.0</td>\n",
       "      <td>0.0</td>\n",
       "      <td>1.0</td>\n",
       "      <td>0.0</td>\n",
       "    </tr>\n",
       "  </tbody>\n",
       "</table>\n",
       "<p>5 rows × 89 columns</p>\n",
       "</div>"
      ],
      "text/plain": [
       "    id  bog95smp  bog97smp  jam93smp  sex   age  age2  hsvisit  scyfnsh  \\\n",
       "0  NaN       0.0       0.0       0.0  NaN   NaN   NaN      NaN      5.0   \n",
       "1  1.0       0.0       0.0       0.0  1.0   NaN  12.0      NaN      5.0   \n",
       "2  2.0       0.0       0.0       0.0  0.0   NaN  13.0      NaN      5.0   \n",
       "3  3.0       1.0       0.0       0.0  0.0  14.0  12.0      0.0      8.0   \n",
       "4  4.0       1.0       0.0       0.0  1.0  14.0  12.0      0.0      8.0   \n",
       "\n",
       "   inschl  ...  rept  nrept  finish6  finish7  finish8  sex_miss  usngsch  \\\n",
       "0     NaN  ...   NaN    NaN      NaN      NaN      NaN       NaN      NaN   \n",
       "1     NaN  ...   NaN    NaN      NaN      NaN      NaN       NaN      NaN   \n",
       "2     NaN  ...   NaN    NaN      NaN      NaN      NaN       NaN      NaN   \n",
       "3     1.0  ...   0.0    0.0      1.0      1.0      1.0       0.0      1.0   \n",
       "4     1.0  ...   0.0    0.0      1.0      1.0      1.0       0.0      1.0   \n",
       "\n",
       "   hoursum  tab3smpl  working3  \n",
       "0      NaN       NaN       NaN  \n",
       "1      NaN       NaN       NaN  \n",
       "2      NaN       NaN       NaN  \n",
       "3      0.0       1.0       0.0  \n",
       "4      0.0       1.0       0.0  \n",
       "\n",
       "[5 rows x 89 columns]"
      ]
     },
     "execution_count": 26,
     "metadata": {},
     "output_type": "execute_result"
    }
   ],
   "source": [
    "data_path = \"aerdat4.dta\"\n",
    "df = pd.read_stata(data_path)\n",
    "\n",
    "df.head()"
   ]
  },
  {
   "cell_type": "code",
   "execution_count": 27,
   "id": "4043942c-da67-4b38-809a-702cdc171023",
   "metadata": {},
   "outputs": [
    {
     "name": "stdout",
     "output_type": "stream",
     "text": [
      "['id', 'bog95smp', 'bog97smp', 'jam93smp', 'sex', 'age', 'age2', 'hsvisit', 'scyfnsh', 'inschl', 'prsch_c', 'prscha_1', 'prscha_2', 'vouch0', 'bog95asd', 'bog97asd', 'jam93asd', 'dbogota', 'djamundi', 'd1995', 'd1997', 'response', 'test_tak', 'sex_name', 'svy', 'd1993', 'phone', 'darea1', 'darea2', 'darea3', 'darea4', 'darea5', 'darea6', 'darea7', 'darea8', 'darea9', 'darea10', 'darea11', 'darea12', 'darea13', 'darea14', 'darea15', 'darea16', 'darea17', 'darea18', 'darea19', 'dmonth1', 'dmonth2', 'dmonth3', 'dmonth4', 'dmonth5', 'dmonth6', 'dmonth7', 'dmonth8', 'dmonth9', 'dmonth10', 'dmonth11', 'dmonth12', 'bog95', 'bog97', 'mom_sch', 'mom_age', 'mom_mw', 'dad_sch', 'dad_age', 'dad_mw', 'sex2', 'strata1', 'strata2', 'strata3', 'strata4', 'strata5', 'strata6', 'stratams', 'rept6', 'totscyrs', 'haschild', 'married', 'working', 'rept', 'nrept', 'finish6', 'finish7', 'finish8', 'sex_miss', 'usngsch', 'hoursum', 'tab3smpl', 'working3']\n"
     ]
    }
   ],
   "source": [
    "print(df.columns.tolist())\n"
   ]
  },
  {
   "cell_type": "code",
   "execution_count": 30,
   "id": "4c7b111e-de54-4202-bda9-031c17a2057c",
   "metadata": {},
   "outputs": [
    {
     "name": "stdout",
     "output_type": "stream",
     "text": [
      "count    25330.000000\n",
      "mean         5.172641\n",
      "std          0.680288\n",
      "min          4.000000\n",
      "25%          5.000000\n",
      "50%          5.000000\n",
      "75%          5.000000\n",
      "max         11.000000\n",
      "Name: scyfnsh, dtype: float64\n",
      "scyfnsh\n",
      "5.0     23498\n",
      "8.0       841\n",
      "6.0       534\n",
      "7.0       271\n",
      "9.0       157\n",
      "10.0       21\n",
      "11.0        7\n",
      "4.0         1\n",
      "Name: count, dtype: int64\n"
     ]
    }
   ],
   "source": [
    "print(df['scyfnsh'].describe())\n",
    "print(df['scyfnsh'].value_counts())\n"
   ]
  },
  {
   "cell_type": "code",
   "execution_count": 31,
   "id": "91917c0d-132d-4890-885f-60fe5d72fc96",
   "metadata": {},
   "outputs": [],
   "source": [
    "df_subset = df[\n",
    "    (df['test_tak'] == 1) &\n",
    "    ((df['bog95smp'] == 1) | (df['bog97smp'] == 1) | (df['jam93smp'] == 1))\n",
    "]\n"
   ]
  },
  {
   "cell_type": "markdown",
   "id": "64f56117-e797-4d26-bed3-6834f8ea24bd",
   "metadata": {},
   "source": [
    "# TABLE 5"
   ]
  },
  {
   "cell_type": "markdown",
   "id": "e0843698-e520-41c6-a515-8494cc456f85",
   "metadata": {},
   "source": [
    "## A: All Applications"
   ]
  },
  {
   "cell_type": "markdown",
   "id": "ef4afa7f-ed69-4efe-a36a-878abac2376f",
   "metadata": {},
   "source": [
    "### Total Points"
   ]
  },
  {
   "cell_type": "code",
   "execution_count": 33,
   "id": "88b8a75d-9322-48e6-8635-971fad0c7f74",
   "metadata": {},
   "outputs": [
    {
     "name": "stdout",
     "output_type": "stream",
     "text": [
      "Coefficient: 0.238\n",
      "Std. Error: 0.104\n",
      "N: 271\n",
      "0.238\n",
      "(0.104)\n",
      "N: 271\n"
     ]
    }
   ],
   "source": [
    "\n",
    "\n",
    "df_model = df_subset[['scyfnsh', 'vouch0']].dropna()\n",
    "\n",
    "X = sm.add_constant(df_model['vouch0'])\n",
    "y = df_model['scyfnsh']\n",
    "\n",
    "model = sm.OLS(y, X).fit()\n",
    "\n",
    "coef = model.params['vouch0']\n",
    "se = model.bse['vouch0']\n",
    "n = df_model.shape[0]\n",
    "\n",
    "print(\"Coefficient:\", round(coef, 3))\n",
    "print(\"Std. Error:\", round(se, 3))\n",
    "print(\"N:\", n)\n",
    "\n",
    "print(f\"{round(coef, 3)}\")\n",
    "print(f\"({round(se, 3)})\")\n",
    "print(f\"N: {n}\")\n"
   ]
  },
  {
   "cell_type": "markdown",
   "id": "e730230e-75f8-4e99-ab4a-72e695c646f1",
   "metadata": {},
   "source": [
    "### Math Scores"
   ]
  },
  {
   "cell_type": "code",
   "execution_count": 59,
   "id": "cd12d848-8fa5-4225-a0c2-f9a33f28bb9e",
   "metadata": {},
   "outputs": [
    {
     "name": "stdout",
     "output_type": "stream",
     "text": [
      "-0.0\n",
      "(0.0)\n",
      "271\n"
     ]
    }
   ],
   "source": [
    "df_subset = df.rename(columns={'id': 'total_points'})\n",
    "\n",
    "mask = (\n",
    "    ((df_subset['bog95smp'] == 1) |\n",
    "     (df_subset['bog97smp'] == 1) |\n",
    "     (df_subset['jam93smp'] == 1)) &\n",
    "    (df_subset['test_tak'] == 1)\n",
    ")\n",
    "df_exp = df_subset[mask].copy()\n",
    "\n",
    "df_exp['math_score'] = (\n",
    "    df_exp['bog95asd'] * df_exp['bog95smp'] +\n",
    "    df_exp['bog97asd'] * df_exp['bog97smp'] +\n",
    "    df_exp['jam93asd'] * df_exp['jam93smp']\n",
    ")\n",
    "\n",
    "df_model = df_exp[['math_score', 'vouch0']].dropna()\n",
    "\n",
    "import statsmodels.api as sm\n",
    "X = sm.add_constant(df_model['vouch0'])\n",
    "y = df_model['math_score']\n",
    "model = sm.OLS(y, X).fit()\n",
    "\n",
    "coef = model.params['vouch0']\n",
    "se = model.bse['vouch0']\n",
    "n = df_model.shape[0]\n",
    "\n",
    "print(f\"{round(coef, 3)}\")\n",
    "print(f\"({round(se, 3)})\")\n",
    "print(n)\n",
    "\n",
    "# 0.178, 0.153"
   ]
  },
  {
   "cell_type": "code",
   "execution_count": null,
   "id": "8e74d0ca-8319-406b-8853-c1900f719b61",
   "metadata": {},
   "outputs": [],
   "source": []
  }
 ],
 "metadata": {
  "kernelspec": {
   "display_name": "Python 3 (ipykernel)",
   "language": "python",
   "name": "python3"
  },
  "language_info": {
   "codemirror_mode": {
    "name": "ipython",
    "version": 3
   },
   "file_extension": ".py",
   "mimetype": "text/x-python",
   "name": "python",
   "nbconvert_exporter": "python",
   "pygments_lexer": "ipython3",
   "version": "3.11.12"
  }
 },
 "nbformat": 4,
 "nbformat_minor": 5
}
