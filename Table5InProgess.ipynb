{
 "cells": [
  {
   "cell_type": "code",
   "execution_count": 25,
   "id": "c742d864-1bc7-4044-b820-693689765993",
   "metadata": {},
   "outputs": [],
   "source": [
    "import pandas as pd\n",
    "import statsmodels.api as sm"
   ]
  },
  {
   "cell_type": "code",
   "execution_count": 75,
   "id": "69818c0d-ef55-4945-80e0-b2652fe1fcf6",
   "metadata": {},
   "outputs": [
    {
     "name": "stdout",
     "output_type": "stream",
     "text": [
      "['id', 'vouch0', 'sex', 'svy', 'age', 'hsvisit', 'strata1', 'strata2', 'strata3', 'strata4', 'strata5', 'strata6', 'mom_sch', 'dad_sch', 'dad_miss', 'mom_miss', 'math', 'reading', 'writing', 't_site', 'totalpts', 'tsite1', 'tsite2', 'tsite3', 'sex_name', 'bog95smp', 'bog95asd', 'bog97smp', 'bog97asd', 'jam93smp', 'jam93asd', 'test_tak', 'dbogota', 'djamundi', 'd1995', 'd1993', 'd1997', 'phone', 'scyfnsh', 'darea1', 'darea2', 'darea3', 'darea4', 'darea5', 'darea6', 'darea7', 'darea8', 'darea9', 'darea10', 'darea11', 'darea12', 'darea13', 'darea14', 'darea15', 'darea16', 'darea17', 'darea18', 'darea19', 'dmonth1', 'dmonth2', 'dmonth3', 'dmonth4', 'dmonth5', 'dmonth6', 'dmonth7', 'dmonth8', 'dmonth9', 'dmonth10', 'dmonth11', 'dmonth12', 'bog95', 'bog97', 'mom_age', 'mom_mw', 'dad_age', 'dad_mw', 'sex2', 'stratams', 'age2']\n"
     ]
    }
   ],
   "source": [
    "df = pd.read_stata(\"tab5v1.dta\")\n",
    "print(df.columns.tolist())\n"
   ]
  },
  {
   "cell_type": "code",
   "execution_count": 76,
   "id": "4043942c-da67-4b38-809a-702cdc171023",
   "metadata": {},
   "outputs": [
    {
     "name": "stdout",
     "output_type": "stream",
     "text": [
      "['id', 'vouch0', 'sex', 'svy', 'age', 'hsvisit', 'strata1', 'strata2', 'strata3', 'strata4', 'strata5', 'strata6', 'mom_sch', 'dad_sch', 'dad_miss', 'mom_miss', 'math', 'reading', 'writing', 't_site', 'totalpts', 'tsite1', 'tsite2', 'tsite3', 'sex_name', 'bog95smp', 'bog95asd', 'bog97smp', 'bog97asd', 'jam93smp', 'jam93asd', 'test_tak', 'dbogota', 'djamundi', 'd1995', 'd1993', 'd1997', 'phone', 'scyfnsh', 'darea1', 'darea2', 'darea3', 'darea4', 'darea5', 'darea6', 'darea7', 'darea8', 'darea9', 'darea10', 'darea11', 'darea12', 'darea13', 'darea14', 'darea15', 'darea16', 'darea17', 'darea18', 'darea19', 'dmonth1', 'dmonth2', 'dmonth3', 'dmonth4', 'dmonth5', 'dmonth6', 'dmonth7', 'dmonth8', 'dmonth9', 'dmonth10', 'dmonth11', 'dmonth12', 'bog95', 'bog97', 'mom_age', 'mom_mw', 'dad_age', 'dad_mw', 'sex2', 'stratams', 'age2']\n"
     ]
    }
   ],
   "source": [
    "print(df.columns.tolist())\n"
   ]
  },
  {
   "cell_type": "code",
   "execution_count": 77,
   "id": "4c7b111e-de54-4202-bda9-031c17a2057c",
   "metadata": {},
   "outputs": [
    {
     "name": "stdout",
     "output_type": "stream",
     "text": [
      "count    283.000000\n",
      "mean       7.749117\n",
      "std        0.869473\n",
      "min        5.000000\n",
      "25%        8.000000\n",
      "50%        8.000000\n",
      "75%        8.000000\n",
      "max       11.000000\n",
      "Name: scyfnsh, dtype: float64\n",
      "scyfnsh\n",
      "8.0     203\n",
      "7.0      30\n",
      "6.0      20\n",
      "9.0      18\n",
      "5.0       9\n",
      "11.0      2\n",
      "10.0      1\n",
      "Name: count, dtype: int64\n"
     ]
    }
   ],
   "source": [
    "print(df['scyfnsh'].describe())\n",
    "print(df['scyfnsh'].value_counts())\n"
   ]
  },
  {
   "cell_type": "code",
   "execution_count": 78,
   "id": "91917c0d-132d-4890-885f-60fe5d72fc96",
   "metadata": {},
   "outputs": [],
   "source": [
    "df_subset = df[\n",
    "    (df['test_tak'] == 1) &\n",
    "    ((df['bog95smp'] == 1) | (df['bog97smp'] == 1) | (df['jam93smp'] == 1))\n",
    "]\n"
   ]
  },
  {
   "cell_type": "markdown",
   "id": "64f56117-e797-4d26-bed3-6834f8ea24bd",
   "metadata": {},
   "source": [
    "# TABLE 5"
   ]
  },
  {
   "cell_type": "markdown",
   "id": "e0843698-e520-41c6-a515-8494cc456f85",
   "metadata": {},
   "source": [
    "## A: All Applications"
   ]
  },
  {
   "cell_type": "markdown",
   "id": "ef4afa7f-ed69-4efe-a36a-878abac2376f",
   "metadata": {},
   "source": [
    "### Total Points"
   ]
  },
  {
   "cell_type": "code",
   "execution_count": 79,
   "id": "88b8a75d-9322-48e6-8635-971fad0c7f74",
   "metadata": {},
   "outputs": [
    {
     "name": "stdout",
     "output_type": "stream",
     "text": [
      "Coefficient: 0.202\n",
      "Std. Error: 0.103\n",
      "N: 271\n",
      "0.202\n",
      "(0.103)\n",
      "N: 271\n"
     ]
    }
   ],
   "source": [
    "\n",
    "\n",
    "df_model = df_subset[['scyfnsh', 'vouch0']].dropna()\n",
    "\n",
    "X = sm.add_constant(df_model['vouch0'])\n",
    "y = df_model['scyfnsh']\n",
    "\n",
    "model = sm.OLS(y, X).fit()\n",
    "\n",
    "coef = model.params['vouch0']\n",
    "se = model.bse['vouch0']\n",
    "n = df_model.shape[0]\n",
    "\n",
    "print(\"Coefficient:\", round(coef, 3))\n",
    "print(\"Std. Error:\", round(se, 3))\n",
    "print(\"N:\", n)\n",
    "\n",
    "print(f\"{round(coef, 3)}\")\n",
    "print(f\"({round(se, 3)})\")\n",
    "print(f\"N: {n}\")\n"
   ]
  },
  {
   "cell_type": "markdown",
   "id": "e730230e-75f8-4e99-ab4a-72e695c646f1",
   "metadata": {},
   "source": [
    "### Math Scores"
   ]
  },
  {
   "cell_type": "code",
   "execution_count": 82,
   "id": "cd12d848-8fa5-4225-a0c2-f9a33f28bb9e",
   "metadata": {},
   "outputs": [
    {
     "name": "stdout",
     "output_type": "stream",
     "text": [
      "0.152\n",
      "(0.122)\n",
      "270\n"
     ]
    }
   ],
   "source": [
    "\n",
    "df_subset = df[df['test_tak'] == 1].copy()\n",
    "mask = (\n",
    "    (df_subset['bog95smp'] == 1) |\n",
    "    (df_subset['bog97smp'] == 1) |\n",
    "    (df_subset['jam93smp'] == 1)\n",
    ")\n",
    "df_exp = df_subset[mask].copy()\n",
    "\n",
    "df_model = df_exp[['math', 'vouch0']].dropna()\n",
    "\n",
    "X = sm.add_constant(df_model['vouch0'])\n",
    "y = df_model['math']\n",
    "model = sm.OLS(y, X).fit()\n",
    "\n",
    "coef = model.params['vouch0']\n",
    "se = model.bse['vouch0']\n",
    "n = df_model.shape[0]\n",
    "\n",
    "print(f\"{round(coef, 3)}\")\n",
    "print(f\"({round(se, 3)})\")\n",
    "print(n)\n"
   ]
  },
  {
   "cell_type": "markdown",
   "id": "42031035-59eb-428a-9082-8162323f7aa6",
   "metadata": {},
   "source": [
    "### Reading Scores"
   ]
  },
  {
   "cell_type": "code",
   "execution_count": 85,
   "id": "6c24dc4a-cffe-4b18-bc7c-45a0131c0e7b",
   "metadata": {},
   "outputs": [
    {
     "name": "stdout",
     "output_type": "stream",
     "text": [
      "Coefficient: 0.182\n",
      "Std. Error: (0.121)\n",
      "N: 271\n"
     ]
    }
   ],
   "source": [
    "df_subset = df.rename(columns={'id': 'total_points'})\n",
    "\n",
    "mask = (\n",
    "    ((df_subset['bog95smp'] == 1) |\n",
    "     (df_subset['bog97smp'] == 1) |\n",
    "     (df_subset['jam93smp'] == 1)) &\n",
    "    (df_subset['test_tak'] == 1)\n",
    ")\n",
    "df_exp = df_subset[mask].copy()\n",
    "\n",
    "df_model = df_exp[['reading', 'vouch0']].dropna()\n",
    "\n",
    "X = sm.add_constant(df_model['vouch0'])\n",
    "y = df_model['reading']\n",
    "model = sm.OLS(y, X).fit()\n",
    "\n",
    "# Output\n",
    "coef = model.params['vouch0']\n",
    "se = model.bse['vouch0']\n",
    "n = df_model.shape[0]\n",
    "\n",
    "print(f\"Coefficient: {round(coef, 3)}\")\n",
    "print(f\"Std. Error: ({round(se, 3)})\")\n",
    "print(f\"N: {n}\")\n"
   ]
  },
  {
   "cell_type": "code",
   "execution_count": null,
   "id": "65d543d5-fd28-4476-b83d-dbcc3da9e3e7",
   "metadata": {},
   "outputs": [],
   "source": []
  }
 ],
 "metadata": {
  "kernelspec": {
   "display_name": "Python 3 (ipykernel)",
   "language": "python",
   "name": "python3"
  },
  "language_info": {
   "codemirror_mode": {
    "name": "ipython",
    "version": 3
   },
   "file_extension": ".py",
   "mimetype": "text/x-python",
   "name": "python",
   "nbconvert_exporter": "python",
   "pygments_lexer": "ipython3",
   "version": "3.11.12"
  }
 },
 "nbformat": 4,
 "nbformat_minor": 5
}
