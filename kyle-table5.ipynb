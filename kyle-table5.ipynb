{
 "cells": [
  {
   "cell_type": "code",
   "execution_count": 139,
   "id": "026d78e0-e625-4afb-ac8e-90352fe1ad2b",
   "metadata": {},
   "outputs": [],
   "source": [
    "import pandas as pd\n",
    "import numpy as np\n",
    "import statsmodels.api as sm"
   ]
  },
  {
   "cell_type": "code",
   "execution_count": 140,
   "id": "b81928ec-2440-47f0-8ecd-316e2759fd99",
   "metadata": {},
   "outputs": [],
   "source": [
    "df = pd.read_stata(\"aerdat4.dta\")\n",
    "tab5 = pd.read_stata(\"tab5v1.dta\")"
   ]
  },
  {
   "cell_type": "code",
   "execution_count": 141,
   "id": "39114fde-2734-47df-ac70-f34c30a4b6a9",
   "metadata": {},
   "outputs": [
    {
     "data": {
      "text/plain": [
       "Index(['id', 'vouch0', 'sex', 'svy', 'age', 'hsvisit', 'strata1', 'strata2',\n",
       "       'strata3', 'strata4', 'strata5', 'strata6', 'mom_sch', 'dad_sch',\n",
       "       'dad_miss', 'mom_miss', 'math', 'reading', 'writing', 't_site',\n",
       "       'totalpts', 'tsite1', 'tsite2', 'tsite3', 'sex_name', 'bog95smp',\n",
       "       'bog95asd', 'bog97smp', 'bog97asd', 'jam93smp', 'jam93asd', 'test_tak',\n",
       "       'dbogota', 'djamundi', 'd1995', 'd1993', 'd1997', 'phone', 'scyfnsh',\n",
       "       'darea1', 'darea2', 'darea3', 'darea4', 'darea5', 'darea6', 'darea7',\n",
       "       'darea8', 'darea9', 'darea10', 'darea11', 'darea12', 'darea13',\n",
       "       'darea14', 'darea15', 'darea16', 'darea17', 'darea18', 'darea19',\n",
       "       'dmonth1', 'dmonth2', 'dmonth3', 'dmonth4', 'dmonth5', 'dmonth6',\n",
       "       'dmonth7', 'dmonth8', 'dmonth9', 'dmonth10', 'dmonth11', 'dmonth12',\n",
       "       'bog95', 'bog97', 'mom_age', 'mom_mw', 'dad_age', 'dad_mw', 'sex2',\n",
       "       'stratams', 'age2'],\n",
       "      dtype='object')"
      ]
     },
     "execution_count": 141,
     "metadata": {},
     "output_type": "execute_result"
    }
   ],
   "source": [
    "tab5.columns"
   ]
  },
  {
   "cell_type": "code",
   "execution_count": 142,
   "id": "2c5f40c4-8b4c-430b-83bb-e4a367c6b5c3",
   "metadata": {},
   "outputs": [],
   "source": [
    "# Panel A Column 1\n",
    "\n",
    "treatment = 'vouch0'\n",
    "controls = ['tsite1','tsite2','tsite3']\n",
    "ols_vars_panelA = ['totalpts','math','reading','writing']\n",
    "\n",
    "def tab5_panelA_col1(vars, treatment, controls):\n",
    "\n",
    "    for var in vars:\n",
    "        vars_needed = [treatment, var] + controls\n",
    "        data = tab5[vars_needed].dropna()\n",
    "\n",
    "        X = sm.add_constant(data[[treatment] + controls])\n",
    "        y = data[var]\n",
    "\n",
    "        model = sm.OLS(y, X).fit()\n",
    "\n",
    "        coef = model.params[treatment]\n",
    "        std_err = model.bse[treatment]\n",
    "        n = data.shape[0]\n",
    "\n",
    "        print(f\"{var}: coef={round(coef, 4)}, std_err={round(std_err, 4)}, n={n}\")"
   ]
  },
  {
   "cell_type": "code",
   "execution_count": 143,
   "id": "fe511de6-ca5c-42d1-9861-ac614eea5514",
   "metadata": {},
   "outputs": [
    {
     "name": "stdout",
     "output_type": "stream",
     "text": [
      "totalpts: coef=0.2168, std_err=0.1194, n=282\n",
      "math: coef=0.1776, std_err=0.119, n=282\n",
      "reading: coef=0.2036, std_err=0.1201, n=283\n",
      "writing: coef=0.1259, std_err=0.1209, n=283\n"
     ]
    }
   ],
   "source": [
    "tab5_panelA_col1(ols_vars_panelA, treatment, controls)"
   ]
  },
  {
   "cell_type": "code",
   "execution_count": 144,
   "id": "887b8307-886c-40b2-8fc6-5157a0776ce3",
   "metadata": {},
   "outputs": [],
   "source": [
    "# Panel B Column 1\n",
    "\n",
    "ols_vars_panelBandC = ['totalpts','math','reading']\n",
    "\n",
    "def tab5_panelB_col1(vars, treatment, controls):\n",
    "\n",
    "    for var in vars:\n",
    "        vars_needed = [treatment, var] + controls\n",
    "        data = tab5[tab5['sex2'] == 0][vars_needed].dropna()\n",
    "\n",
    "        X = sm.add_constant(data[[treatment] + controls])\n",
    "        y = data[var]\n",
    "\n",
    "        model = sm.OLS(y, X).fit()\n",
    "\n",
    "        coef = model.params[treatment]\n",
    "        std_err = model.bse[treatment]\n",
    "        n = data.shape[0]\n",
    "\n",
    "        print(f\"{var}: coef={round(coef, 4)}, std_err={round(std_err, 4)}, n={n}\")"
   ]
  },
  {
   "cell_type": "code",
   "execution_count": 145,
   "id": "5b9c7225-f87b-46dd-8a95-334842957e9c",
   "metadata": {},
   "outputs": [
    {
     "name": "stdout",
     "output_type": "stream",
     "text": [
      "totalpts: coef=0.2412, std_err=0.1534, n=147\n",
      "math: coef=0.3281, std_err=0.1447, n=147\n",
      "reading: coef=0.1449, std_err=0.1567, n=148\n"
     ]
    }
   ],
   "source": [
    "tab5_panelB_col1(ols_vars_panelBandC, treatment, controls)"
   ]
  },
  {
   "cell_type": "code",
   "execution_count": 146,
   "id": "2fe108c7-d30f-484f-85fe-cbf75d278a0c",
   "metadata": {},
   "outputs": [],
   "source": [
    "# Panel C Column 1\n",
    "\n",
    "def tab5_panelC_col1(vars, treatment, controls):\n",
    "\n",
    "    for var in vars:\n",
    "        vars_needed = [treatment, var] + controls\n",
    "        data = tab5[tab5['sex2'] == 1][vars_needed].dropna()\n",
    "\n",
    "        X = sm.add_constant(data[[treatment] + controls])\n",
    "        y = data[var]\n",
    "\n",
    "        model = sm.OLS(y, X).fit()\n",
    "\n",
    "        coef = model.params[treatment]\n",
    "        std_err = model.bse[treatment]\n",
    "        n = data.shape[0]\n",
    "\n",
    "        print(f\"{var}: coef={round(coef, 4)}, std_err={round(std_err, 4)}, n={n}\")"
   ]
  },
  {
   "cell_type": "code",
   "execution_count": 147,
   "id": "44131a09-7771-4ba9-95f4-180171eba15d",
   "metadata": {},
   "outputs": [
    {
     "name": "stdout",
     "output_type": "stream",
     "text": [
      "totalpts: coef=0.179, std_err=0.1834, n=135\n",
      "math: coef=-0.0083, std_err=0.1884, n=135\n",
      "reading: coef=0.2549, std_err=0.1841, n=135\n"
     ]
    }
   ],
   "source": [
    "tab5_panelC_col1(ols_vars_panelBandC, treatment, controls)"
   ]
  },
  {
   "cell_type": "code",
   "execution_count": 148,
   "id": "8a34c55d-cf71-4c3d-8ce1-bb72021f96c9",
   "metadata": {},
   "outputs": [],
   "source": [
    "# Panel A Column 2\n",
    "\n",
    "treatment = 'vouch0'\n",
    "controls_w_covariates = ['tsite1','tsite2','tsite3','svy','hsvisit','age','sex','mom_sch','strata1','strata2','strata3','strata4','strata5','strata6','dad_sch','mom_miss','dad_miss']\n",
    "\n",
    "def tab5_panelA_col2(vars, treatment, controls):\n",
    "\n",
    "    for var in vars:\n",
    "        vars_needed = [treatment, var] + controls\n",
    "        data = tab5[vars_needed].dropna()\n",
    "\n",
    "        X = sm.add_constant(data[[treatment] + controls])\n",
    "        y = data[var]\n",
    "\n",
    "        model = sm.OLS(y, X).fit()\n",
    "\n",
    "        coef = model.params[treatment]\n",
    "        std_err = model.bse[treatment]\n",
    "        n = data.shape[0]\n",
    "\n",
    "        print(f\"{var}: coef={round(coef, 4)}, std_err={round(std_err, 4)}, n={n}\")"
   ]
  },
  {
   "cell_type": "code",
   "execution_count": 149,
   "id": "971f5a0b-cb4a-4111-b81f-4dc4a835bdd7",
   "metadata": {},
   "outputs": [
    {
     "name": "stdout",
     "output_type": "stream",
     "text": [
      "totalpts: coef=0.2237, std_err=0.1091, n=282\n",
      "math: coef=0.1763, std_err=0.1139, n=282\n",
      "reading: coef=0.2113, std_err=0.1147, n=283\n",
      "writing: coef=0.1391, std_err=0.1132, n=283\n"
     ]
    }
   ],
   "source": [
    "tab5_panelA_col2(ols_vars_panelA, treatment, controls_w_covariates)"
   ]
  },
  {
   "cell_type": "code",
   "execution_count": 150,
   "id": "8b5c35b4-1ead-4f9b-94fe-a62fce76f517",
   "metadata": {},
   "outputs": [],
   "source": [
    "# Panel B Column 2\n",
    "\n",
    "def tab5_panelB_col2(vars, treatment, controls):\n",
    "\n",
    "    for var in vars:\n",
    "        vars_needed = [treatment, var] + controls\n",
    "        data = tab5[tab5['sex2'] == 0][vars_needed].dropna()\n",
    "\n",
    "        X = sm.add_constant(data[[treatment] + controls])\n",
    "        y = data[var]\n",
    "\n",
    "        model = sm.OLS(y, X).fit()\n",
    "\n",
    "        coef = model.params[treatment]\n",
    "        std_err = model.bse[treatment]\n",
    "        n = data.shape[0]\n",
    "\n",
    "        print(f\"{var}: coef={round(coef, 4)}, std_err={round(std_err, 4)}, n={n}\")"
   ]
  },
  {
   "cell_type": "code",
   "execution_count": 151,
   "id": "f394aea0-ded0-459e-ad6f-aa6985c1b867",
   "metadata": {},
   "outputs": [
    {
     "name": "stdout",
     "output_type": "stream",
     "text": [
      "totalpts: coef=0.3046, std_err=0.1324, n=147\n",
      "math: coef=0.3686, std_err=0.1361, n=147\n",
      "reading: coef=0.1775, std_err=0.1494, n=148\n"
     ]
    }
   ],
   "source": [
    "tab5_panelB_col2(ols_vars_panelBandC, treatment, controls_w_covariates)"
   ]
  },
  {
   "cell_type": "code",
   "execution_count": 152,
   "id": "609ce0cc-0c60-4365-aed1-eec8b18aa145",
   "metadata": {},
   "outputs": [],
   "source": [
    "# Panel C Column 2\n",
    "\n",
    "def tab5_panelC_col2(vars, treatment, controls):\n",
    "\n",
    "    for var in vars:\n",
    "        vars_needed = [treatment, var] + controls\n",
    "        data = tab5[tab5['sex2'] == 1][vars_needed].dropna()\n",
    "\n",
    "        X = sm.add_constant(data[[treatment] + controls])\n",
    "        y = data[var]\n",
    "\n",
    "        model = sm.OLS(y, X).fit()\n",
    "\n",
    "        coef = model.params[treatment]\n",
    "        std_err = model.bse[treatment]\n",
    "        n = data.shape[0]\n",
    "\n",
    "        print(f\"{var}: coef={round(coef, 4)}, std_err={round(std_err, 4)}, n={n}\")"
   ]
  },
  {
   "cell_type": "code",
   "execution_count": 153,
   "id": "d172fc63-ec54-4294-8828-11923f806322",
   "metadata": {},
   "outputs": [
    {
     "name": "stdout",
     "output_type": "stream",
     "text": [
      "totalpts: coef=0.1497, std_err=0.1858, n=135\n",
      "math: coef=-0.0134, std_err=0.1926, n=135\n",
      "reading: coef=0.2186, std_err=0.1864, n=135\n"
     ]
    }
   ],
   "source": [
    "tab5_panelC_col2(ols_vars_panelBandC, treatment, controls_w_covariates)"
   ]
  },
  {
   "cell_type": "code",
   "execution_count": 154,
   "id": "d654502b-61b2-47c8-98c5-a52f36858498",
   "metadata": {},
   "outputs": [
    {
     "name": "stdout",
     "output_type": "stream",
     "text": [
      "-- column 3 panel A (no extra covariates) --\n",
      "pooled_test_scores  col3  coef= 0.145,  se= 0.097,  N=848\n",
      "\n",
      "-- column 4 panel A (with covariates) --\n",
      "pooled_test_scores  col4  coef= 0.155,  se= 0.089,  N=848\n"
     ]
    }
   ],
   "source": [
    "# Panel A Column 3 & 4 (Pooled)\n",
    "\n",
    "controls_w_covariates = ['tsite1','tsite2','tsite3','svy','hsvisit','age','sex2','mom_sch','dad_sch','mom_miss','dad_miss']\n",
    "\n",
    "def tab5_panelA_col3or4_pooled(vars, treatment, controls, with_covariates=True):\n",
    "    for var in vars:\n",
    "        long = tab5[['id',treatment] + controls + ['math','reading','writing']]\n",
    "        long = long.melt(id_vars=['id',treatment] + controls, value_vars=['math','reading','writing'], var_name='subject', value_name='score').dropna(subset=['score'])\n",
    "        \n",
    "        subject = pd.get_dummies(long['subject'], drop_first=True)\n",
    "        base_cols  = [treatment] + (controls if with_covariates else [])\n",
    "        X  = sm.add_constant(pd.concat([long[base_cols], subject], axis=1)).astype(float)\n",
    "        y  = long['score'].astype(float)\n",
    "\n",
    "        cluster = long['id']\n",
    "        model = sm.OLS(y, X).fit(cov_type='cluster', cov_kwds={'groups': cluster})\n",
    "\n",
    "        coef = model.params[treatment]\n",
    "        std_err = model.bse[treatment]\n",
    "        n = len(y)\n",
    "\n",
    "        col_num = 4 if with_covariates else 3\n",
    "        print(f\"{var:9s}  col{col_num}  coef={coef: .3f},  se={std_err: .3f},  N={n}\")\n",
    "\n",
    "test_vars = ['pooled_test_scores']\n",
    "\n",
    "print(\"-- column 3 panel A (no extra covariates) --\")\n",
    "tab5_panelA_col3or4_pooled(test_vars, treatment, controls_w_covariates, with_covariates=False)\n",
    "\n",
    "print(\"\\n-- column 4 panel A (with covariates) --\")\n",
    "tab5_panelA_col3or4_pooled(test_vars, treatment, controls_w_covariates, with_covariates=True)"
   ]
  },
  {
   "cell_type": "code",
   "execution_count": 155,
   "id": "01e5571f-c4ba-44f2-8b36-40b394631ce6",
   "metadata": {},
   "outputs": [
    {
     "name": "stdout",
     "output_type": "stream",
     "text": [
      "-- column 3 panel A (no extra covariates) --\n",
      "math_and_reading  col3  coef= 0.157,  se= 0.103,  N=565\n",
      "\n",
      "-- column 4 panel A (with covariates) --\n",
      "math_and_reading  col4  coef= 0.170,  se= 0.096,  N=565\n"
     ]
    }
   ],
   "source": [
    "# Panel A Column 3 & 4 (Math and Reading Scores)\n",
    "\n",
    "def tab5_panelA_col3or4_MandR(vars, treatment, controls, with_covariates=True):\n",
    "    for var in vars:\n",
    "        long = tab5[['id',treatment] + controls + ['math','reading']]\n",
    "        long = long.melt(id_vars=['id',treatment] + controls, value_vars=['math','reading'], var_name='subject', value_name='score').dropna(subset=['score'])\n",
    "        \n",
    "        subject = pd.get_dummies(long['subject'], drop_first=True)\n",
    "        base_cols  = [treatment] + (controls if with_covariates else [])\n",
    "        X  = sm.add_constant(pd.concat([long[base_cols], subject], axis=1)).astype(float)\n",
    "        y  = long['score'].astype(float)\n",
    "\n",
    "        cluster = long['id']\n",
    "        model = sm.OLS(y, X).fit(cov_type='cluster', cov_kwds={'groups': cluster})\n",
    "\n",
    "        coef = model.params[treatment]\n",
    "        std_err = model.bse[treatment]\n",
    "        n = len(y)\n",
    "\n",
    "        col_num = 4 if with_covariates else 3\n",
    "        print(f\"{var:9s}  col{col_num}  coef={coef: .3f},  se={std_err: .3f},  N={n}\")\n",
    "\n",
    "test_vars = ['math_and_reading']\n",
    "\n",
    "print(\"-- column 3 panel A (no extra covariates) --\")\n",
    "tab5_panelA_col3or4_MandR(test_vars, treatment, controls_w_covariates, with_covariates=False)\n",
    "\n",
    "print(\"\\n-- column 4 panel A (with covariates) --\")\n",
    "tab5_panelA_col3or4_MandR(test_vars, treatment, controls_w_covariates, with_covariates=True)"
   ]
  },
  {
   "cell_type": "code",
   "execution_count": 156,
   "id": "fd54e226-780c-4032-8524-0e8eb2d176a1",
   "metadata": {},
   "outputs": [
    {
     "name": "stdout",
     "output_type": "stream",
     "text": [
      "-- column 3 panel B (no extra covariates) --\n",
      "math_and_reading  col3  coef= 0.173,  se= 0.128,  N=295\n",
      "\n",
      "-- column 4 panel B (with covariates) --\n",
      "math_and_reading  col4  coef= 0.262,  se= 0.112,  N=295\n"
     ]
    }
   ],
   "source": [
    "# Panel B Column 3 & 4 (Math and Reading Scores)\n",
    "\n",
    "def tab5_panelB_col3or4_MandR(vars, treatment, controls, with_covariates=True):\n",
    "    for var in vars:\n",
    "        long = tab5[['id',treatment] + controls + ['math','reading']]\n",
    "        long = long.melt(id_vars=['id',treatment] + controls, value_vars=['math','reading'], var_name='subject', value_name='score').dropna(subset=['score'])\n",
    "        long = long[ long['sex2'] == 0]\n",
    "        \n",
    "        subject = pd.get_dummies(long['subject'], drop_first=True)\n",
    "        base_cols  = [treatment] + (controls if with_covariates else [])\n",
    "        X  = sm.add_constant(pd.concat([long[base_cols], subject], axis=1)).astype(float)\n",
    "        y  = long['score'].astype(float)\n",
    "\n",
    "        cluster = long['id']\n",
    "        model = sm.OLS(y, X).fit(cov_type='cluster', cov_kwds={'groups': cluster})\n",
    "\n",
    "        coef = model.params[treatment]\n",
    "        std_err = model.bse[treatment]\n",
    "        n = len(y)\n",
    "\n",
    "        col_num = 4 if with_covariates else 3\n",
    "        print(f\"{var:9s}  col{col_num}  coef={coef: .3f},  se={std_err: .3f},  N={n}\")\n",
    "\n",
    "test_vars = ['math_and_reading']\n",
    "\n",
    "print(\"-- column 3 panel B (no extra covariates) --\")\n",
    "tab5_panelB_col3or4_MandR(test_vars, treatment, controls_w_covariates, with_covariates=False)\n",
    "\n",
    "print(\"\\n-- column 4 panel B (with covariates) --\")\n",
    "tab5_panelB_col3or4_MandR(test_vars, treatment, controls_w_covariates, with_covariates=True)"
   ]
  },
  {
   "cell_type": "code",
   "execution_count": 157,
   "id": "890f8bcb-d695-47e6-a75c-22d97da6000a",
   "metadata": {},
   "outputs": [
    {
     "name": "stdout",
     "output_type": "stream",
     "text": [
      "-- column 3 panel C (no extra covariates) --\n",
      "math_and_reading  col3  coef= 0.114,  se= 0.163,  N=270\n",
      "\n",
      "-- column 4 panel C (with covariates) --\n",
      "math_and_reading  col4  coef= 0.066,  se= 0.154,  N=270\n"
     ]
    }
   ],
   "source": [
    "# Panel C Column 3 & 4 (Math and Reading Scores)\n",
    "\n",
    "def tab5_panelC_col3or4_MandR(vars, treatment, controls, with_covariates=True):\n",
    "    for var in vars:\n",
    "        long = tab5[['id',treatment] + controls + ['math','reading']]\n",
    "        long = long.melt(id_vars=['id',treatment] + controls, value_vars=['math','reading'], var_name='subject', value_name='score').dropna(subset=['score'])\n",
    "        long = long[ long['sex2'] == 1]\n",
    "        \n",
    "        subject = pd.get_dummies(long['subject'], drop_first=True)\n",
    "        base_cols  = [treatment] + (controls if with_covariates else [])\n",
    "        X  = sm.add_constant(pd.concat([long[base_cols], subject], axis=1)).astype(float)\n",
    "        y  = long['score'].astype(float)\n",
    "\n",
    "        cluster = long['id']\n",
    "        model = sm.OLS(y, X).fit(cov_type='cluster', cov_kwds={'groups': cluster})\n",
    "\n",
    "        coef = model.params[treatment]\n",
    "        std_err = model.bse[treatment]\n",
    "        n = len(y)\n",
    "\n",
    "        col_num = 4 if with_covariates else 3\n",
    "        print(f\"{var:9s}  col{col_num}  coef={coef: .3f},  se={std_err: .3f},  N={n}\")\n",
    "\n",
    "test_vars = ['math_and_reading']\n",
    "\n",
    "print(\"-- column 3 panel C (no extra covariates) --\")\n",
    "tab5_panelC_col3or4_MandR(test_vars, treatment, controls_w_covariates, with_covariates=False)\n",
    "\n",
    "print(\"\\n-- column 4 panel C (with covariates) --\")\n",
    "tab5_panelC_col3or4_MandR(test_vars, treatment, controls_w_covariates, with_covariates=True)"
   ]
  },
  {
   "cell_type": "code",
   "execution_count": null,
   "id": "f5e7bab4-0e6d-454d-9fb2-a0dd483dc545",
   "metadata": {},
   "outputs": [],
   "source": []
  }
 ],
 "metadata": {
  "kernelspec": {
   "display_name": "Python 3 (ipykernel)",
   "language": "python",
   "name": "python3"
  },
  "language_info": {
   "codemirror_mode": {
    "name": "ipython",
    "version": 3
   },
   "file_extension": ".py",
   "mimetype": "text/x-python",
   "name": "python",
   "nbconvert_exporter": "python",
   "pygments_lexer": "ipython3",
   "version": "3.11.12"
  }
 },
 "nbformat": 4,
 "nbformat_minor": 5
}
