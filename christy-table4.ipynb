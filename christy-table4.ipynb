{
 "cells": [
  {
   "cell_type": "code",
   "execution_count": 1,
   "id": "cc57f5d4-5d5b-4e45-b3ac-5513d649e626",
   "metadata": {},
   "outputs": [],
   "source": [
    "import numpy as np\n",
    "import pandas as pd\n",
    "import statsmodels.api as sm\n",
    "from statsmodels.stats.sandwich_covariance import cov_hc1"
   ]
  },
  {
   "cell_type": "code",
   "execution_count": 2,
   "id": "551ab27e-d9cf-4bd2-8eca-91ed76ba13f0",
   "metadata": {},
   "outputs": [],
   "source": [
    "data_path = \"aerdat4.dta\"\n",
    "voucher = pd.read_stata(data_path)\n",
    "\n",
    "# remove rows with conflicting cohort data\n",
    "cohort = voucher.copy()[(voucher['bog95smp']==1)|(voucher['bog97smp']==1) | (voucher['jam93smp']==1)]\n",
    "cohort = cohort[cohort['tab3smpl']==1]\n",
    "#only keep certain columns \n",
    "drop_col = ['sex', 'bog95asd', 'bog97asd', 'jam93asd', 'response', 'test_tak', 'sex_name', 'bog95', 'bog97',\n",
    "             'mom_sch', 'mom_age', 'mom_mw', 'dad_sch','dad_age', 'dad_mw','haschild','married', 'working',\n",
    "             'hoursum', 'tab3smpl', 'working3']\n",
    "filtered_cohort = cohort.drop(columns = drop_col)"
   ]
  },
  {
   "cell_type": "markdown",
   "id": "4689ba00-fe9c-4218-88c3-553b9363996d",
   "metadata": {},
   "source": [
    "#### Bogota 1995: male and female loser means"
   ]
  },
  {
   "cell_type": "code",
   "execution_count": 3,
   "id": "d2f0b57b-6e52-4ed1-9bf6-2a7595704e80",
   "metadata": {},
   "outputs": [
    {
     "name": "stdout",
     "output_type": "stream",
     "text": [
      "sex2                female        male\n",
      "prscha_1 mean     0.897163    0.857143\n",
      "         std      0.304286    0.350554\n",
      "         count  282.000000  280.000000\n",
      "prscha_2 mean     0.698582    0.646429\n",
      "         std      0.459690    0.478934\n",
      "         count  282.000000  280.000000\n",
      "prsch_c  mean     0.535461    0.542857\n",
      "         std      0.499628    0.499052\n",
      "         count  282.000000  280.000000\n",
      "scyfnsh  mean     7.570922    7.400000\n",
      "         std      0.933904    0.989551\n",
      "         count  282.000000  280.000000\n",
      "inschl   mean     0.819149    0.842857\n",
      "         std      0.385579    0.364587\n",
      "         count  282.000000  280.000000\n",
      "finish6  mean     0.953901    0.932143\n",
      "         std      0.210073    0.251951\n",
      "         count  282.000000  280.000000\n",
      "finish7  mean     0.868794    0.825000\n",
      "         std      0.338225    0.380647\n",
      "         count  282.000000  280.000000\n",
      "finish8  mean     0.673759    0.589286\n",
      "         std      0.469670    0.492844\n",
      "         count  282.000000  280.000000\n",
      "rept6    mean     0.159574    0.228571\n",
      "         std      0.394892    0.505778\n",
      "         count  282.000000  280.000000\n",
      "rept     mean     0.195035    0.253571\n",
      "         std      0.396932    0.435834\n",
      "         count  282.000000  280.000000\n",
      "nrept    mean     0.212766    0.296429\n",
      "         std      0.459127    0.549997\n",
      "         count  282.000000  280.000000\n",
      "totscyrs mean     3.641844    3.664286\n",
      "         std      0.941011    0.962454\n",
      "         count  282.000000  280.000000\n"
     ]
    }
   ],
   "source": [
    "#bogota 1995 sample of losers \n",
    "bog95_loser = filtered_cohort[(filtered_cohort['bog95smp']==1) &(filtered_cohort['vouch0']==0)]\n",
    "#sort and group values by sex\n",
    "bog95_loser_sex = bog95_loser.groupby('sex2').agg(['mean','std','count'])\n",
    "#only keep dependent variables\n",
    "dep_var = ['prscha_1', 'prscha_2', 'prsch_c', 'scyfnsh', 'inschl', 'finish6', 'finish7', 'finish8', 'rept6',\n",
    "       'rept', 'nrept', 'totscyrs']\n",
    "bog95_loser_means = bog95_loser_sex[dep_var]\n",
    "\n",
    "#put values in dataframe\n",
    "bog95_loser_tbl = bog95_loser_means.transpose().rename(columns = {0:'female',1:'male'})\n",
    "print(bog95_loser_tbl)"
   ]
  },
  {
   "cell_type": "markdown",
   "id": "1e4c1285-6b12-4ee1-90a2-b0cc13f30fe0",
   "metadata": {},
   "source": [
    "#### Bogota 1995: Female and Male Basic Controls"
   ]
  },
  {
   "cell_type": "code",
   "execution_count": 4,
   "id": "935d025c-dde5-4e3e-8c30-6d1738beadf0",
   "metadata": {},
   "outputs": [
    {
     "name": "stdout",
     "output_type": "stream",
     "text": [
      "             coeff        sd\n",
      "prscha_1  0.090172  0.026306\n",
      "prscha_2  0.192240  0.036229\n",
      "prsch_c   0.136347  0.039494\n",
      "scyfnsh   0.123496  0.077273\n",
      "inschl   -0.019509  0.029418\n",
      "finish6   0.014449  0.018518\n",
      "finish7   0.026428  0.029756\n",
      "finish8   0.094981  0.040236\n",
      "rept6    -0.086613  0.037790\n",
      "rept     -0.083024  0.034306\n",
      "nrept    -0.101475  0.042915\n",
      "totscyrs -0.028629  0.077949\n",
      "{'count': 575}\n",
      "             coeff        sd\n",
      "prscha_1  0.022859  0.022313\n",
      "prscha_2  0.143959  0.034651\n",
      "prsch_c   0.171052  0.039543\n",
      "scyfnsh   0.140357  0.066422\n",
      "inschl    0.034716  0.027702\n",
      "finish6   0.031746  0.013066\n",
      "finish7   0.041145  0.025046\n",
      "finish8   0.104731  0.036784\n",
      "rept6    -0.036167  0.030390\n",
      "rept     -0.028960  0.031614\n",
      "nrept    -0.031336  0.033774\n",
      "totscyrs  0.090922  0.063950\n",
      "{'count': 572}\n"
     ]
    }
   ],
   "source": [
    "#define ind variables\n",
    "x_var = ['vouch0', 'svy', 'hsvisit', 'djamundi', 'phone', 'age', 'sex2', 'strata1','strata2','strata3','strata4',\n",
    "           'strata5','strata6', 'stratams','dbogota', 'd1993', 'd1995', 'd1997', 'dmonth1','dmonth2','dmonth3','dmonth4',\n",
    "           'dmonth5','dmonth6','dmonth7','dmonth8','dmonth9','dmonth10','dmonth11','dmonth12', 'sex_miss']\n",
    "\n",
    "#coefficients for female and male data respectively\n",
    "for sex in [1,0]:\n",
    "    df = filtered_cohort[(filtered_cohort['sex2']==sex)& (filtered_cohort['bog95smp']==1)]\n",
    "    # Add constant to independent variables\n",
    "    X = sm.add_constant(df[x_var])\n",
    "    # Create OLS model for each y variable  \n",
    "    coeff = {}\n",
    "    sd = {}\n",
    "    for y in dep_var:\n",
    "        model = sm.OLS(df[y], X)\n",
    "        # HC1 for heteroskedasticity-consistent standard errors (SAS /acov equivalent)\n",
    "        results = model.fit(cov_type='HC1')\n",
    "        coeff[y] =results.params['vouch0']\n",
    "        sd[y]=results.bse['vouch0']\n",
    "    bog96_control = pd.DataFrame({'coeff': coeff, 'sd': sd})\n",
    "    print(bog96_control)\n",
    "    print({'count':len(df)})"
   ]
  },
  {
   "cell_type": "markdown",
   "id": "077bac0c-53d0-4a2b-8c9c-61e564cda192",
   "metadata": {},
   "source": [
    "#### Combined: Female and Male Basic Controls"
   ]
  },
  {
   "cell_type": "code",
   "execution_count": 5,
   "id": "c068cb5a-c111-4129-b2e9-f922b6519ff8",
   "metadata": {},
   "outputs": [
    {
     "name": "stdout",
     "output_type": "stream",
     "text": [
      "             coeff        sd\n",
      "prscha_1  0.062864  0.023682\n",
      "prscha_2  0.168773  0.031446\n",
      "prsch_c   0.123528  0.033524\n",
      "scyfnsh   0.055993  0.063111\n",
      "inschl   -0.026311  0.023896\n",
      "finish6   0.002598  0.017397\n",
      "finish7  -0.003332  0.024286\n",
      "finish8   0.065651  0.030854\n",
      "rept6    -0.069601  0.031504\n",
      "rept     -0.075807  0.028607\n",
      "nrept    -0.079082  0.035143\n",
      "totscyrs -0.040871  0.067597\n",
      "{'count': 779}\n",
      "             coeff        sd\n",
      "prscha_1  0.072180  0.021715\n",
      "prscha_2  0.175611  0.029953\n",
      "prsch_c   0.182161  0.032973\n",
      "scyfnsh   0.121720  0.053158\n",
      "inschl    0.029170  0.022708\n",
      "finish6   0.027212  0.012260\n",
      "finish7   0.022232  0.020372\n",
      "finish8   0.078306  0.027680\n",
      "rept6    -0.032620  0.023773\n",
      "rept     -0.034877  0.025300\n",
      "nrept    -0.037013  0.026675\n",
      "totscyrs  0.081021  0.055901\n",
      "{'count': 798}\n"
     ]
    }
   ],
   "source": [
    "#define ind variables\n",
    "x_var = ['vouch0', 'svy', 'hsvisit', 'djamundi', 'phone', 'age', 'sex2', 'strata1','strata2','strata3','strata4',\n",
    "           'strata5','strata6', 'stratams','dbogota', 'd1993', 'd1995', 'd1997', 'dmonth1','dmonth2','dmonth3','dmonth4',\n",
    "           'dmonth5','dmonth6','dmonth7','dmonth8','dmonth9','dmonth10','dmonth11','dmonth12', 'sex_miss']\n",
    "\n",
    "#coefficients for male and female data respectively\n",
    "for sex in [1,0]:\n",
    "    df = filtered_cohort[filtered_cohort['sex2']==sex]\n",
    "    # Add constant to independent variables\n",
    "    X = sm.add_constant(df[x_var])\n",
    "    # Create OLS model for each y variable  \n",
    "    coeff = {}\n",
    "    sd = {}\n",
    "    for y in dep_var:\n",
    "        model = sm.OLS(df[y], X)\n",
    "        results = model.fit(cov_type='HC1')\n",
    "        coeff[y] =results.params['vouch0']\n",
    "        sd[y]=results.bse['vouch0']\n",
    "    combined_tbl = pd.DataFrame({'coeff': coeff, 'sd': sd})\n",
    "    print(combined_tbl)\n",
    "    print({'count':len(df)})"
   ]
  }
 ],
 "metadata": {
  "kernelspec": {
   "display_name": "Python 3 (ipykernel)",
   "language": "python",
   "name": "python3"
  },
  "language_info": {
   "codemirror_mode": {
    "name": "ipython",
    "version": 3
   },
   "file_extension": ".py",
   "mimetype": "text/x-python",
   "name": "python",
   "nbconvert_exporter": "python",
   "pygments_lexer": "ipython3",
   "version": "3.11.12"
  }
 },
 "nbformat": 4,
 "nbformat_minor": 5
}
