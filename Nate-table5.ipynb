{
 "cells": [
  {
   "cell_type": "code",
   "execution_count": 2,
   "id": "026d78e0-e625-4afb-ac8e-90352fe1ad2b",
   "metadata": {},
   "outputs": [],
   "source": [
    "import pandas as pd\n",
    "import numpy as np\n",
    "import statsmodels.api as sm"
   ]
  },
  {
   "cell_type": "code",
   "execution_count": 3,
   "id": "b81928ec-2440-47f0-8ecd-316e2759fd99",
   "metadata": {},
   "outputs": [],
   "source": [
    "df = pd.read_stata(\"aerdat4.dta\")\n",
    "tab5 = pd.read_stata(\"tab5v1.dta\")"
   ]
  },
  {
   "cell_type": "code",
   "execution_count": 4,
   "id": "39114fde-2734-47df-ac70-f34c30a4b6a9",
   "metadata": {},
   "outputs": [
    {
     "data": {
      "text/plain": [
       "Index(['id', 'vouch0', 'sex', 'svy', 'age', 'hsvisit', 'strata1', 'strata2',\n",
       "       'strata3', 'strata4', 'strata5', 'strata6', 'mom_sch', 'dad_sch',\n",
       "       'dad_miss', 'mom_miss', 'math', 'reading', 'writing', 't_site',\n",
       "       'totalpts', 'tsite1', 'tsite2', 'tsite3', 'sex_name', 'bog95smp',\n",
       "       'bog95asd', 'bog97smp', 'bog97asd', 'jam93smp', 'jam93asd', 'test_tak',\n",
       "       'dbogota', 'djamundi', 'd1995', 'd1993', 'd1997', 'phone', 'scyfnsh',\n",
       "       'darea1', 'darea2', 'darea3', 'darea4', 'darea5', 'darea6', 'darea7',\n",
       "       'darea8', 'darea9', 'darea10', 'darea11', 'darea12', 'darea13',\n",
       "       'darea14', 'darea15', 'darea16', 'darea17', 'darea18', 'darea19',\n",
       "       'dmonth1', 'dmonth2', 'dmonth3', 'dmonth4', 'dmonth5', 'dmonth6',\n",
       "       'dmonth7', 'dmonth8', 'dmonth9', 'dmonth10', 'dmonth11', 'dmonth12',\n",
       "       'bog95', 'bog97', 'mom_age', 'mom_mw', 'dad_age', 'dad_mw', 'sex2',\n",
       "       'stratams', 'age2'],\n",
       "      dtype='object')"
      ]
     },
     "execution_count": 4,
     "metadata": {},
     "output_type": "execute_result"
    }
   ],
   "source": [
    "tab5.columns"
   ]
  },
  {
   "cell_type": "code",
   "execution_count": 5,
   "id": "2c5f40c4-8b4c-430b-83bb-e4a367c6b5c3",
   "metadata": {},
   "outputs": [],
   "source": [
    "# Panel A Column 1\n",
    "\n",
    "treatment = 'vouch0'\n",
    "controls = ['tsite1','tsite2','tsite3']\n",
    "ols_vars_panelA = ['totalpts','math','reading','writing']\n",
    "\n",
    "def tab5_panelA_col1(vars, treatment, controls):\n",
    "\n",
    "    for var in vars:\n",
    "        vars_needed = [treatment, var] + controls\n",
    "        data = tab5[vars_needed].dropna()\n",
    "\n",
    "        X = sm.add_constant(data[[treatment] + controls])\n",
    "        y = data[var]\n",
    "\n",
    "        model = sm.OLS(y, X).fit()\n",
    "\n",
    "        coef = model.params[treatment]\n",
    "        std_err = model.bse[treatment]\n",
    "        n = data.shape[0]\n",
    "\n",
    "        print(f\"{var}: coef={round(coef, 4)}, std_err={round(std_err, 4)}, n={n}\")"
   ]
  },
  {
   "cell_type": "code",
   "execution_count": 6,
   "id": "fe511de6-ca5c-42d1-9861-ac614eea5514",
   "metadata": {},
   "outputs": [
    {
     "name": "stdout",
     "output_type": "stream",
     "text": [
      "totalpts: coef=0.2168, std_err=0.1194, n=282\n",
      "math: coef=0.1776, std_err=0.119, n=282\n",
      "reading: coef=0.2036, std_err=0.1201, n=283\n",
      "writing: coef=0.1259, std_err=0.1209, n=283\n"
     ]
    }
   ],
   "source": [
    "tab5_panelA_col1(ols_vars_panelA, treatment, controls)"
   ]
  },
  {
   "cell_type": "code",
   "execution_count": 7,
   "id": "887b8307-886c-40b2-8fc6-5157a0776ce3",
   "metadata": {},
   "outputs": [],
   "source": [
    "# Panel B Column 1\n",
    "\n",
    "ols_vars_panelBandC = ['totalpts','math','reading']\n",
    "\n",
    "def tab5_panelB_col1(vars, treatment, controls):\n",
    "\n",
    "    for var in vars:\n",
    "        vars_needed = [treatment, var] + controls\n",
    "        data = tab5[tab5['sex2'] == 0][vars_needed].dropna()\n",
    "\n",
    "        X = sm.add_constant(data[[treatment] + controls])\n",
    "        y = data[var]\n",
    "\n",
    "        model = sm.OLS(y, X).fit()\n",
    "\n",
    "        coef = model.params[treatment]\n",
    "        std_err = model.bse[treatment]\n",
    "        n = data.shape[0]\n",
    "\n",
    "        print(f\"{var}: coef={round(coef, 4)}, std_err={round(std_err, 4)}, n={n}\")"
   ]
  },
  {
   "cell_type": "code",
   "execution_count": 8,
   "id": "5b9c7225-f87b-46dd-8a95-334842957e9c",
   "metadata": {},
   "outputs": [
    {
     "name": "stdout",
     "output_type": "stream",
     "text": [
      "totalpts: coef=0.2412, std_err=0.1534, n=147\n",
      "math: coef=0.3281, std_err=0.1447, n=147\n",
      "reading: coef=0.1449, std_err=0.1567, n=148\n"
     ]
    }
   ],
   "source": [
    "tab5_panelB_col1(ols_vars_panelBandC, treatment, controls)"
   ]
  },
  {
   "cell_type": "code",
   "execution_count": 9,
   "id": "2fe108c7-d30f-484f-85fe-cbf75d278a0c",
   "metadata": {},
   "outputs": [],
   "source": [
    "# Panel C Column 1\n",
    "\n",
    "def tab5_panelC_col1(vars, treatment, controls):\n",
    "\n",
    "    for var in vars:\n",
    "        vars_needed = [treatment, var] + controls\n",
    "        data = tab5[tab5['sex2'] == 1][vars_needed].dropna()\n",
    "\n",
    "        X = sm.add_constant(data[[treatment] + controls])\n",
    "        y = data[var]\n",
    "\n",
    "        model = sm.OLS(y, X).fit()\n",
    "\n",
    "        coef = model.params[treatment]\n",
    "        std_err = model.bse[treatment]\n",
    "        n = data.shape[0]\n",
    "\n",
    "        print(f\"{var}: coef={round(coef, 4)}, std_err={round(std_err, 4)}, n={n}\")"
   ]
  },
  {
   "cell_type": "code",
   "execution_count": 10,
   "id": "44131a09-7771-4ba9-95f4-180171eba15d",
   "metadata": {},
   "outputs": [
    {
     "name": "stdout",
     "output_type": "stream",
     "text": [
      "totalpts: coef=0.179, std_err=0.1834, n=135\n",
      "math: coef=-0.0083, std_err=0.1884, n=135\n",
      "reading: coef=0.2549, std_err=0.1841, n=135\n"
     ]
    }
   ],
   "source": [
    "tab5_panelC_col1(ols_vars_panelBandC, treatment, controls)"
   ]
  },
  {
   "cell_type": "code",
   "execution_count": 11,
   "id": "8a34c55d-cf71-4c3d-8ce1-bb72021f96c9",
   "metadata": {},
   "outputs": [],
   "source": [
    "# Panel A Column 2\n",
    "\n",
    "treatment = 'vouch0'\n",
    "controls_w_covariates = ['tsite1','tsite2','tsite3','svy','hsvisit','age','sex','mom_sch','strata1','strata2','strata3','strata4','strata5','strata6','dad_sch','mom_miss','dad_miss']\n",
    "\n",
    "def tab5_panelA_col2(vars, treatment, controls):\n",
    "\n",
    "    for var in vars:\n",
    "        vars_needed = [treatment, var] + controls\n",
    "        data = tab5[vars_needed].dropna()\n",
    "\n",
    "        X = sm.add_constant(data[[treatment] + controls])\n",
    "        y = data[var]\n",
    "\n",
    "        model = sm.OLS(y, X).fit()\n",
    "\n",
    "        coef = model.params[treatment]\n",
    "        std_err = model.bse[treatment]\n",
    "        n = data.shape[0]\n",
    "\n",
    "        print(f\"{var}: coef={round(coef, 4)}, std_err={round(std_err, 4)}, n={n}\")"
   ]
  },
  {
   "cell_type": "code",
   "execution_count": 12,
   "id": "971f5a0b-cb4a-4111-b81f-4dc4a835bdd7",
   "metadata": {},
   "outputs": [
    {
     "name": "stdout",
     "output_type": "stream",
     "text": [
      "totalpts: coef=0.2237, std_err=0.1091, n=282\n",
      "math: coef=0.1763, std_err=0.1139, n=282\n",
      "reading: coef=0.2113, std_err=0.1147, n=283\n",
      "writing: coef=0.1391, std_err=0.1132, n=283\n"
     ]
    }
   ],
   "source": [
    "tab5_panelA_col2(ols_vars_panelA, treatment, controls_w_covariates)"
   ]
  },
  {
   "cell_type": "code",
   "execution_count": 13,
   "id": "8b5c35b4-1ead-4f9b-94fe-a62fce76f517",
   "metadata": {},
   "outputs": [],
   "source": [
    "# Panel B Column 2\n",
    "\n",
    "def tab5_panelB_col2(vars, treatment, controls):\n",
    "\n",
    "    for var in vars:\n",
    "        vars_needed = [treatment, var] + controls\n",
    "        data = tab5[tab5['sex2'] == 0][vars_needed].dropna()\n",
    "\n",
    "        X = sm.add_constant(data[[treatment] + controls])\n",
    "        y = data[var]\n",
    "\n",
    "        model = sm.OLS(y, X).fit()\n",
    "\n",
    "        coef = model.params[treatment]\n",
    "        std_err = model.bse[treatment]\n",
    "        n = data.shape[0]\n",
    "\n",
    "        print(f\"{var}: coef={round(coef, 4)}, std_err={round(std_err, 4)}, n={n}\")"
   ]
  },
  {
   "cell_type": "code",
   "execution_count": 14,
   "id": "f394aea0-ded0-459e-ad6f-aa6985c1b867",
   "metadata": {},
   "outputs": [
    {
     "name": "stdout",
     "output_type": "stream",
     "text": [
      "totalpts: coef=0.3046, std_err=0.1324, n=147\n",
      "math: coef=0.3686, std_err=0.1361, n=147\n",
      "reading: coef=0.1775, std_err=0.1494, n=148\n"
     ]
    }
   ],
   "source": [
    "tab5_panelB_col2(ols_vars_panelBandC, treatment, controls_w_covariates)"
   ]
  },
  {
   "cell_type": "code",
   "execution_count": 15,
   "id": "609ce0cc-0c60-4365-aed1-eec8b18aa145",
   "metadata": {},
   "outputs": [],
   "source": [
    "# Panel B Column 2\n",
    "\n",
    "def tab5_panelC_col2(vars, treatment, controls):\n",
    "\n",
    "    for var in vars:\n",
    "        vars_needed = [treatment, var] + controls\n",
    "        data = tab5[tab5['sex2'] == 1][vars_needed].dropna()\n",
    "\n",
    "        X = sm.add_constant(data[[treatment] + controls])\n",
    "        y = data[var]\n",
    "\n",
    "        model = sm.OLS(y, X).fit()\n",
    "\n",
    "        coef = model.params[treatment]\n",
    "        std_err = model.bse[treatment]\n",
    "        n = data.shape[0]\n",
    "\n",
    "        print(f\"{var}: coef={round(coef, 4)}, std_err={round(std_err, 4)}, n={n}\")"
   ]
  },
  {
   "cell_type": "code",
   "execution_count": 16,
   "id": "d172fc63-ec54-4294-8828-11923f806322",
   "metadata": {},
   "outputs": [
    {
     "name": "stdout",
     "output_type": "stream",
     "text": [
      "totalpts: coef=0.1497, std_err=0.1858, n=135\n",
      "math: coef=-0.0134, std_err=0.1926, n=135\n",
      "reading: coef=0.2186, std_err=0.1864, n=135\n"
     ]
    }
   ],
   "source": [
    "tab5_panelC_col2(ols_vars_panelBandC, treatment, controls_w_covariates)"
   ]
  },
  {
   "cell_type": "code",
   "execution_count": 17,
   "id": "e0e3c145-c41d-4fdb-a88f-97a5ad7e4299",
   "metadata": {},
   "outputs": [],
   "source": [
    "# Panel A Column 1\n",
    "\n",
    "treatment = 'vouch0'\n",
    "controls = ['tsite1','tsite2','tsite3']\n",
    "ols_vars_panelA = ['totalpts','math','reading','writing']\n",
    "\n",
    "\n",
    "def tab5_panelA_col3_comb(vars, treatment, controls):\n",
    "\n",
    "    for var in vars:\n",
    "        vars_needed = [treatment, var] + controls\n",
    "        data = tab5[vars_needed].dropna()\n",
    "\n",
    "        X = sm.add_constant(data[[treatment] + controls])\n",
    "        y = data[var]\n",
    "\n",
    "        model = sm.OLS(y, X).fit()\n",
    "\n",
    "        coef = model.params[treatment]\n",
    "        std_err = model.bse[treatment]\n",
    "        n = data.shape[0]\n",
    "\n",
    "        print(f\"{var}: coef={round(coef, 4)}, std_err={round(std_err, 4)}, n={n}\")"
   ]
  },
  {
   "cell_type": "code",
   "execution_count": 18,
   "id": "ac116a40-66e6-4ff1-b1ee-2b8431632d14",
   "metadata": {},
   "outputs": [
    {
     "name": "stdout",
     "output_type": "stream",
     "text": [
      "totalpts: coef=0.2168, std_err=0.1194, n=282\n",
      "math: coef=0.1776, std_err=0.119, n=282\n",
      "reading: coef=0.2036, std_err=0.1201, n=283\n",
      "writing: coef=0.1259, std_err=0.1209, n=283\n"
     ]
    }
   ],
   "source": [
    "tab5_panelA_col3_comb(ols_vars_panelA, treatment, controls)"
   ]
  },
  {
   "cell_type": "code",
   "execution_count": 22,
   "id": "6eb10254-ae90-4d3a-b247-f373bb7b9c51",
   "metadata": {},
   "outputs": [],
   "source": [
    "temp3 = tab5[['id', 'math', 'vouch0', 'tsite1', 'tsite2', 'tsite3']].dropna().copy()\n",
    "temp3['testscor'] = temp3['math']\n",
    "temp3['subject'] = 'math'\n",
    "\n",
    "temp4 = tab5[['id', 'reading', 'vouch0', 'tsite1', 'tsite2', 'tsite3']].dropna().copy()\n",
    "temp4['testscor'] = temp4['reading']\n",
    "temp4['subject'] = 'reading'\n",
    "\n",
    "temp5 = tab5[['id', 'writing', 'vouch0', 'tsite1', 'tsite2', 'tsite3']].dropna().copy()\n",
    "temp5['testscor'] = temp5['writing']\n",
    "temp5['subject'] = 'writing'\n",
    "\n",
    "merge1 = pd.concat([temp3, temp4, temp5], axis=0)\n"
   ]
  },
  {
   "cell_type": "code",
   "execution_count": 23,
   "id": "288b4846-fff9-486e-8964-eb3d5e1973e3",
   "metadata": {},
   "outputs": [
    {
     "name": "stdout",
     "output_type": "stream",
     "text": [
      "Panel A Column 3 (RE):\n"
     ]
    },
    {
     "ename": "NameError",
     "evalue": "name 'panelA_col3_coef' is not defined",
     "output_type": "error",
     "traceback": [
      "\u001b[31m---------------------------------------------------------------------------\u001b[39m",
      "\u001b[31mNameError\u001b[39m                                 Traceback (most recent call last)",
      "\u001b[36mCell\u001b[39m\u001b[36m \u001b[39m\u001b[32mIn[23]\u001b[39m\u001b[32m, line 2\u001b[39m\n\u001b[32m      1\u001b[39m \u001b[38;5;28mprint\u001b[39m(\u001b[33m\"\u001b[39m\u001b[33mPanel A Column 3 (RE):\u001b[39m\u001b[33m\"\u001b[39m)\n\u001b[32m----> \u001b[39m\u001b[32m2\u001b[39m \u001b[38;5;28mprint\u001b[39m(\u001b[33mf\u001b[39m\u001b[33m\"\u001b[39m\u001b[33mcoef = \u001b[39m\u001b[38;5;132;01m{\u001b[39;00m\u001b[38;5;28mround\u001b[39m(\u001b[43mpanelA_col3_coef\u001b[49m,\u001b[38;5;250m \u001b[39m\u001b[32m3\u001b[39m)\u001b[38;5;132;01m}\u001b[39;00m\u001b[33m\"\u001b[39m)\n\u001b[32m      3\u001b[39m \u001b[38;5;28mprint\u001b[39m(\u001b[33mf\u001b[39m\u001b[33m\"\u001b[39m\u001b[33m(std err = \u001b[39m\u001b[38;5;132;01m{\u001b[39;00m\u001b[38;5;28mround\u001b[39m(panelA_col3_se,\u001b[38;5;250m \u001b[39m\u001b[32m3\u001b[39m)\u001b[38;5;132;01m}\u001b[39;00m\u001b[33m)\u001b[39m\u001b[33m\"\u001b[39m)\n\u001b[32m      5\u001b[39m \u001b[38;5;28mprint\u001b[39m(\u001b[33m\"\u001b[39m\u001b[33mPanel A Column 4 (RE + covariates):\u001b[39m\u001b[33m\"\u001b[39m)\n",
      "\u001b[31mNameError\u001b[39m: name 'panelA_col3_coef' is not defined"
     ]
    }
   ],
   "source": [
    "print(\"Panel A Column 3 (RE):\")\n",
    "print(f\"coef = {round(panelA_col3_coef, 3)}\")\n",
    "print(f\"(std err = {round(panelA_col3_se, 3)})\")\n",
    "\n",
    "print(\"Panel A Column 4 (RE + covariates):\")\n",
    "print(f\"coef = {round(panelA_col4_coef, 3)}\")\n",
    "print(f\"(std err = {round(panelA_col4_se, 3)})\")\n"
   ]
  },
  {
   "cell_type": "code",
   "execution_count": 24,
   "id": "dec89312-fc8d-4d6a-bdfb-66a241dd68f2",
   "metadata": {},
   "outputs": [
    {
     "ename": "NameError",
     "evalue": "name 'smf' is not defined",
     "output_type": "error",
     "traceback": [
      "\u001b[31m---------------------------------------------------------------------------\u001b[39m",
      "\u001b[31mNameError\u001b[39m                                 Traceback (most recent call last)",
      "\u001b[36mCell\u001b[39m\u001b[36m \u001b[39m\u001b[32mIn[24]\u001b[39m\u001b[32m, line 5\u001b[39m\n\u001b[32m      2\u001b[39m merge_mr = merge1[merge1[\u001b[33m'\u001b[39m\u001b[33msubject\u001b[39m\u001b[33m'\u001b[39m].isin([\u001b[33m'\u001b[39m\u001b[33mmath\u001b[39m\u001b[33m'\u001b[39m, \u001b[33m'\u001b[39m\u001b[33mreading\u001b[39m\u001b[33m'\u001b[39m])]\n\u001b[32m      4\u001b[39m \u001b[38;5;66;03m# === Panel A Column 3: RE without covariates ===\u001b[39;00m\n\u001b[32m----> \u001b[39m\u001b[32m5\u001b[39m model3 = \u001b[43msmf\u001b[49m.mixedlm(\u001b[33m\"\u001b[39m\u001b[33mtestscor ~ vouch0 + tsite1 + tsite2 + tsite3\u001b[39m\u001b[33m\"\u001b[39m,\n\u001b[32m      6\u001b[39m                      data=merge_mr,\n\u001b[32m      7\u001b[39m                      groups=merge_mr[\u001b[33m\"\u001b[39m\u001b[33mid\u001b[39m\u001b[33m\"\u001b[39m])\n\u001b[32m      8\u001b[39m result3 = model3.fit()\n\u001b[32m     10\u001b[39m panelA_col3_coef = result3.params[\u001b[33m'\u001b[39m\u001b[33mvouch0\u001b[39m\u001b[33m'\u001b[39m]\n",
      "\u001b[31mNameError\u001b[39m: name 'smf' is not defined"
     ]
    }
   ],
   "source": [
    "# Filter out writing scores for math+reading version\n",
    "merge_mr = merge1[merge1['subject'].isin(['math', 'reading'])]\n",
    "\n",
    "# === Panel A Column 3: RE without covariates ===\n",
    "model3 = smf.mixedlm(\"testscor ~ vouch0 + tsite1 + tsite2 + tsite3\",\n",
    "                     data=merge_mr,\n",
    "                     groups=merge_mr[\"id\"])\n",
    "result3 = model3.fit()\n",
    "\n",
    "panelA_col3_coef = result3.params['vouch0']\n",
    "panelA_col3_se = result3.bse['vouch0']\n",
    "\n",
    "# === Panel A Column 4: RE with covariates ===\n",
    "covariates = ['svy','hsvisit','age','sex','mom_sch','strata1','strata2','strata3',\n",
    "              'strata4','strata5','strata6','dad_sch','mom_miss','dad_miss']\n",
    "controls = ['tsite1','tsite2','tsite3'] + covariates\n",
    "\n",
    "required_cols = ['id', 'testscor', 'vouch0'] + controls\n",
    "merge_mr_wcov = merge_mr.dropna(subset=required_cols)\n",
    "\n",
    "model4 = smf.mixedlm(\"testscor ~ vouch0 + \" + \" + \".join(controls),\n",
    "                     data=merge_mr_wcov,\n",
    "                     groups=merge_mr_wcov[\"id\"])\n",
    "result4 = model4.fit()\n",
    "\n",
    "panelA_col4_coef = result4.params['vouch0']\n",
    "panelA_col4_se = result4.bse['vouch0']\n"
   ]
  },
  {
   "cell_type": "code",
   "execution_count": null,
   "id": "3bcf203b-3e10-4981-9ade-5702c8254c92",
   "metadata": {},
   "outputs": [],
   "source": []
  }
 ],
 "metadata": {
  "kernelspec": {
   "display_name": "Python 3 (ipykernel)",
   "language": "python",
   "name": "python3"
  },
  "language_info": {
   "codemirror_mode": {
    "name": "ipython",
    "version": 3
   },
   "file_extension": ".py",
   "mimetype": "text/x-python",
   "name": "python",
   "nbconvert_exporter": "python",
   "pygments_lexer": "ipython3",
   "version": "3.11.12"
  }
 },
 "nbformat": 4,
 "nbformat_minor": 5
}
