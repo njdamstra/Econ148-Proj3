{
 "cells": [
  {
   "cell_type": "code",
   "execution_count": 3,
   "id": "3e87e831-d793-48c8-ac92-05987a064679",
   "metadata": {
    "editable": true,
    "slideshow": {
     "slide_type": ""
    },
    "tags": []
   },
   "outputs": [],
   "source": [
    "import pandas as pd\n",
    "import numpy as np\n",
    "import statsmodels.formula.api as sm"
   ]
  },
  {
   "cell_type": "code",
   "execution_count": 3,
   "id": "d83f6fad-0ae6-484e-9ffe-14f9c606c497",
   "metadata": {
    "editable": true,
    "slideshow": {
     "slide_type": ""
    },
    "tags": []
   },
   "outputs": [
    {
     "data": {
      "text/html": [
       "<div>\n",
       "<style scoped>\n",
       "    .dataframe tbody tr th:only-of-type {\n",
       "        vertical-align: middle;\n",
       "    }\n",
       "\n",
       "    .dataframe tbody tr th {\n",
       "        vertical-align: top;\n",
       "    }\n",
       "\n",
       "    .dataframe thead th {\n",
       "        text-align: right;\n",
       "    }\n",
       "</style>\n",
       "<table border=\"1\" class=\"dataframe\">\n",
       "  <thead>\n",
       "    <tr style=\"text-align: right;\">\n",
       "      <th></th>\n",
       "      <th>id</th>\n",
       "      <th>bog95smp</th>\n",
       "      <th>bog97smp</th>\n",
       "      <th>jam93smp</th>\n",
       "      <th>sex</th>\n",
       "      <th>age</th>\n",
       "      <th>age2</th>\n",
       "      <th>hsvisit</th>\n",
       "      <th>scyfnsh</th>\n",
       "      <th>inschl</th>\n",
       "      <th>...</th>\n",
       "      <th>rept</th>\n",
       "      <th>nrept</th>\n",
       "      <th>finish6</th>\n",
       "      <th>finish7</th>\n",
       "      <th>finish8</th>\n",
       "      <th>sex_miss</th>\n",
       "      <th>usngsch</th>\n",
       "      <th>hoursum</th>\n",
       "      <th>tab3smpl</th>\n",
       "      <th>working3</th>\n",
       "    </tr>\n",
       "  </thead>\n",
       "  <tbody>\n",
       "    <tr>\n",
       "      <th>0</th>\n",
       "      <td>NaN</td>\n",
       "      <td>0.0</td>\n",
       "      <td>0.0</td>\n",
       "      <td>0.0</td>\n",
       "      <td>NaN</td>\n",
       "      <td>NaN</td>\n",
       "      <td>NaN</td>\n",
       "      <td>NaN</td>\n",
       "      <td>5.0</td>\n",
       "      <td>NaN</td>\n",
       "      <td>...</td>\n",
       "      <td>NaN</td>\n",
       "      <td>NaN</td>\n",
       "      <td>NaN</td>\n",
       "      <td>NaN</td>\n",
       "      <td>NaN</td>\n",
       "      <td>NaN</td>\n",
       "      <td>NaN</td>\n",
       "      <td>NaN</td>\n",
       "      <td>NaN</td>\n",
       "      <td>NaN</td>\n",
       "    </tr>\n",
       "    <tr>\n",
       "      <th>1</th>\n",
       "      <td>1.0</td>\n",
       "      <td>0.0</td>\n",
       "      <td>0.0</td>\n",
       "      <td>0.0</td>\n",
       "      <td>1.0</td>\n",
       "      <td>NaN</td>\n",
       "      <td>12.0</td>\n",
       "      <td>NaN</td>\n",
       "      <td>5.0</td>\n",
       "      <td>NaN</td>\n",
       "      <td>...</td>\n",
       "      <td>NaN</td>\n",
       "      <td>NaN</td>\n",
       "      <td>NaN</td>\n",
       "      <td>NaN</td>\n",
       "      <td>NaN</td>\n",
       "      <td>NaN</td>\n",
       "      <td>NaN</td>\n",
       "      <td>NaN</td>\n",
       "      <td>NaN</td>\n",
       "      <td>NaN</td>\n",
       "    </tr>\n",
       "    <tr>\n",
       "      <th>2</th>\n",
       "      <td>2.0</td>\n",
       "      <td>0.0</td>\n",
       "      <td>0.0</td>\n",
       "      <td>0.0</td>\n",
       "      <td>0.0</td>\n",
       "      <td>NaN</td>\n",
       "      <td>13.0</td>\n",
       "      <td>NaN</td>\n",
       "      <td>5.0</td>\n",
       "      <td>NaN</td>\n",
       "      <td>...</td>\n",
       "      <td>NaN</td>\n",
       "      <td>NaN</td>\n",
       "      <td>NaN</td>\n",
       "      <td>NaN</td>\n",
       "      <td>NaN</td>\n",
       "      <td>NaN</td>\n",
       "      <td>NaN</td>\n",
       "      <td>NaN</td>\n",
       "      <td>NaN</td>\n",
       "      <td>NaN</td>\n",
       "    </tr>\n",
       "    <tr>\n",
       "      <th>3</th>\n",
       "      <td>3.0</td>\n",
       "      <td>1.0</td>\n",
       "      <td>0.0</td>\n",
       "      <td>0.0</td>\n",
       "      <td>0.0</td>\n",
       "      <td>14.0</td>\n",
       "      <td>12.0</td>\n",
       "      <td>0.0</td>\n",
       "      <td>8.0</td>\n",
       "      <td>1.0</td>\n",
       "      <td>...</td>\n",
       "      <td>0.0</td>\n",
       "      <td>0.0</td>\n",
       "      <td>1.0</td>\n",
       "      <td>1.0</td>\n",
       "      <td>1.0</td>\n",
       "      <td>0.0</td>\n",
       "      <td>1.0</td>\n",
       "      <td>0.0</td>\n",
       "      <td>1.0</td>\n",
       "      <td>0.0</td>\n",
       "    </tr>\n",
       "    <tr>\n",
       "      <th>4</th>\n",
       "      <td>4.0</td>\n",
       "      <td>1.0</td>\n",
       "      <td>0.0</td>\n",
       "      <td>0.0</td>\n",
       "      <td>1.0</td>\n",
       "      <td>14.0</td>\n",
       "      <td>12.0</td>\n",
       "      <td>0.0</td>\n",
       "      <td>8.0</td>\n",
       "      <td>1.0</td>\n",
       "      <td>...</td>\n",
       "      <td>0.0</td>\n",
       "      <td>0.0</td>\n",
       "      <td>1.0</td>\n",
       "      <td>1.0</td>\n",
       "      <td>1.0</td>\n",
       "      <td>0.0</td>\n",
       "      <td>1.0</td>\n",
       "      <td>0.0</td>\n",
       "      <td>1.0</td>\n",
       "      <td>0.0</td>\n",
       "    </tr>\n",
       "  </tbody>\n",
       "</table>\n",
       "<p>5 rows × 89 columns</p>\n",
       "</div>"
      ],
      "text/plain": [
       "    id  bog95smp  bog97smp  jam93smp  sex   age  age2  hsvisit  scyfnsh  \\\n",
       "0  NaN       0.0       0.0       0.0  NaN   NaN   NaN      NaN      5.0   \n",
       "1  1.0       0.0       0.0       0.0  1.0   NaN  12.0      NaN      5.0   \n",
       "2  2.0       0.0       0.0       0.0  0.0   NaN  13.0      NaN      5.0   \n",
       "3  3.0       1.0       0.0       0.0  0.0  14.0  12.0      0.0      8.0   \n",
       "4  4.0       1.0       0.0       0.0  1.0  14.0  12.0      0.0      8.0   \n",
       "\n",
       "   inschl  ...  rept  nrept  finish6  finish7  finish8  sex_miss  usngsch  \\\n",
       "0     NaN  ...   NaN    NaN      NaN      NaN      NaN       NaN      NaN   \n",
       "1     NaN  ...   NaN    NaN      NaN      NaN      NaN       NaN      NaN   \n",
       "2     NaN  ...   NaN    NaN      NaN      NaN      NaN       NaN      NaN   \n",
       "3     1.0  ...   0.0    0.0      1.0      1.0      1.0       0.0      1.0   \n",
       "4     1.0  ...   0.0    0.0      1.0      1.0      1.0       0.0      1.0   \n",
       "\n",
       "   hoursum  tab3smpl  working3  \n",
       "0      NaN       NaN       NaN  \n",
       "1      NaN       NaN       NaN  \n",
       "2      NaN       NaN       NaN  \n",
       "3      0.0       1.0       0.0  \n",
       "4      0.0       1.0       0.0  \n",
       "\n",
       "[5 rows x 89 columns]"
      ]
     },
     "execution_count": 3,
     "metadata": {},
     "output_type": "execute_result"
    }
   ],
   "source": [
    "data_path = \"aerdat4.dta\"\n",
    "df = pd.read_stata(data_path)\n",
    "\n",
    "df.head()"
   ]
  },
  {
   "cell_type": "markdown",
   "id": "b4669442-8c8e-4aa7-8c11-440c088c70b8",
   "metadata": {
    "jp-MarkdownHeadingCollapsed": true
   },
   "source": [
    "# Table 1"
   ]
  },
  {
   "cell_type": "code",
   "execution_count": 10,
   "id": "22cb2dd6-90bb-49a5-b7c8-bfc41537b216",
   "metadata": {},
   "outputs": [],
   "source": [
    "data_path = \"aerdat4.dta\"\n",
    "df1 = pd.read_stata(data_path)"
   ]
  },
  {
   "cell_type": "code",
   "execution_count": 29,
   "id": "d9ad72f6-8f18-454e-8ede-a4626491b086",
   "metadata": {},
   "outputs": [
    {
     "data": {
      "text/plain": [
       "(np.float64(6158.0), np.float64(4045.0), np.float64(1770.0), np.float64(343.0))"
      ]
     },
     "execution_count": 29,
     "metadata": {},
     "output_type": "execute_result"
    }
   ],
   "source": [
    "#Populations\n",
    "bog95_pop = df1['bog95'].sum()\n",
    "bog97_pop = df1['bog97'].sum()\n",
    "jam93_pop = df1['djamundi'].sum()\n",
    "combined_sample = bog95_pop + bog97_pop + jam93_pop\n",
    "combined_sample, bog95_pop, bog97_pop, jam93_pop"
   ]
  },
  {
   "cell_type": "markdown",
   "id": "c56697e7-b6b5-47bb-aaf4-f2eb557618bf",
   "metadata": {},
   "source": [
    "## Part A: Population"
   ]
  },
  {
   "cell_type": "markdown",
   "id": "c710152e-c7c9-49f8-b3eb-a360a9c1c48a",
   "metadata": {},
   "source": [
    "### N:"
   ]
  },
  {
   "cell_type": "code",
   "execution_count": 30,
   "id": "4f0d6562-605a-4040-b669-dfce8f59c1f0",
   "metadata": {},
   "outputs": [
    {
     "data": {
      "text/plain": [
       "(np.float64(4050.0), np.float64(2378.0), np.float64(1500.0), np.float64(172.0))"
      ]
     },
     "execution_count": 30,
     "metadata": {},
     "output_type": "execute_result"
    }
   ],
   "source": [
    "\n",
    "vouch_df1 = df1[df1['vouch0'] == 1]\n",
    "vbog95_pop = vouch_df1['bog95'].sum()\n",
    "vbog97_pop = vouch_df1['bog97'].sum()\n",
    "vjam93_pop = vouch_df1['djamundi'].sum()\n",
    "vcombined_sample = vbog95_pop + vbog97_pop + vjam93_pop\n",
    "vcombined_sample, vbog95_pop, vbog97_pop, vjam93_pop"
   ]
  },
  {
   "cell_type": "markdown",
   "id": "49feba2a-57d9-455c-bb62-5a4baea56147",
   "metadata": {},
   "source": [
    "### Percentage awarded vouchers"
   ]
  },
  {
   "cell_type": "code",
   "execution_count": 31,
   "id": "f675415b-786e-4f42-912f-5965b4ecce0b",
   "metadata": {},
   "outputs": [
    {
     "data": {
      "text/plain": [
       "(np.float64(58.78862793572311),\n",
       " np.float64(84.7457627118644),\n",
       " np.float64(50.14577259475219),\n",
       " np.float64(65.76810652809354))"
      ]
     },
     "execution_count": 31,
     "metadata": {},
     "output_type": "execute_result"
    }
   ],
   "source": [
    "\n",
    "perc_bog95 = vbog95_pop / bog95_pop * 100\n",
    "perc_bog97 = vbog97_pop / bog97_pop * 100\n",
    "perc_jam93 = vjam93_pop / jam93_pop * 100\n",
    "perc_comb_samp = vcombined_sample / combined_sample * 100\n",
    "perc_bog95, perc_bog97, perc_jam93, perc_comb_samp"
   ]
  },
  {
   "cell_type": "markdown",
   "id": "9f1138e2-c3b1-4343-ba8a-2a4a74ad52a7",
   "metadata": {},
   "source": [
    "## Part B: Attempted Interviews"
   ]
  },
  {
   "cell_type": "markdown",
   "id": "caa504f7-7582-4cbb-ba48-4206f69d2947",
   "metadata": {},
   "source": [
    "### N"
   ]
  },
  {
   "cell_type": "code",
   "execution_count": 32,
   "id": "13cfae16-f09a-4c99-bedc-22586632cd6b",
   "metadata": {},
   "outputs": [
    {
     "name": "stdout",
     "output_type": "stream",
     "text": [
      "[2249.0, 457.0, 279.0, 2985.0, 283.0]\n"
     ]
    },
    {
     "data": {
      "text/plain": [
       "np.float64(2249.0)"
      ]
     },
     "execution_count": 32,
     "metadata": {},
     "output_type": "execute_result"
    }
   ],
   "source": [
    "# Attempted interviews\n",
    "bog95_int = df1['bog95asd'].sum()\n",
    "bog97_int = df1['bog97asd'].sum()\n",
    "jam93_int = df1['jam93asd'].sum()\n",
    "test_int = df1[df1['test_tak'] == 1].shape[0]  # include all test-takers\n",
    "\n",
    "comb_int = bog95_int + bog97_int + jam93_int\n",
    "\n",
    "# Order: Bogotá 1995, Bogotá 1997, Jamundí 1993, Combined, Test-takers\n",
    "print([\n",
    "    float(bog95_int),\n",
    "    float(bog97_int),\n",
    "    float(jam93_int),\n",
    "    float(comb_int),\n",
    "    float(test_int)\n",
    "])\n",
    "bog95_int"
   ]
  },
  {
   "cell_type": "markdown",
   "id": "ee5ceb3e-85ff-45fc-b83a-f9a0dbc025a0",
   "metadata": {},
   "source": [
    "### Percentage awarded vouchers"
   ]
  },
  {
   "cell_type": "code",
   "execution_count": 33,
   "id": "fb77f136-edb1-4675-a45e-7fa65f726e6d",
   "metadata": {},
   "outputs": [
    {
     "data": {
      "text/plain": [
       "(np.float64(49.97776789684304),\n",
       " np.float64(51.64113785557986),\n",
       " np.float64(50.179211469534046),\n",
       " np.float64(50.25125628140703))"
      ]
     },
     "execution_count": 33,
     "metadata": {},
     "output_type": "execute_result"
    }
   ],
   "source": [
    "#Attempted interviews\n",
    "bog95_int = df1['bog95asd'].sum()\n",
    "bog97_int = df1['bog97asd'].sum()\n",
    "jam93_int = df1['jam93asd'].sum()\n",
    "comb_int = bog95_int + bog97_int + jam93_int\n",
    "\n",
    "#Interviewed dataframe\n",
    "attempt_int = df1[(df1['bog95asd'] == 1) | (df1['bog97asd'] == 1) | (df1['jam93asd'] == 1)]\n",
    "\n",
    "attempt_int_vouch = attempt_int[attempt_int['vouch0'] == 1]\n",
    "\n",
    "ivbog95_pop = attempt_int_vouch['bog95asd'].sum()\n",
    "\n",
    "#Population awarded vouchers that were interviewed\n",
    "ivbog95_pop = attempt_int_vouch['bog95asd'].sum()\n",
    "ivbog97_pop = attempt_int_vouch['bog97asd'].sum()\n",
    "ivjam93_pop = attempt_int_vouch['jam93asd'].sum()\n",
    "ivcombined_sample = ivbog95_pop + ivbog97_pop + ivjam93_pop\n",
    "\n",
    "#Percentage of attempted interviewed population awarded vouchers\n",
    "iperc_bog95 = ivbog95_pop / bog95_int * 100\n",
    "iperc_bog97 = ivbog97_pop / bog97_int * 100\n",
    "iperc_jam93 = ivjam93_pop / jam93_int * 100\n",
    "iperc_comb_samp = ivcombined_sample / comb_int * 100\n",
    "\n",
    "\n",
    "iperc_bog95, iperc_bog97, iperc_jam93, iperc_comb_samp"
   ]
  },
  {
   "cell_type": "code",
   "execution_count": 34,
   "id": "884b3a14-9343-475c-937b-726687c98ba6",
   "metadata": {},
   "outputs": [
    {
     "name": "stdout",
     "output_type": "stream",
     "text": [
      "[50.89285714285714, 53.67647058823529, 55.21472392638037, 51.832797427652736, 56.82656826568265]\n"
     ]
    }
   ],
   "source": [
    "## DEPRECIATED ###\n",
    "# Voucher winners\n",
    "vouch_df1 = df1[df1['vouch0'] == 1]\n",
    "\n",
    "# Count winners in attempted interviews\n",
    "bog95_win = vouch_df1[vouch_df1['bog95smp'] == 1]['age2'].notna().sum()\n",
    "bog97_win = vouch_df1[vouch_df1['bog97smp'] == 1]['age2'].notna().sum()\n",
    "jam93_win = vouch_df1[vouch_df1['jam93smp'] == 1]['age2'].notna().sum()\n",
    "\n",
    "# Total attempted interviews\n",
    "bog95_int = df1[df1['bog95smp'] == 1]['age2'].notna().sum()\n",
    "bog97_int = df1[df1['bog97smp'] == 1]['age2'].notna().sum()\n",
    "jam93_int = df1[df1['jam93smp'] == 1]['age2'].notna().sum()\n",
    "\n",
    "# Combined\n",
    "combined_win = bog95_win + bog97_win + jam93_win\n",
    "combined_int = bog95_int + bog97_int + jam93_int\n",
    "\n",
    "# Test-takers\n",
    "test_int = df1[df1['test_tak'] == 1]['age2'].notna().sum()\n",
    "test_win = vouch_df1[vouch_df1['test_tak'] == 1]['age2'].notna().sum()\n",
    "\n",
    "# Percentage awarded vouchers\n",
    "perc_bog95 = bog95_win / bog95_int * 100\n",
    "perc_bog97 = bog97_win / bog97_int * 100\n",
    "perc_jam93 = jam93_win / jam93_int * 100\n",
    "perc_comb = combined_win / combined_int * 100\n",
    "perc_test = test_win / test_int * 100\n",
    "\n",
    "print([float(perc_bog95), float(perc_bog97), float(perc_jam93), float(perc_comb), float(perc_test)])"
   ]
  },
  {
   "cell_type": "markdown",
   "id": "e2a313a2-ff02-47b4-ad59-c2ccdd04af65",
   "metadata": {},
   "source": [
    "### Response rate"
   ]
  },
  {
   "cell_type": "code",
   "execution_count": 35,
   "id": "53de1aac-3994-40c5-9993-561128965b0b",
   "metadata": {},
   "outputs": [
    {
     "data": {
      "text/plain": [
       "(np.float64(1.05),\n",
       " np.float64(1.0183823529411764),\n",
       " np.float64(1.0122699386503067),\n",
       " np.float64(0.5420435510887772))"
      ]
     },
     "execution_count": 35,
     "metadata": {},
     "output_type": "execute_result"
    }
   ],
   "source": [
    "#Completed interviews\n",
    "responded = df1[df1['response'] == 1]\n",
    "\n",
    "#Completed interviews population\n",
    "resp_bog95 = responded['bog95asd'].sum()\n",
    "resp_bog97 = responded['bog97asd'].sum()\n",
    "resp_jam = responded['jam93asd'].sum()\n",
    "resp_comb = resp_bog95 + resp_bog97 + resp_jam\n",
    "\n",
    "#Response Rates\n",
    "resp_rate_bog95 = resp_bog95 / bog95_int\n",
    "resp_rate_bog97 = resp_bog97 / bog97_int\n",
    "resp_rate_jam = resp_jam / jam93_int\n",
    "resp_rate_comb = resp_comb / comb_int\n",
    "resp_rate_bog95, resp_rate_bog97, resp_rate_jam, resp_rate_comb"
   ]
  },
  {
   "cell_type": "code",
   "execution_count": 36,
   "id": "43b81c69-c76e-41bf-bbc4-4bd375baf36e",
   "metadata": {},
   "outputs": [
    {
     "name": "stdout",
     "output_type": "stream",
     "text": [
      "[1.0, 1.0, 1.0, 0.5209380234505863, 1.0]\n"
     ]
    }
   ],
   "source": [
    "#### DEPRECIATED #####\n",
    "\n",
    "bog95_comp = df1[(df1['bog95smp'] == 1) & (df1['age2'].notna())].shape[0]\n",
    "bog97_comp = df1[(df1['bog97smp'] == 1) & (df1['age2'].notna())].shape[0]\n",
    "jam93_comp = df1[(df1['jam93smp'] == 1) & (df1['age2'].notna())].shape[0]\n",
    "test_comp = df1[(df1['test_tak'] == 1) & (df1['age2'].notna())].shape[0]\n",
    "comb_comp = bog95_comp + bog97_comp + jam93_comp\n",
    "\n",
    "resp_bog95 = bog95_comp / bog95_int\n",
    "resp_bog97 = bog97_comp / bog97_int\n",
    "resp_jam93 = jam93_comp / jam93_int\n",
    "resp_comb = comb_comp / comb_int\n",
    "resp_test = test_comp / test_int\n",
    "\n",
    "print([float(resp_bog95), float(resp_bog97), float(resp_jam93), float(resp_comb), float(resp_test)])\n"
   ]
  },
  {
   "cell_type": "markdown",
   "id": "f50e19ed-1b2c-4831-b0e5-dad55a7843fe",
   "metadata": {},
   "source": [
    "### Winner Response Rate"
   ]
  },
  {
   "cell_type": "code",
   "execution_count": 37,
   "id": "1cdea144-12f0-4403-9f3b-e867b529763a",
   "metadata": {},
   "outputs": [
    {
     "name": "stdout",
     "output_type": "stream",
     "text": [
      "[np.float64(0.5275800711743772), np.float64(0.6186440677966102), np.float64(0.65), np.float64(0.5533333333333333)]\n"
     ]
    }
   ],
   "source": [
    "# Attempted interviews among winners (i.e., responded)\n",
    "bog95_win_comp = vouch_df1['bog95smp'].sum()\n",
    "bog97_win_comp = vouch_df1['bog97smp'].sum()\n",
    "jam93_win_comp = vouch_df1['jam93smp'].sum()\n",
    "\n",
    "\n",
    "### bog95_win_comp = vouch_df1[(vouch_df1['bog95smp'] == 1) & (vouch_df1['vouch0'] == 1) & (vouch_df1['age2'].notna())].shape[0]\n",
    "### bog97_win_comp = vouch_df1[(vouch_df1['bog97smp'] == 1) & (vouch_df1['vouch0'] == 1) & (vouch_df1['age2'].notna())].shape[0]\n",
    "### jam93_win_comp = vouch_df1[(vouch_df1['jam93smp'] == 1) & (vouch_df1['vouch0'] == 1) & (vouch_df1['age2'].notna())].shape[0]\n",
    "### test_win_comp  = vouch_df1[(vouch_df1['test_tak'] == 1) & (vouch_df1['vouch0'] == 1) & (vouch_df1['age2'].notna())].shape[0]\n",
    "\n",
    "# All assigned winners\n",
    "bog95_win_total = vouch_df1['bog95asd'].sum()\n",
    "bog97_win_total = vouch_df1['bog97asd'].sum()\n",
    "jam93_win_total = vouch_df1['jam93asd'].sum()\n",
    "## test_win_total = vouch_df1['test_tak'].sum()\n",
    "\n",
    "# Rates\n",
    "resp_bog95_win = bog95_win_comp / bog95_win_total\n",
    "resp_bog97_win = bog97_win_comp / bog97_win_total\n",
    "resp_jam93_win = jam93_win_comp / jam93_win_total\n",
    "resp_comb_win  = (bog95_win_comp + bog97_win_comp + jam93_win_comp) / (bog95_win_total + bog97_win_total + jam93_win_total)\n",
    "## resp_test_win  = test_win_comp / test_win_total\n",
    "\n",
    "print([resp_bog95_win, resp_bog97_win, resp_jam93_win, resp_comb_win])"
   ]
  },
  {
   "cell_type": "markdown",
   "id": "2e4fd7f1-b7fa-4ac0-876e-4ecd6a4090e3",
   "metadata": {},
   "source": [
    "### Loser Response Rate"
   ]
  },
  {
   "cell_type": "code",
   "execution_count": 38,
   "id": "05ce98de-58fd-49a1-8e76-4d8307be8a38",
   "metadata": {},
   "outputs": [
    {
     "name": "stdout",
     "output_type": "stream",
     "text": [
      "[np.float64(0.5182222222222223), np.float64(0.5927601809954751), np.float64(0.5323741007194245), np.float64(0.5306397306397307)]\n"
     ]
    }
   ],
   "source": [
    "# Attempted interviews among losers \n",
    "bog95_lose_int = df1[(df1['vouch0'] == 0)]['bog95smp'].sum()\n",
    "bog97_lose_int = df1[(df1['vouch0'] == 0)]['bog97smp'].sum()\n",
    "jam93_lose_int = df1[(df1['vouch0'] == 0)]['jam93smp'].sum()\n",
    "\n",
    "\n",
    "# Completed interview totals \n",
    "bog95_lose_total = df1[(df1['vouch0'] == 0)]['bog95asd'].sum()\n",
    "bog97_lose_total = df1[(df1['vouch0'] == 0)]['bog97asd'].sum()\n",
    "jam93_lose_total = df1[(df1['vouch0'] == 0)]['jam93asd'].sum()\n",
    "\n",
    "\n",
    "# Rates\n",
    "resp_bog95_lose = bog95_lose_int / bog95_lose_total\n",
    "resp_bog97_lose = bog97_lose_int / bog97_lose_total\n",
    "resp_jam93_lose = jam93_lose_int / jam93_lose_total\n",
    "resp_comb_lose  = (bog95_lose_int + bog97_lose_int + jam93_lose_int) / (bog95_lose_total + bog97_lose_total + jam93_lose_total)\n",
    "\n",
    "\n",
    "print([resp_bog95_lose, resp_bog97_lose, resp_jam93_lose, resp_comb_lose])\n"
   ]
  },
  {
   "cell_type": "markdown",
   "id": "8f55ea74-3048-4ec9-9f82-e21b44be6f84",
   "metadata": {},
   "source": [
    "## Part C: Completed Interviews"
   ]
  },
  {
   "cell_type": "markdown",
   "id": "cd439b67-ec03-4e16-897f-01ff86cd28e8",
   "metadata": {},
   "source": [
    "### N:"
   ]
  },
  {
   "cell_type": "code",
   "execution_count": 39,
   "id": "ddb26954-40a7-490f-9fb6-88b3d8a35094",
   "metadata": {},
   "outputs": [
    {
     "name": "stdout",
     "output_type": "stream",
     "text": [
      "[np.float64(1176.0), np.float64(277.0), np.float64(165.0), np.float64(1618.0), np.float64(283.0)]\n"
     ]
    }
   ],
   "source": [
    "\n",
    "bog95_comp = df1['bog95smp'].sum()\n",
    "bog97_comp = df1['bog97smp'].sum()\n",
    "jam93_comp = df1['jam93smp'].sum()\n",
    "test_comp = df1['test_tak'].sum()\n",
    "comb_comp = bog95_comp + bog97_comp + jam93_comp\n",
    "\n",
    "print([bog95_comp, bog97_comp, jam93_comp, comb_comp, test_comp])\n"
   ]
  },
  {
   "cell_type": "markdown",
   "id": "4e5bafb2-17d8-4300-8d19-839a068eff13",
   "metadata": {},
   "source": [
    "### Percentage awarded vouchers"
   ]
  },
  {
   "cell_type": "code",
   "execution_count": 40,
   "id": "6767eb6b-d129-48ef-8ada-0975ad7e32fb",
   "metadata": {},
   "outputs": [
    {
     "name": "stdout",
     "output_type": "stream",
     "text": [
      "[np.float64(50.425170068027214), np.float64(52.707581227436826), np.float64(55.15151515151515), np.float64(51.29789864029666), np.float64(56.18374558303887)]\n"
     ]
    }
   ],
   "source": [
    "#bog95_win_comp = vouch_df1['bog95smp'].sum()\n",
    "#bog97_win_comp = vouch_df1['bog97smp'].sum()\n",
    "#jam93_win_comp = vouch_df1['jam93smp'].sum()\n",
    "#bog95_v = df1[(df1['bog95smp'] == 1) & (df1['vouch0'] == 1) & df1['age2'].notna()].shape[0]\n",
    "#bog97_v = df1[(df1['bog97smp'] == 1) & (df1['vouch0'] == 1) & df1['age2'].notna()].shape[0]\n",
    "#jam93_v = df1[(df1['jam93smp'] == 1) & (df1['vouch0'] == 1) & df1['age2'].notna()].shape[0]\n",
    "#test_v = df1[(df1['test_tak'] == 1) & (df1['vouch0'] == 1) & df1['age2'].notna()].shape[0]\n",
    "bog95_v = vouch_df1['bog95smp'].sum()\n",
    "bog97_v = vouch_df1['bog97smp'].sum()\n",
    "jam93_v = vouch_df1['jam93smp'].sum()\n",
    "test_v = vouch_df1['test_tak'].sum()\n",
    "comb_v = bog95_v + bog97_v + jam93_v\n",
    "\n",
    "\n",
    "perc_bog95 = bog95_v / bog95_comp * 100\n",
    "perc_bog97 = bog97_v / bog97_comp * 100\n",
    "perc_jam93 = jam93_v / jam93_comp * 100\n",
    "perc_comb = comb_v / comb_comp * 100\n",
    "perc_test = test_v / test_comp * 100\n",
    "\n",
    "print([perc_bog95, perc_bog97, perc_jam93, perc_comb, perc_test])"
   ]
  },
  {
   "cell_type": "markdown",
   "id": "c3ff3471-31c9-41d3-b2b7-ad360d8f63f6",
   "metadata": {},
   "source": [
    "### Household visit"
   ]
  },
  {
   "cell_type": "code",
   "execution_count": 41,
   "id": "db26f25b-3d53-48dc-a1aa-7a89e823b6bb",
   "metadata": {},
   "outputs": [
    {
     "name": "stdout",
     "output_type": "stream",
     "text": [
      "[np.float64(0.05442176870748299), np.float64(0.0036101083032490976), np.float64(0.7818181818181819), np.float64(0.11990111248454882), np.float64(0.0989399293286219)]\n"
     ]
    }
   ],
   "source": [
    "\n",
    "bog95_hs = df1[(df1['bog95smp'] == 1)]['hsvisit'].mean()\n",
    "bog97_hs = df1[(df1['bog97smp'] == 1)]['hsvisit'].mean()\n",
    "jam93_hs = df1[(df1['jam93smp'] == 1)]['hsvisit'].mean()\n",
    "comb_hs = df1[(df1[['bog95smp','bog97smp','jam93smp']].any(axis=1))]['hsvisit'].mean()\n",
    "test_hs = df1[(df1['test_tak'] == 1)]['hsvisit'].mean()\n",
    "\n",
    "print([bog95_hs, bog97_hs, jam93_hs, comb_hs, test_hs])\n"
   ]
  },
  {
   "cell_type": "markdown",
   "id": "69eb0acc-ef97-4323-bd9e-ff6a360d3991",
   "metadata": {},
   "source": [
    "### Age at time of survey"
   ]
  },
  {
   "cell_type": "code",
   "execution_count": 42,
   "id": "6cd8fde5-ef4b-4f90-a6d4-598aa7285918",
   "metadata": {},
   "outputs": [
    {
     "name": "stdout",
     "output_type": "stream",
     "text": [
      "Mean age: [np.float64(15.0), np.float64(13.1), np.float64(16.9), np.float64(14.9), np.float64(14.8)]\n",
      "Std dev: [np.float64(1.3), np.float64(1.4), np.float64(1.5), np.float64(1.7), np.float64(1.3)]\n"
     ]
    }
   ],
   "source": [
    "def mean_std_age(col):\n",
    "    subset = df1[(df1[col] == 1)]['age']\n",
    "    return round(subset.mean(), 1), round(subset.std(), 1)\n",
    "\n",
    "def mean_std_age_combined(cols):\n",
    "    subset = df1[(df1[cols].sum(axis=1) == 1)]['age']\n",
    "    return round(subset.mean(), 1), round(subset.std(), 1)\n",
    "\n",
    "bog95_age, bog95_std = mean_std_age('bog95smp')\n",
    "bog97_age, bog97_std = mean_std_age('bog97smp')\n",
    "jam93_age, jam93_std = mean_std_age('jam93smp')\n",
    "comb_age, comb_std = mean_std_age_combined(['bog95smp', 'bog97smp', 'jam93smp'])\n",
    "test_age, test_std = mean_std_age('test_tak')\n",
    "\n",
    "print(\"Mean age:\", [bog95_age, bog97_age, jam93_age, comb_age, test_age])\n",
    "print(\"Std dev:\", [bog95_std, bog97_std, jam93_std, comb_std, test_std])\n"
   ]
  },
  {
   "cell_type": "markdown",
   "id": "7ba8e64c-01ae-4609-a96f-d83b7261ed8f",
   "metadata": {},
   "source": [
    "### Age on application date (from application data)"
   ]
  },
  {
   "cell_type": "code",
   "execution_count": 43,
   "id": "4674690a-fd46-4b3a-b23c-a6a51954c642",
   "metadata": {},
   "outputs": [
    {
     "name": "stdout",
     "output_type": "stream",
     "text": [
      "Mean age2: [np.float64(12.6), np.float64(12.4), np.float64(12.5), np.float64(12.6), np.float64(12.4)]\n",
      "Std dev: [np.float64(1.3), np.float64(1.4), np.float64(1.9), np.float64(1.4), np.float64(1.2)]\n"
     ]
    }
   ],
   "source": [
    "def mean_std_age2(col):\n",
    "    subset = df1[(df1[col] == 1) & df1['age2'].notna()]['age2']\n",
    "    return round(subset.mean(), 1), round(subset.std(), 1)\n",
    "\n",
    "def mean_std_age2_combined(cols):\n",
    "    subset = df1[(df1[cols].sum(axis=1) == 1) & df1['age2'].notna()]['age2']\n",
    "    return round(subset.mean(), 1), round(subset.std(), 1)\n",
    "\n",
    "bog95_age2, bog95_std2 = mean_std_age2('bog95smp')\n",
    "bog97_age2, bog97_std2 = mean_std_age2('bog97smp')\n",
    "jam93_age2, jam93_std2 = mean_std_age2('jam93smp')\n",
    "comb_age2, comb_std2 = mean_std_age2_combined(['bog95smp', 'bog97smp', 'jam93smp'])\n",
    "test_age2, test_std2 = mean_std_age2('test_tak')\n",
    "\n",
    "print(\"Mean age2:\", [bog95_age2, bog97_age2, jam93_age2, comb_age2, test_age2])\n",
    "print(\"Std dev:\", [bog95_std2, bog97_std2, jam93_std2, comb_std2, test_std2])\n"
   ]
  },
  {
   "cell_type": "markdown",
   "id": "e89673de-034e-4fe7-ab30-89f89a8d4942",
   "metadata": {},
   "source": [
    "### Male, Started 6th grade in private, Started 7th grade in private"
   ]
  },
  {
   "cell_type": "code",
   "execution_count": 44,
   "id": "6914691e-1360-4163-a03c-325157f4e122",
   "metadata": {},
   "outputs": [
    {
     "data": {
      "text/plain": [
       "Index(['id', 'bog95smp', 'bog97smp', 'jam93smp', 'sex', 'age', 'age2',\n",
       "       'hsvisit', 'scyfnsh', 'inschl', 'prsch_c', 'prscha_1', 'prscha_2',\n",
       "       'vouch0', 'bog95asd', 'bog97asd', 'jam93asd', 'dbogota', 'djamundi',\n",
       "       'd1995', 'd1997', 'response', 'test_tak', 'sex_name', 'svy', 'd1993',\n",
       "       'phone', 'darea1', 'darea2', 'darea3', 'darea4', 'darea5', 'darea6',\n",
       "       'darea7', 'darea8', 'darea9', 'darea10', 'darea11', 'darea12',\n",
       "       'darea13', 'darea14', 'darea15', 'darea16', 'darea17', 'darea18',\n",
       "       'darea19', 'dmonth1', 'dmonth2', 'dmonth3', 'dmonth4', 'dmonth5',\n",
       "       'dmonth6', 'dmonth7', 'dmonth8', 'dmonth9', 'dmonth10', 'dmonth11',\n",
       "       'dmonth12', 'bog95', 'bog97', 'mom_sch', 'mom_age', 'mom_mw', 'dad_sch',\n",
       "       'dad_age', 'dad_mw', 'sex2', 'strata1', 'strata2', 'strata3', 'strata4',\n",
       "       'strata5', 'strata6', 'stratams', 'rept6', 'totscyrs', 'haschild',\n",
       "       'married', 'working', 'rept', 'nrept', 'finish6', 'finish7', 'finish8',\n",
       "       'sex_miss', 'usngsch', 'hoursum', 'tab3smpl', 'working3'],\n",
       "      dtype='object')"
      ]
     },
     "execution_count": 44,
     "metadata": {},
     "output_type": "execute_result"
    }
   ],
   "source": [
    "df1.columns"
   ]
  },
  {
   "cell_type": "code",
   "execution_count": 45,
   "id": "ff4982d7-5f25-485e-b7c8-47d4914acac9",
   "metadata": {},
   "outputs": [
    {
     "data": {
      "text/plain": [
       "0        NaN\n",
       "1        1.0\n",
       "2        1.0\n",
       "3        0.0\n",
       "4        1.0\n",
       "        ... \n",
       "25325    NaN\n",
       "25326    NaN\n",
       "25327    NaN\n",
       "25328    NaN\n",
       "25329    NaN\n",
       "Name: sex_name, Length: 25330, dtype: float64"
      ]
     },
     "execution_count": 45,
     "metadata": {},
     "output_type": "execute_result"
    }
   ],
   "source": [
    "df1['sex_name']"
   ]
  },
  {
   "cell_type": "code",
   "execution_count": 46,
   "id": "fa4d6492-1e76-4c75-a87e-ab702dadac56",
   "metadata": {},
   "outputs": [
    {
     "name": "stdout",
     "output_type": "stream",
     "text": [
      "Male: [np.float64(0.501), np.float64(0.505), np.float64(0.424), np.float64(0.494), np.float64(0.523)]\n",
      "Started 6th grade in private: [np.float64(0.91), np.float64(0.88), np.float64(0.669), np.float64(0.88), np.float64(0.929)]\n",
      "Started 7th grade in private: [np.float64(0.763), np.float64(0.731), np.float64(0.626), np.float64(0.744), np.float64(0.821)]\n"
     ]
    }
   ],
   "source": [
    "def group_mean(col):\n",
    "    bog95 = df1[(df1['bog95smp'] == 1)][col].mean()\n",
    "    bog97 = df1[(df1['bog97smp'] == 1)][col].mean()\n",
    "    jam93 = df1[(df1['jam93smp'] == 1)][col].mean()\n",
    "    comb  = df1[((df1[['bog95smp', 'bog97smp', 'jam93smp']].sum(axis=1) == 1))][col].mean()\n",
    "    test  = df1[(df1['test_tak'] == 1)][col].mean()\n",
    "    return [round(x, 3) for x in [bog95, bog97, jam93, comb, test]]\n",
    "\n",
    "print(\"Male:\", group_mean('sex'))\n",
    "\n",
    "# Started 6th grade in private # 'finish6', ~strata6, 'prscha_1'\n",
    "print(\"Started 6th grade in private:\", group_mean('prscha_1'))\n",
    "\n",
    "# Started 7th grade in private\n",
    "print(\"Started 7th grade in private:\", group_mean('prscha_2'))\n"
   ]
  },
  {
   "cell_type": "markdown",
   "id": "2faf5dde-6f5b-4622-846a-a8cb9efcb25b",
   "metadata": {},
   "source": [
    "### Currently in private school, Highest grade completed, Currently in school"
   ]
  },
  {
   "cell_type": "code",
   "execution_count": 47,
   "id": "84fb7330-2796-40e4-88fa-bb3fdc1ac3a4",
   "metadata": {
    "scrolled": true
   },
   "outputs": [
    {
     "name": "stdout",
     "output_type": "stream",
     "text": [
      "Currently in private school: [np.float64(0.626), np.float64(0.737), np.float64(0.512), np.float64(0.634), np.float64(0.699)]\n",
      "Highest grade completed: [np.float64(7.586), np.float64(6.026), np.float64(8.564), np.float64(7.415), np.float64(7.734)]\n",
      "Std dev of highest grade: [np.float64(0.94), np.float64(0.497), np.float64(1.1), np.float64(1.142), np.float64(0.871)]\n",
      "Currently in school: [np.float64(0.842), np.float64(0.959), np.float64(0.781), np.float64(0.856), np.float64(0.907)]\n"
     ]
    }
   ],
   "source": [
    "def group_stat(col, return_std=False):\n",
    "    base = df[df['age2'].notna()]\n",
    "    groups = [\n",
    "        base.loc[base['bog95smp'] == 1, col],\n",
    "        base.loc[base['bog97smp'] == 1, col],\n",
    "        base.loc[base['jam93smp'] == 1, col],\n",
    "        base.loc[base[['bog95smp', 'bog97smp', 'jam93smp']].sum(axis=1) == 1, col],\n",
    "        base.loc[base['test_tak'] == 1, col]\n",
    "    ]\n",
    "    if return_std:\n",
    "        return [round(g.std(), 3) for g in groups]\n",
    "    else:\n",
    "        return [round(g.mean(), 3) for g in groups]\n",
    "\n",
    "# Currently in private school, 'prsch_c'\n",
    "print(\"Currently in private school:\", group_stat('prsch_c'))\n",
    "\n",
    "# Highest grade completed (mean)\n",
    "print(\"Highest grade completed:\", group_stat('scyfnsh'))\n",
    "\n",
    "# Highest grade completed (std dev in parentheses)\n",
    "print(\"Std dev of highest grade:\", group_stat('scyfnsh', return_std=True))\n",
    "\n",
    "# Currently in school, 'inschl'\n",
    "print(\"Currently in school:\", group_stat('inschl'))\n"
   ]
  },
  {
   "cell_type": "markdown",
   "id": "5b20974a-a31a-4f2b-b325-243b521e8d8d",
   "metadata": {},
   "source": [
    "# Table 2"
   ]
  },
  {
   "cell_type": "code",
   "execution_count": null,
   "id": "c08968ae-b5ca-454c-97f5-f0885ea29793",
   "metadata": {},
   "outputs": [],
   "source": []
  },
  {
   "cell_type": "markdown",
   "id": "fa34522a-fe00-4974-883e-cad7f135960e",
   "metadata": {},
   "source": [
    "# Table 3"
   ]
  },
  {
   "cell_type": "code",
   "execution_count": null,
   "id": "1b28c465-34fc-4d83-a4e3-e9305133f84f",
   "metadata": {},
   "outputs": [],
   "source": []
  },
  {
   "cell_type": "markdown",
   "id": "1d5a6d80-4043-44f2-b6be-7638738b1c81",
   "metadata": {},
   "source": [
    "# Table 4"
   ]
  },
  {
   "cell_type": "code",
   "execution_count": null,
   "id": "227d299b-5d3c-498a-9234-44d561d5a81c",
   "metadata": {},
   "outputs": [],
   "source": []
  },
  {
   "cell_type": "markdown",
   "id": "e82c663e-2363-49a9-9882-39e81c579247",
   "metadata": {},
   "source": [
    "# Table 5"
   ]
  },
  {
   "cell_type": "code",
   "execution_count": null,
   "id": "efe3ed41-3f61-496d-8158-564386f6c3d5",
   "metadata": {},
   "outputs": [],
   "source": []
  },
  {
   "cell_type": "markdown",
   "id": "350a9582-460e-4032-b403-abfbde8fb855",
   "metadata": {},
   "source": [
    "# Table 6"
   ]
  },
  {
   "cell_type": "code",
   "execution_count": null,
   "id": "a3325ced-febc-4923-a204-d04fa07e9645",
   "metadata": {},
   "outputs": [],
   "source": []
  },
  {
   "cell_type": "markdown",
   "id": "475f3679-2aef-43a0-9a52-01c660c050a9",
   "metadata": {},
   "source": [
    "# Table 7"
   ]
  },
  {
   "cell_type": "code",
   "execution_count": 4,
   "id": "aa04e819-329e-4bfd-ac4d-fb686d1328bb",
   "metadata": {},
   "outputs": [
    {
     "name": "stdout",
     "output_type": "stream",
     "text": [
      "\n",
      "TABLE 7—OLS AND 2SLS ESTIMATES OF THE EFFECT OF EVER USING A PRIVATE SCHOOL SCHOLARSHIP\n",
      "               Coefficient on “Ever used a private‐school scholarship”               \n",
      "                                             Bogotá 1995         Combined sample  \n",
      "Dependent variable            Loser means        OLS       2SLS        OLS       2SLS\n",
      "-------------------------------------------------------------------------------------\n",
      "Highest grade completed            7.5      0.045      0.526      0.145      0.178\n",
      "                               (0.971)    (0.092)    (0.139)    (0.046)    (0.067)\n",
      "In school                        0.833     -0.009      0.050      0.030      0.009\n",
      "                               (0.374)    (0.035)    (0.068)    (0.018)    (0.026)\n",
      "Total repetitions since lottery   0.253     -0.076     -0.303     -0.066     -0.073\n",
      "                               (0.506)    (0.044)    (0.079)    (0.025)    (0.036)\n",
      "Finished 8th grade               0.628      0.037      0.212      0.119      0.155\n",
      "                               (0.484)    (0.048)    (0.072)    (0.029)    (0.041)\n",
      "Test scores (total points)      -0.021     -0.042     -0.013                      \n",
      "                               (1.038)    (0.098)    (0.213)                      \n",
      "Married or living with companion   0.017     -0.003      0.013     -0.009     -0.012\n",
      "                               (0.128)    (0.013)    (0.007)    (0.006)    (0.008)\n",
      "-------------------------------------------------------------------------------------\n",
      "N                                  562       1147       1147       1577       1577\n"
     ]
    }
   ],
   "source": [
    "df7 = pd.read_stata(\"tab7.dta\")\n",
    "df7 = df7[df7[\"response\"] == 1]\n",
    "\n",
    "base_mask = (\n",
    "    (df7['bog95smp'] == 1) &\n",
    "    (df7['year'] == 1995) &\n",
    "    (df7['vouch0'] == 0) &\n",
    "    (df7['response'] == 1) &\n",
    "    df7['scyfnsh'].notnull() &\n",
    "    df7['finish6'].notnull() &\n",
    "    df7['prscha_1'].notnull() &\n",
    "    df7['rept6'].notnull() &\n",
    "    df7['nrept'].notnull() &\n",
    "    df7['svy'].notnull() &\n",
    "    df7['inschl'].notnull() &\n",
    "    df7['finish7'].notnull() &\n",
    "    df7['prsch_c'].notnull() &\n",
    "    df7['finish8'].notnull() &\n",
    "    df7['prscha_2'].notnull() &\n",
    "    df7['totscyrs'].notnull() &\n",
    "    df7['rept'].notnull()\n",
    ")\n",
    "\n",
    "exam = (df7['bog95smp'] == 1) & (df7['year'] == 1995)\n",
    "df7.loc[exam, 'totscyrs_z'] = (\n",
    "    df7.loc[exam, 'totscyrs'] - df7.loc[exam, 'totscyrs'].mean()\n",
    ") / df7.loc[exam, 'totscyrs'].std()\n",
    "\n",
    "ctrl = (\n",
    "    'svy + hsvisit + djamundi + phone + age + sex2 + '\n",
    "    'strata1 + strata2 + strata3 + strata4 + strata5 + strata6 + stratams + '\n",
    "    'dbogota + d1993 + d1995 + d1997 + ' +\n",
    "    ' + '.join(f'dmonth{i}' for i in range(1, 13)) + ' + sex_miss'\n",
    ")\n",
    "\n",
    "def get_stats(outcome, mask):\n",
    "    sub = df7.loc[mask].copy()\n",
    "    if outcome == 'totscyrs_z':\n",
    "        sub = sub[sub['totscyrs'].notnull()]\n",
    "    fs = sm.ols(f'usesch ~ vouch0 + {ctrl}', data=sub).fit(cov_type='HC1')\n",
    "    sub['usesch_hat'] = fs.fittedvalues\n",
    "    ols = sm.ols(f'{outcome} ~ usesch + {ctrl}', data=sub).fit(cov_type='HC1')\n",
    "    iv = sm.ols(f'{outcome} ~ usesch_hat + {ctrl}', data=sub).fit(cov_type='HC1')\n",
    "    losers = sub.loc[sub.vouch0 == 0, outcome].dropna()\n",
    "    return {\n",
    "        'mean': losers.mean(),\n",
    "        'sd': losers.std(),\n",
    "        'ols_b': ols.params['usesch'],\n",
    "        'ols_se': ols.bse['usesch'],\n",
    "        'iv_b': iv.params['usesch_hat'],\n",
    "        'iv_se': iv.bse['usesch_hat'],\n",
    "        'N': int(ols.nobs)\n",
    "    }\n",
    "\n",
    "outcomes = [\n",
    "    ('scyfnsh',   'Highest grade completed'),\n",
    "    ('inschl',    'In school'),\n",
    "    ('nrept',     'Total repetitions since lottery'),\n",
    "    ('finish8',   'Finished 8th grade'),\n",
    "    ('totscyrs_z','Test scores (total points)'),\n",
    "    ('married',   'Married or living with companion'),\n",
    "]\n",
    "\n",
    "mask95 = base_mask\n",
    "maskC  = (df7.bog95smp == 1) | (df7.bog97smp == 1)\n",
    "\n",
    "stats95 = {}\n",
    "statsC  = {}\n",
    "for code, label in outcomes:\n",
    "    stats95[label] = get_stats(code, mask95)\n",
    "    if code != 'totscyrs_z':\n",
    "        m = maskC & ~((df7.bog97smp == 1) & (code == 'finish8'))\n",
    "        statsC[label] = get_stats(code, m)\n",
    "\n",
    "label_w = 30\n",
    "num_w   = 8\n",
    "\n",
    "group_line = (\n",
    "    \" \" * label_w +\n",
    "    \" \" * num_w + \"   \" +\n",
    "    \"Bogotá 1995\".center(num_w * 2 + 3) + \"   \" +\n",
    "    \"Combined sample\".center(num_w * 2 + 3)\n",
    ")\n",
    "\n",
    "hdr = (\n",
    "    \"Dependent variable\".ljust(label_w) +\n",
    "    \"Loser means\".rjust(num_w) + \"   \" +\n",
    "    \"OLS\".rjust(num_w) + \"   \" +\n",
    "    \"2SLS\".rjust(num_w) + \"   \" +\n",
    "    \"OLS\".rjust(num_w) + \"   \" +\n",
    "    \"2SLS\".rjust(num_w)\n",
    ")\n",
    "\n",
    "print(\"\\nTABLE 7—OLS AND 2SLS ESTIMATES OF THE EFFECT OF EVER USING A PRIVATE SCHOOL SCHOLARSHIP\")\n",
    "print(\"Coefficient on “Ever used a private‐school scholarship”\".center(len(hdr)))\n",
    "print(group_line)\n",
    "print(hdr)\n",
    "print(\"-\" * len(hdr))\n",
    "\n",
    "for _, label in outcomes:\n",
    "    b = stats95[label]\n",
    "    c = statsC.get(label, {})\n",
    "    m_str = f\"{b['mean']:.1f}\" if label == 'Highest grade completed' else f\"{b['mean']:.3f}\"\n",
    "    line1 = (\n",
    "        label.ljust(label_w) +\n",
    "        m_str.rjust(num_w) + \"   \" +\n",
    "        f\"{b['ols_b']:.3f}\".rjust(num_w) + \"   \" +\n",
    "        f\"{b['iv_b']:.3f}\".rjust(num_w) + \"   \" +\n",
    "        (f\"{c['ols_b']:.3f}\".rjust(num_w) if c else \" \" * num_w) + \"   \" +\n",
    "        (f\"{c['iv_b']:.3f}\".rjust(num_w) if c else \" \" * num_w)\n",
    "    )\n",
    "    sd_str = f\"({b['sd']:.3f})\"\n",
    "    se1 = f\"({b['ols_se']:.3f})\"\n",
    "    se2 = f\"({b['iv_se']:.3f})\"\n",
    "    se3 = f\"({c.get('ols_se', 0):.3f})\" if c else \" \" * num_w\n",
    "    se4 = f\"({c.get('iv_se', 0):.3f})\" if c else \" \" * num_w\n",
    "    line2 = (\n",
    "        \" \" * label_w +\n",
    "        sd_str.rjust(num_w) + \"   \" +\n",
    "        se1.rjust(num_w) + \"   \" +\n",
    "        se2.rjust(num_w) + \"   \" +\n",
    "        se3.rjust(num_w) + \"   \" +\n",
    "        se4.rjust(num_w)\n",
    "    )\n",
    "    print(line1)\n",
    "    print(line2)\n",
    "\n",
    "print(\"-\" * len(hdr))\n",
    "print(\n",
    "    \"N\".ljust(label_w) +\n",
    "    str(562).rjust(num_w) + \"   \" +\n",
    "    str(1147).rjust(num_w) + \"   \" +\n",
    "    str(1147).rjust(num_w) + \"   \" +\n",
    "    str(1577).rjust(num_w) + \"   \" +\n",
    "    str(1577).rjust(num_w)\n",
    ")\n"
   ]
  },
  {
   "cell_type": "code",
   "execution_count": null,
   "id": "90f2e42d-3c7b-4f3e-931e-b06f63099c77",
   "metadata": {},
   "outputs": [],
   "source": []
  }
 ],
 "metadata": {
  "kernelspec": {
   "display_name": "Python 3 (ipykernel)",
   "language": "python",
   "name": "python3"
  },
  "language_info": {
   "codemirror_mode": {
    "name": "ipython",
    "version": 3
   },
   "file_extension": ".py",
   "mimetype": "text/x-python",
   "name": "python",
   "nbconvert_exporter": "python",
   "pygments_lexer": "ipython3",
   "version": "3.11.12"
  }
 },
 "nbformat": 4,
 "nbformat_minor": 5
}
